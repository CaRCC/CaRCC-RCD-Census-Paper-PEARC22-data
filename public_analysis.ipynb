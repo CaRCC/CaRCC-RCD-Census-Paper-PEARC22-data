{
 "cells": [
  {
   "cell_type": "markdown",
   "id": "ba4ee089-8fe9-40d8-83c1-7645d0904213",
   "metadata": {
    "tags": []
   },
   "source": [
    "# Analysis\n",
    "\n",
    "This file contains the public data analysis for \"Characterizing the US Research Computing and Data (RCD) Workforce.\""
   ]
  },
  {
   "cell_type": "code",
   "execution_count": 1,
   "id": "4c1c6335-c919-485d-950a-2da4fb5b228c",
   "metadata": {},
   "outputs": [
    {
     "name": "stderr",
     "output_type": "stream",
     "text": [
      "── \u001b[1mAttaching packages\u001b[22m ────────────────────────────────────────────────────────────────────────── tidyverse 1.3.1 ──\n",
      "\n",
      "\u001b[32m✔\u001b[39m \u001b[34mggplot2\u001b[39m 3.3.6     \u001b[32m✔\u001b[39m \u001b[34mpurrr  \u001b[39m 0.3.4\n",
      "\u001b[32m✔\u001b[39m \u001b[34mtibble \u001b[39m 3.1.7     \u001b[32m✔\u001b[39m \u001b[34mdplyr  \u001b[39m 1.0.9\n",
      "\u001b[32m✔\u001b[39m \u001b[34mtidyr  \u001b[39m 1.2.0     \u001b[32m✔\u001b[39m \u001b[34mstringr\u001b[39m 1.4.0\n",
      "\u001b[32m✔\u001b[39m \u001b[34mreadr  \u001b[39m 2.1.2     \u001b[32m✔\u001b[39m \u001b[34mforcats\u001b[39m 0.5.1\n",
      "\n",
      "── \u001b[1mConflicts\u001b[22m ───────────────────────────────────────────────────────────────────────────── tidyverse_conflicts() ──\n",
      "\u001b[31m✖\u001b[39m \u001b[34mdplyr\u001b[39m::\u001b[32mfilter()\u001b[39m masks \u001b[34mstats\u001b[39m::filter()\n",
      "\u001b[31m✖\u001b[39m \u001b[34mdplyr\u001b[39m::\u001b[32mlag()\u001b[39m    masks \u001b[34mstats\u001b[39m::lag()\n",
      "\n"
     ]
    }
   ],
   "source": [
    "library(tidyverse, warn.conflicts = FALSE)\n",
    "library(janitor, warn.conflicts = FALSE) # chisq.test, fisher.test are masked from package:stats"
   ]
  },
  {
   "cell_type": "markdown",
   "id": "e060548e-ba4c-49d1-9b3b-c273669987fe",
   "metadata": {},
   "source": [
    "## Data"
   ]
  },
  {
   "cell_type": "code",
   "execution_count": 2,
   "id": "3ad79dc4-11d1-4ba8-a0f0-c84495568605",
   "metadata": {},
   "outputs": [],
   "source": [
    "all_freq <- read_csv(\"data_to_share/var_frequencies_all_respondents.csv\", show_col_types = FALSE)\n",
    "institutions <- read_csv(\"data_to_share/institutions_all.csv\", show_col_types = FALSE)\n",
    "all_edu_work <- read_csv(\"data_to_share/education_work_all_respondents.csv\", show_col_types = FALSE)\n",
    "rcd_edu_work <- read_csv(\"data_to_share/education_work_rcd_respondents.csv\", show_col_types = FALSE)\n",
    "gender <- read_csv(\"data_to_share/gender_counts.csv\", show_col_types = FALSE)\n",
    "ethnicity <- read_csv(\"data_to_share/ethnicity_counts.csv\", show_col_types = FALSE)\n",
    "jobs <- read_csv(\"data_to_share/job_titles.csv\", show_col_types = FALSE)\n",
    "facings <- read_csv(\"data_to_share/facings.csv\", show_col_types = FALSE)\n",
    "satisfaction <- read_csv(\"data_to_share/satisfaction_rcd_respondents.csv\", show_col_types = FALSE)\n",
    "inclusion <- read_csv(\"data_to_share/inclusion.csv\", show_col_types = FALSE)"
   ]
  },
  {
   "cell_type": "markdown",
   "id": "1b9176a8-a9ae-4399-b70a-57a95080b492",
   "metadata": {},
   "source": [
    "## 3: Surveying the Workforce\n",
    "\n",
    "### Institution Counts"
   ]
  },
  {
   "cell_type": "code",
   "execution_count": 3,
   "id": "d564dcd2-e42b-4a18-bd78-4948588cc48d",
   "metadata": {},
   "outputs": [
    {
     "data": {
      "text/html": [
       "175"
      ],
      "text/latex": [
       "175"
      ],
      "text/markdown": [
       "175"
      ],
      "text/plain": [
       "[1] 175"
      ]
     },
     "metadata": {},
     "output_type": "display_data"
    }
   ],
   "source": [
    "length(unique(institutions$institution_code))"
   ]
  },
  {
   "cell_type": "code",
   "execution_count": 77,
   "id": "2162290f-36d8-4d3c-8aa4-91b75d35222e",
   "metadata": {},
   "outputs": [
    {
     "data": {
      "text/html": [
       "<table class=\"dataframe\">\n",
       "<caption>A tabyl: 9 × 4</caption>\n",
       "<thead>\n",
       "\t<tr><th></th><th scope=col>institution_type</th><th scope=col>n</th><th scope=col>percent</th><th scope=col>valid_percent</th></tr>\n",
       "\t<tr><th></th><th scope=col>&lt;chr&gt;</th><th scope=col>&lt;int&gt;</th><th scope=col>&lt;dbl&gt;</th><th scope=col>&lt;dbl&gt;</th></tr>\n",
       "</thead>\n",
       "<tbody>\n",
       "\t<tr><th scope=row>1</th><td>Academic Computing Center</td><td> 5</td><td>0.028571429</td><td>0.02873563</td></tr>\n",
       "\t<tr><th scope=row>2</th><td>Company                  </td><td> 8</td><td>0.045714286</td><td>0.04597701</td></tr>\n",
       "\t<tr><th scope=row>3</th><td>Government               </td><td> 5</td><td>0.028571429</td><td>0.02873563</td></tr>\n",
       "\t<tr><th scope=row>4</th><td>Medical                  </td><td>10</td><td>0.057142857</td><td>0.05747126</td></tr>\n",
       "\t<tr><th scope=row>5</th><td>Other                    </td><td> 7</td><td>0.040000000</td><td>0.04022989</td></tr>\n",
       "\t<tr><th scope=row>6</th><td>Other Academic           </td><td>18</td><td>0.102857143</td><td>0.10344828</td></tr>\n",
       "\t<tr><th scope=row>7</th><td>R1                       </td><td>91</td><td>0.520000000</td><td>0.52298851</td></tr>\n",
       "\t<tr><th scope=row>8</th><td>R2                       </td><td>30</td><td>0.171428571</td><td>0.17241379</td></tr>\n",
       "\t<tr><th scope=row>9</th><td>NA                       </td><td> 1</td><td>0.005714286</td><td>        NA</td></tr>\n",
       "</tbody>\n",
       "</table>\n"
      ],
      "text/latex": [
       "A tabyl: 9 × 4\n",
       "\\begin{tabular}{r|llll}\n",
       "  & institution\\_type & n & percent & valid\\_percent\\\\\n",
       "  & <chr> & <int> & <dbl> & <dbl>\\\\\n",
       "\\hline\n",
       "\t1 & Academic Computing Center &  5 & 0.028571429 & 0.02873563\\\\\n",
       "\t2 & Company                   &  8 & 0.045714286 & 0.04597701\\\\\n",
       "\t3 & Government                &  5 & 0.028571429 & 0.02873563\\\\\n",
       "\t4 & Medical                   & 10 & 0.057142857 & 0.05747126\\\\\n",
       "\t5 & Other                     &  7 & 0.040000000 & 0.04022989\\\\\n",
       "\t6 & Other Academic            & 18 & 0.102857143 & 0.10344828\\\\\n",
       "\t7 & R1                        & 91 & 0.520000000 & 0.52298851\\\\\n",
       "\t8 & R2                        & 30 & 0.171428571 & 0.17241379\\\\\n",
       "\t9 & NA                        &  1 & 0.005714286 &         NA\\\\\n",
       "\\end{tabular}\n"
      ],
      "text/markdown": [
       "\n",
       "A tabyl: 9 × 4\n",
       "\n",
       "| <!--/--> | institution_type &lt;chr&gt; | n &lt;int&gt; | percent &lt;dbl&gt; | valid_percent &lt;dbl&gt; |\n",
       "|---|---|---|---|---|\n",
       "| 1 | Academic Computing Center |  5 | 0.028571429 | 0.02873563 |\n",
       "| 2 | Company                   |  8 | 0.045714286 | 0.04597701 |\n",
       "| 3 | Government                |  5 | 0.028571429 | 0.02873563 |\n",
       "| 4 | Medical                   | 10 | 0.057142857 | 0.05747126 |\n",
       "| 5 | Other                     |  7 | 0.040000000 | 0.04022989 |\n",
       "| 6 | Other Academic            | 18 | 0.102857143 | 0.10344828 |\n",
       "| 7 | R1                        | 91 | 0.520000000 | 0.52298851 |\n",
       "| 8 | R2                        | 30 | 0.171428571 | 0.17241379 |\n",
       "| 9 | NA                        |  1 | 0.005714286 |         NA |\n",
       "\n"
      ],
      "text/plain": [
       "  institution_type          n  percent     valid_percent\n",
       "1 Academic Computing Center  5 0.028571429 0.02873563   \n",
       "2 Company                    8 0.045714286 0.04597701   \n",
       "3 Government                 5 0.028571429 0.02873563   \n",
       "4 Medical                   10 0.057142857 0.05747126   \n",
       "5 Other                      7 0.040000000 0.04022989   \n",
       "6 Other Academic            18 0.102857143 0.10344828   \n",
       "7 R1                        91 0.520000000 0.52298851   \n",
       "8 R2                        30 0.171428571 0.17241379   \n",
       "9 NA                         1 0.005714286         NA   "
      ]
     },
     "metadata": {},
     "output_type": "display_data"
    }
   ],
   "source": [
    "institutions %>%\n",
    "  distinct(institution_code, .keep_all=TRUE) %>%\n",
    "  tabyl(institution_type) -> institution_counts\n",
    "institution_counts"
   ]
  },
  {
   "cell_type": "code",
   "execution_count": 5,
   "id": "4f2e89fd-12db-47d0-9b61-3f5334aad1c3",
   "metadata": {},
   "outputs": [
    {
     "data": {
      "text/html": [
       "<table class=\"dataframe\">\n",
       "<caption>A tibble: 1 × 2</caption>\n",
       "<thead>\n",
       "\t<tr><th scope=col>median(n)</th><th scope=col>max(n)</th></tr>\n",
       "\t<tr><th scope=col>&lt;dbl&gt;</th><th scope=col>&lt;int&gt;</th></tr>\n",
       "</thead>\n",
       "<tbody>\n",
       "\t<tr><td>2</td><td>26</td></tr>\n",
       "</tbody>\n",
       "</table>\n"
      ],
      "text/latex": [
       "A tibble: 1 × 2\n",
       "\\begin{tabular}{ll}\n",
       " median(n) & max(n)\\\\\n",
       " <dbl> & <int>\\\\\n",
       "\\hline\n",
       "\t 2 & 26\\\\\n",
       "\\end{tabular}\n"
      ],
      "text/markdown": [
       "\n",
       "A tibble: 1 × 2\n",
       "\n",
       "| median(n) &lt;dbl&gt; | max(n) &lt;int&gt; |\n",
       "|---|---|\n",
       "| 2 | 26 |\n",
       "\n"
      ],
      "text/plain": [
       "  median(n) max(n)\n",
       "1 2         26    "
      ]
     },
     "metadata": {},
     "output_type": "display_data"
    }
   ],
   "source": [
    "institutions %>%\n",
    "  filter(!is.na(institution_code)) %>%\n",
    "  count(institution_code) %>%\n",
    "  summarize(median(n),\n",
    "            max(n))"
   ]
  },
  {
   "cell_type": "code",
   "execution_count": 91,
   "id": "e3e24854-a084-4d05-8bf8-d276fc2dfa6c",
   "metadata": {},
   "outputs": [
    {
     "data": {
      "image/png": "[encoded data removed]",
      "text/plain": [
       "Plot with title “Types of Institutions”"
      ]
     },
     "metadata": {
      "image/png": {
       "height": 420,
       "width": 420
      }
     },
     "output_type": "display_data"
    }
   ],
   "source": [
    "pie(institution_counts$n, \n",
    "    paste(institution_counts$institution_type,' ',\n",
    "          round(institution_counts$percent*100,2),\n",
    "          ' %',sep=\"\"), \n",
    "    main=\"Types of Institutions\")"
   ]
  },
  {
   "cell_type": "markdown",
   "id": "362840db-e673-4148-a1cf-9616670b87fc",
   "metadata": {},
   "source": [
    "### R1/R2"
   ]
  },
  {
   "cell_type": "code",
   "execution_count": 6,
   "id": "f05851cc-6ccf-422d-8e31-9b0c7bead4a3",
   "metadata": {},
   "outputs": [
    {
     "data": {
      "text/html": [
       "<table class=\"dataframe\">\n",
       "<caption>A tibble: 1 × 2</caption>\n",
       "<thead>\n",
       "\t<tr><th scope=col>R1_respondents</th><th scope=col>R1_inst</th></tr>\n",
       "\t<tr><th scope=col>&lt;dbl&gt;</th><th scope=col>&lt;dbl&gt;</th></tr>\n",
       "</thead>\n",
       "<tbody>\n",
       "\t<tr><td>0.8163717</td><td>0.6319444</td></tr>\n",
       "</tbody>\n",
       "</table>\n"
      ],
      "text/latex": [
       "A tibble: 1 × 2\n",
       "\\begin{tabular}{ll}\n",
       " R1\\_respondents & R1\\_inst\\\\\n",
       " <dbl> & <dbl>\\\\\n",
       "\\hline\n",
       "\t 0.8163717 & 0.6319444\\\\\n",
       "\\end{tabular}\n"
      ],
      "text/markdown": [
       "\n",
       "A tibble: 1 × 2\n",
       "\n",
       "| R1_respondents &lt;dbl&gt; | R1_inst &lt;dbl&gt; |\n",
       "|---|---|\n",
       "| 0.8163717 | 0.6319444 |\n",
       "\n"
      ],
      "text/plain": [
       "  R1_respondents R1_inst  \n",
       "1 0.8163717      0.6319444"
      ]
     },
     "metadata": {},
     "output_type": "display_data"
    }
   ],
   "source": [
    "institutions %>%\n",
    "  filter(academic_institution) %>%\n",
    "  summarize(R1_respondents = sum(institution_type == \"R1\")/n(),\n",
    "            R1_inst = n_distinct(institution_code[institution_type == \"R1\"])/n_distinct(institution_code))"
   ]
  },
  {
   "cell_type": "markdown",
   "id": "1d80d028-473f-4f08-b04e-75c1225cd9dd",
   "metadata": {},
   "source": [
    "### Respondents"
   ]
  },
  {
   "cell_type": "code",
   "execution_count": 7,
   "id": "7c524eb0-f7f4-4c44-be79-85290dc38ba8",
   "metadata": {},
   "outputs": [
    {
     "data": {
      "text/html": [
       "<table class=\"dataframe\">\n",
       "<caption>A spec_tbl_df: 2 × 4</caption>\n",
       "<thead>\n",
       "\t<tr><th scope=col>variable</th><th scope=col>category</th><th scope=col>n</th><th scope=col>prop</th></tr>\n",
       "\t<tr><th scope=col>&lt;chr&gt;</th><th scope=col>&lt;chr&gt;</th><th scope=col>&lt;dbl&gt;</th><th scope=col>&lt;dbl&gt;</th></tr>\n",
       "</thead>\n",
       "<tbody>\n",
       "\t<tr><td>rcd_employed</td><td>No/No Answer</td><td> 24</td><td>0.04262877</td></tr>\n",
       "\t<tr><td>rcd_employed</td><td>Yes         </td><td>539</td><td>0.95737123</td></tr>\n",
       "</tbody>\n",
       "</table>\n"
      ],
      "text/latex": [
       "A spec\\_tbl\\_df: 2 × 4\n",
       "\\begin{tabular}{llll}\n",
       " variable & category & n & prop\\\\\n",
       " <chr> & <chr> & <dbl> & <dbl>\\\\\n",
       "\\hline\n",
       "\t rcd\\_employed & No/No Answer &  24 & 0.04262877\\\\\n",
       "\t rcd\\_employed & Yes          & 539 & 0.95737123\\\\\n",
       "\\end{tabular}\n"
      ],
      "text/markdown": [
       "\n",
       "A spec_tbl_df: 2 × 4\n",
       "\n",
       "| variable &lt;chr&gt; | category &lt;chr&gt; | n &lt;dbl&gt; | prop &lt;dbl&gt; |\n",
       "|---|---|---|---|\n",
       "| rcd_employed | No/No Answer |  24 | 0.04262877 |\n",
       "| rcd_employed | Yes          | 539 | 0.95737123 |\n",
       "\n"
      ],
      "text/plain": [
       "  variable     category     n   prop      \n",
       "1 rcd_employed No/No Answer  24 0.04262877\n",
       "2 rcd_employed Yes          539 0.95737123"
      ]
     },
     "metadata": {},
     "output_type": "display_data"
    }
   ],
   "source": [
    "filter(all_freq, variable == \"rcd_employed\")"
   ]
  },
  {
   "cell_type": "code",
   "execution_count": 8,
   "id": "312e0249-b251-46e3-aafa-a0c28757665b",
   "metadata": {},
   "outputs": [
    {
     "data": {
      "text/html": [
       "0.86078431372549"
      ],
      "text/latex": [
       "0.86078431372549"
      ],
      "text/markdown": [
       "0.86078431372549"
      ],
      "text/plain": [
       "[1] 0.8607843"
      ]
     },
     "metadata": {},
     "output_type": "display_data"
    }
   ],
   "source": [
    "sum(rcd_edu_work$academic_institution, na.rm=TRUE)/sum(!is.na(rcd_edu_work$academic_institution))"
   ]
  },
  {
   "cell_type": "markdown",
   "id": "ef160903-0c7e-492b-87a6-a671cbc4938c",
   "metadata": {},
   "source": [
    "## 4.1 Demographics\n",
    "\n",
    "### Age"
   ]
  },
  {
   "cell_type": "code",
   "execution_count": 9,
   "id": "b11f1fe7-5e7d-405d-84cd-372f9e2fd458",
   "metadata": {},
   "outputs": [
    {
     "data": {
      "text/html": [
       "<table class=\"dataframe\">\n",
       "<caption>A spec_tbl_df: 6 × 4</caption>\n",
       "<thead>\n",
       "\t<tr><th scope=col>variable</th><th scope=col>category</th><th scope=col>n</th><th scope=col>prop</th></tr>\n",
       "\t<tr><th scope=col>&lt;chr&gt;</th><th scope=col>&lt;chr&gt;</th><th scope=col>&lt;dbl&gt;</th><th scope=col>&lt;dbl&gt;</th></tr>\n",
       "</thead>\n",
       "<tbody>\n",
       "\t<tr><td>age</td><td>20 - 24</td><td> 11</td><td>0.01953819</td></tr>\n",
       "\t<tr><td>age</td><td>25 - 34</td><td> 96</td><td>0.17051510</td></tr>\n",
       "\t<tr><td>age</td><td>35 - 44</td><td>167</td><td>0.29662522</td></tr>\n",
       "\t<tr><td>age</td><td>45 - 54</td><td>171</td><td>0.30373002</td></tr>\n",
       "\t<tr><td>age</td><td>55 - 64</td><td> 99</td><td>0.17584369</td></tr>\n",
       "\t<tr><td>age</td><td>65 - 74</td><td> 19</td><td>0.03374778</td></tr>\n",
       "</tbody>\n",
       "</table>\n"
      ],
      "text/latex": [
       "A spec\\_tbl\\_df: 6 × 4\n",
       "\\begin{tabular}{llll}\n",
       " variable & category & n & prop\\\\\n",
       " <chr> & <chr> & <dbl> & <dbl>\\\\\n",
       "\\hline\n",
       "\t age & 20 - 24 &  11 & 0.01953819\\\\\n",
       "\t age & 25 - 34 &  96 & 0.17051510\\\\\n",
       "\t age & 35 - 44 & 167 & 0.29662522\\\\\n",
       "\t age & 45 - 54 & 171 & 0.30373002\\\\\n",
       "\t age & 55 - 64 &  99 & 0.17584369\\\\\n",
       "\t age & 65 - 74 &  19 & 0.03374778\\\\\n",
       "\\end{tabular}\n"
      ],
      "text/markdown": [
       "\n",
       "A spec_tbl_df: 6 × 4\n",
       "\n",
       "| variable &lt;chr&gt; | category &lt;chr&gt; | n &lt;dbl&gt; | prop &lt;dbl&gt; |\n",
       "|---|---|---|---|\n",
       "| age | 20 - 24 |  11 | 0.01953819 |\n",
       "| age | 25 - 34 |  96 | 0.17051510 |\n",
       "| age | 35 - 44 | 167 | 0.29662522 |\n",
       "| age | 45 - 54 | 171 | 0.30373002 |\n",
       "| age | 55 - 64 |  99 | 0.17584369 |\n",
       "| age | 65 - 74 |  19 | 0.03374778 |\n",
       "\n"
      ],
      "text/plain": [
       "  variable category n   prop      \n",
       "1 age      20 - 24   11 0.01953819\n",
       "2 age      25 - 34   96 0.17051510\n",
       "3 age      35 - 44  167 0.29662522\n",
       "4 age      45 - 54  171 0.30373002\n",
       "5 age      55 - 64   99 0.17584369\n",
       "6 age      65 - 74   19 0.03374778"
      ]
     },
     "metadata": {},
     "output_type": "display_data"
    }
   ],
   "source": [
    "filter(all_freq, variable==\"age\")"
   ]
  },
  {
   "cell_type": "markdown",
   "id": "54c50d3d-cb78-4121-88ea-1d3cacf3cf1d",
   "metadata": {},
   "source": [
    "### Race/Ethnicity"
   ]
  },
  {
   "cell_type": "code",
   "execution_count": 10,
   "id": "94cbb904-69c7-4416-9ca7-4d97c688c264",
   "metadata": {},
   "outputs": [
    {
     "data": {
      "text/html": [
       "<table class=\"dataframe\">\n",
       "<caption>A spec_tbl_df: 6 × 4</caption>\n",
       "<thead>\n",
       "\t<tr><th scope=col>variable</th><th scope=col>category</th><th scope=col>n</th><th scope=col>prop</th></tr>\n",
       "\t<tr><th scope=col>&lt;chr&gt;</th><th scope=col>&lt;chr&gt;</th><th scope=col>&lt;dbl&gt;</th><th scope=col>&lt;dbl&gt;</th></tr>\n",
       "</thead>\n",
       "<tbody>\n",
       "\t<tr><td>ethnicity1</td><td>Asian                                                                                             </td><td> 59</td><td>0.10479574</td></tr>\n",
       "\t<tr><td>ethnicity1</td><td>Black or African American                                                                         </td><td> 10</td><td>0.01776199</td></tr>\n",
       "\t<tr><td>ethnicity1</td><td>Multiple/Native Hawaiian or Pacific Islander/Jewish/Middle Eastern/Mediterranean/Other Unspecified</td><td> 15</td><td>0.02664298</td></tr>\n",
       "\t<tr><td>ethnicity1</td><td>White (Hispanic)                                                                                  </td><td>  9</td><td>0.01598579</td></tr>\n",
       "\t<tr><td>ethnicity1</td><td>White (Not Hispanic)                                                                              </td><td>435</td><td>0.77264654</td></tr>\n",
       "\t<tr><td>ethnicity1</td><td>NA                                                                                                </td><td> 35</td><td>0.06216696</td></tr>\n",
       "</tbody>\n",
       "</table>\n"
      ],
      "text/latex": [
       "A spec\\_tbl\\_df: 6 × 4\n",
       "\\begin{tabular}{llll}\n",
       " variable & category & n & prop\\\\\n",
       " <chr> & <chr> & <dbl> & <dbl>\\\\\n",
       "\\hline\n",
       "\t ethnicity1 & Asian                                                                                              &  59 & 0.10479574\\\\\n",
       "\t ethnicity1 & Black or African American                                                                          &  10 & 0.01776199\\\\\n",
       "\t ethnicity1 & Multiple/Native Hawaiian or Pacific Islander/Jewish/Middle Eastern/Mediterranean/Other Unspecified &  15 & 0.02664298\\\\\n",
       "\t ethnicity1 & White (Hispanic)                                                                                   &   9 & 0.01598579\\\\\n",
       "\t ethnicity1 & White (Not Hispanic)                                                                               & 435 & 0.77264654\\\\\n",
       "\t ethnicity1 & NA                                                                                                 &  35 & 0.06216696\\\\\n",
       "\\end{tabular}\n"
      ],
      "text/markdown": [
       "\n",
       "A spec_tbl_df: 6 × 4\n",
       "\n",
       "| variable &lt;chr&gt; | category &lt;chr&gt; | n &lt;dbl&gt; | prop &lt;dbl&gt; |\n",
       "|---|---|---|---|\n",
       "| ethnicity1 | Asian                                                                                              |  59 | 0.10479574 |\n",
       "| ethnicity1 | Black or African American                                                                          |  10 | 0.01776199 |\n",
       "| ethnicity1 | Multiple/Native Hawaiian or Pacific Islander/Jewish/Middle Eastern/Mediterranean/Other Unspecified |  15 | 0.02664298 |\n",
       "| ethnicity1 | White (Hispanic)                                                                                   |   9 | 0.01598579 |\n",
       "| ethnicity1 | White (Not Hispanic)                                                                               | 435 | 0.77264654 |\n",
       "| ethnicity1 | NA                                                                                                 |  35 | 0.06216696 |\n",
       "\n"
      ],
      "text/plain": [
       "  variable  \n",
       "1 ethnicity1\n",
       "2 ethnicity1\n",
       "3 ethnicity1\n",
       "4 ethnicity1\n",
       "5 ethnicity1\n",
       "6 ethnicity1\n",
       "  category                                                                                          \n",
       "1 Asian                                                                                             \n",
       "2 Black or African American                                                                         \n",
       "3 Multiple/Native Hawaiian or Pacific Islander/Jewish/Middle Eastern/Mediterranean/Other Unspecified\n",
       "4 White (Hispanic)                                                                                  \n",
       "5 White (Not Hispanic)                                                                              \n",
       "6 NA                                                                                                \n",
       "  n   prop      \n",
       "1  59 0.10479574\n",
       "2  10 0.01776199\n",
       "3  15 0.02664298\n",
       "4   9 0.01598579\n",
       "5 435 0.77264654\n",
       "6  35 0.06216696"
      ]
     },
     "metadata": {},
     "output_type": "display_data"
    }
   ],
   "source": [
    "filter(all_freq, variable==\"ethnicity1\")"
   ]
  },
  {
   "cell_type": "code",
   "execution_count": 11,
   "id": "8f783497-a3ac-4908-9864-30b4486e3aaa",
   "metadata": {},
   "outputs": [
    {
     "data": {
      "text/html": [
       "<table class=\"dataframe\">\n",
       "<caption>A spec_tbl_df: 3 × 4</caption>\n",
       "<thead>\n",
       "\t<tr><th scope=col>variable</th><th scope=col>category</th><th scope=col>n</th><th scope=col>prop</th></tr>\n",
       "\t<tr><th scope=col>&lt;chr&gt;</th><th scope=col>&lt;chr&gt;</th><th scope=col>&lt;dbl&gt;</th><th scope=col>&lt;dbl&gt;</th></tr>\n",
       "</thead>\n",
       "<tbody>\n",
       "\t<tr><td>hispanic</td><td>FALSE</td><td>516</td><td>0.91651865</td></tr>\n",
       "\t<tr><td>hispanic</td><td>TRUE </td><td> 13</td><td>0.02309059</td></tr>\n",
       "\t<tr><td>hispanic</td><td>NA   </td><td> 34</td><td>0.06039076</td></tr>\n",
       "</tbody>\n",
       "</table>\n"
      ],
      "text/latex": [
       "A spec\\_tbl\\_df: 3 × 4\n",
       "\\begin{tabular}{llll}\n",
       " variable & category & n & prop\\\\\n",
       " <chr> & <chr> & <dbl> & <dbl>\\\\\n",
       "\\hline\n",
       "\t hispanic & FALSE & 516 & 0.91651865\\\\\n",
       "\t hispanic & TRUE  &  13 & 0.02309059\\\\\n",
       "\t hispanic & NA    &  34 & 0.06039076\\\\\n",
       "\\end{tabular}\n"
      ],
      "text/markdown": [
       "\n",
       "A spec_tbl_df: 3 × 4\n",
       "\n",
       "| variable &lt;chr&gt; | category &lt;chr&gt; | n &lt;dbl&gt; | prop &lt;dbl&gt; |\n",
       "|---|---|---|---|\n",
       "| hispanic | FALSE | 516 | 0.91651865 |\n",
       "| hispanic | TRUE  |  13 | 0.02309059 |\n",
       "| hispanic | NA    |  34 | 0.06039076 |\n",
       "\n"
      ],
      "text/plain": [
       "  variable category n   prop      \n",
       "1 hispanic FALSE    516 0.91651865\n",
       "2 hispanic TRUE      13 0.02309059\n",
       "3 hispanic NA        34 0.06039076"
      ]
     },
     "metadata": {},
     "output_type": "display_data"
    }
   ],
   "source": [
    "filter(all_freq, variable==\"hispanic\")"
   ]
  },
  {
   "cell_type": "markdown",
   "id": "48c3f7fd-c3d5-4afd-a8db-842c9c911f66",
   "metadata": {},
   "source": [
    "### Gender"
   ]
  },
  {
   "cell_type": "code",
   "execution_count": 12,
   "id": "37102d73-c699-42d3-b078-8eb5fc142ccb",
   "metadata": {},
   "outputs": [
    {
     "data": {
      "text/html": [
       "<table class=\"dataframe\">\n",
       "<caption>A spec_tbl_df: 4 × 4</caption>\n",
       "<thead>\n",
       "\t<tr><th scope=col>variable</th><th scope=col>category</th><th scope=col>n</th><th scope=col>prop</th></tr>\n",
       "\t<tr><th scope=col>&lt;chr&gt;</th><th scope=col>&lt;chr&gt;</th><th scope=col>&lt;dbl&gt;</th><th scope=col>&lt;dbl&gt;</th></tr>\n",
       "</thead>\n",
       "<tbody>\n",
       "\t<tr><td>gender</td><td>Female                              </td><td>134</td><td>0.23801066</td></tr>\n",
       "\t<tr><td>gender</td><td>Male                                </td><td>396</td><td>0.70337478</td></tr>\n",
       "\t<tr><td>gender</td><td>Non-binary/Nonconforming/Genderqueer</td><td> 12</td><td>0.02131439</td></tr>\n",
       "\t<tr><td>gender</td><td>Other/No Answer                     </td><td> 21</td><td>0.03730018</td></tr>\n",
       "</tbody>\n",
       "</table>\n"
      ],
      "text/latex": [
       "A spec\\_tbl\\_df: 4 × 4\n",
       "\\begin{tabular}{llll}\n",
       " variable & category & n & prop\\\\\n",
       " <chr> & <chr> & <dbl> & <dbl>\\\\\n",
       "\\hline\n",
       "\t gender & Female                               & 134 & 0.23801066\\\\\n",
       "\t gender & Male                                 & 396 & 0.70337478\\\\\n",
       "\t gender & Non-binary/Nonconforming/Genderqueer &  12 & 0.02131439\\\\\n",
       "\t gender & Other/No Answer                      &  21 & 0.03730018\\\\\n",
       "\\end{tabular}\n"
      ],
      "text/markdown": [
       "\n",
       "A spec_tbl_df: 4 × 4\n",
       "\n",
       "| variable &lt;chr&gt; | category &lt;chr&gt; | n &lt;dbl&gt; | prop &lt;dbl&gt; |\n",
       "|---|---|---|---|\n",
       "| gender | Female                               | 134 | 0.23801066 |\n",
       "| gender | Male                                 | 396 | 0.70337478 |\n",
       "| gender | Non-binary/Nonconforming/Genderqueer |  12 | 0.02131439 |\n",
       "| gender | Other/No Answer                      |  21 | 0.03730018 |\n",
       "\n"
      ],
      "text/plain": [
       "  variable category                             n   prop      \n",
       "1 gender   Female                               134 0.23801066\n",
       "2 gender   Male                                 396 0.70337478\n",
       "3 gender   Non-binary/Nonconforming/Genderqueer  12 0.02131439\n",
       "4 gender   Other/No Answer                       21 0.03730018"
      ]
     },
     "metadata": {},
     "output_type": "display_data"
    }
   ],
   "source": [
    "filter(all_freq, variable==\"gender\")"
   ]
  },
  {
   "cell_type": "markdown",
   "id": "8cfe864d-ca14-46f3-8cdd-dba32fa16bc9",
   "metadata": {},
   "source": [
    "### US Citizenship/Residency"
   ]
  },
  {
   "cell_type": "code",
   "execution_count": 13,
   "id": "85a12dd4-475a-4fe3-9654-cdd8b4c0ccee",
   "metadata": {},
   "outputs": [
    {
     "data": {
      "text/html": [
       "<table class=\"dataframe\">\n",
       "<caption>A spec_tbl_df: 3 × 4</caption>\n",
       "<thead>\n",
       "\t<tr><th scope=col>variable</th><th scope=col>category</th><th scope=col>n</th><th scope=col>prop</th></tr>\n",
       "\t<tr><th scope=col>&lt;chr&gt;</th><th scope=col>&lt;chr&gt;</th><th scope=col>&lt;dbl&gt;</th><th scope=col>&lt;dbl&gt;</th></tr>\n",
       "</thead>\n",
       "<tbody>\n",
       "\t<tr><td>us_perm</td><td>FALSE</td><td> 26</td><td>0.04618117</td></tr>\n",
       "\t<tr><td>us_perm</td><td>TRUE </td><td>519</td><td>0.92184725</td></tr>\n",
       "\t<tr><td>us_perm</td><td>NA   </td><td> 18</td><td>0.03197158</td></tr>\n",
       "</tbody>\n",
       "</table>\n"
      ],
      "text/latex": [
       "A spec\\_tbl\\_df: 3 × 4\n",
       "\\begin{tabular}{llll}\n",
       " variable & category & n & prop\\\\\n",
       " <chr> & <chr> & <dbl> & <dbl>\\\\\n",
       "\\hline\n",
       "\t us\\_perm & FALSE &  26 & 0.04618117\\\\\n",
       "\t us\\_perm & TRUE  & 519 & 0.92184725\\\\\n",
       "\t us\\_perm & NA    &  18 & 0.03197158\\\\\n",
       "\\end{tabular}\n"
      ],
      "text/markdown": [
       "\n",
       "A spec_tbl_df: 3 × 4\n",
       "\n",
       "| variable &lt;chr&gt; | category &lt;chr&gt; | n &lt;dbl&gt; | prop &lt;dbl&gt; |\n",
       "|---|---|---|---|\n",
       "| us_perm | FALSE |  26 | 0.04618117 |\n",
       "| us_perm | TRUE  | 519 | 0.92184725 |\n",
       "| us_perm | NA    |  18 | 0.03197158 |\n",
       "\n"
      ],
      "text/plain": [
       "  variable category n   prop      \n",
       "1 us_perm  FALSE     26 0.04618117\n",
       "2 us_perm  TRUE     519 0.92184725\n",
       "3 us_perm  NA        18 0.03197158"
      ]
     },
     "metadata": {},
     "output_type": "display_data"
    }
   ],
   "source": [
    "filter(all_freq, variable==\"us_perm\")"
   ]
  },
  {
   "cell_type": "markdown",
   "id": "0a11df18-2cb8-4e04-abee-5f63f5b2c0f8",
   "metadata": {},
   "source": [
    "### Sexual Orientation"
   ]
  },
  {
   "cell_type": "code",
   "execution_count": 14,
   "id": "ed20e180-2f28-4b41-8f3d-63271e99d438",
   "metadata": {},
   "outputs": [
    {
     "data": {
      "text/html": [
       "<table class=\"dataframe\">\n",
       "<caption>A spec_tbl_df: 8 × 4</caption>\n",
       "<thead>\n",
       "\t<tr><th scope=col>variable</th><th scope=col>category</th><th scope=col>n</th><th scope=col>prop</th></tr>\n",
       "\t<tr><th scope=col>&lt;chr&gt;</th><th scope=col>&lt;chr&gt;</th><th scope=col>&lt;dbl&gt;</th><th scope=col>&lt;dbl&gt;</th></tr>\n",
       "</thead>\n",
       "<tbody>\n",
       "\t<tr><td>sex_orientation</td><td>A sexual orientation not listed here</td><td>  2</td><td>0.003552398</td></tr>\n",
       "\t<tr><td>sex_orientation</td><td>Asexual                             </td><td> 13</td><td>0.023090586</td></tr>\n",
       "\t<tr><td>sex_orientation</td><td>Bisexual                            </td><td> 15</td><td>0.026642984</td></tr>\n",
       "\t<tr><td>sex_orientation</td><td>Gay / Lesbian                       </td><td> 19</td><td>0.033747780</td></tr>\n",
       "\t<tr><td>sex_orientation</td><td>Heterosexual / Straight             </td><td>435</td><td>0.772646536</td></tr>\n",
       "\t<tr><td>sex_orientation</td><td>Pansexual                           </td><td>  6</td><td>0.010657194</td></tr>\n",
       "\t<tr><td>sex_orientation</td><td>Queer                               </td><td> 13</td><td>0.023090586</td></tr>\n",
       "\t<tr><td>sex_orientation</td><td>NA                                  </td><td> 60</td><td>0.106571936</td></tr>\n",
       "</tbody>\n",
       "</table>\n"
      ],
      "text/latex": [
       "A spec\\_tbl\\_df: 8 × 4\n",
       "\\begin{tabular}{llll}\n",
       " variable & category & n & prop\\\\\n",
       " <chr> & <chr> & <dbl> & <dbl>\\\\\n",
       "\\hline\n",
       "\t sex\\_orientation & A sexual orientation not listed here &   2 & 0.003552398\\\\\n",
       "\t sex\\_orientation & Asexual                              &  13 & 0.023090586\\\\\n",
       "\t sex\\_orientation & Bisexual                             &  15 & 0.026642984\\\\\n",
       "\t sex\\_orientation & Gay / Lesbian                        &  19 & 0.033747780\\\\\n",
       "\t sex\\_orientation & Heterosexual / Straight              & 435 & 0.772646536\\\\\n",
       "\t sex\\_orientation & Pansexual                            &   6 & 0.010657194\\\\\n",
       "\t sex\\_orientation & Queer                                &  13 & 0.023090586\\\\\n",
       "\t sex\\_orientation & NA                                   &  60 & 0.106571936\\\\\n",
       "\\end{tabular}\n"
      ],
      "text/markdown": [
       "\n",
       "A spec_tbl_df: 8 × 4\n",
       "\n",
       "| variable &lt;chr&gt; | category &lt;chr&gt; | n &lt;dbl&gt; | prop &lt;dbl&gt; |\n",
       "|---|---|---|---|\n",
       "| sex_orientation | A sexual orientation not listed here |   2 | 0.003552398 |\n",
       "| sex_orientation | Asexual                              |  13 | 0.023090586 |\n",
       "| sex_orientation | Bisexual                             |  15 | 0.026642984 |\n",
       "| sex_orientation | Gay / Lesbian                        |  19 | 0.033747780 |\n",
       "| sex_orientation | Heterosexual / Straight              | 435 | 0.772646536 |\n",
       "| sex_orientation | Pansexual                            |   6 | 0.010657194 |\n",
       "| sex_orientation | Queer                                |  13 | 0.023090586 |\n",
       "| sex_orientation | NA                                   |  60 | 0.106571936 |\n",
       "\n"
      ],
      "text/plain": [
       "  variable        category                             n   prop       \n",
       "1 sex_orientation A sexual orientation not listed here   2 0.003552398\n",
       "2 sex_orientation Asexual                               13 0.023090586\n",
       "3 sex_orientation Bisexual                              15 0.026642984\n",
       "4 sex_orientation Gay / Lesbian                         19 0.033747780\n",
       "5 sex_orientation Heterosexual / Straight              435 0.772646536\n",
       "6 sex_orientation Pansexual                              6 0.010657194\n",
       "7 sex_orientation Queer                                 13 0.023090586\n",
       "8 sex_orientation NA                                    60 0.106571936"
      ]
     },
     "metadata": {},
     "output_type": "display_data"
    }
   ],
   "source": [
    "filter(all_freq, variable==\"sex_orientation\")"
   ]
  },
  {
   "cell_type": "markdown",
   "id": "b82db8cd-998e-4cd6-932c-ae44dfc1da8a",
   "metadata": {},
   "source": [
    "### Disability Status"
   ]
  },
  {
   "cell_type": "code",
   "execution_count": 15,
   "id": "6a0ea3c9-b433-41cb-a73d-2c9d3dab22b3",
   "metadata": {},
   "outputs": [
    {
     "data": {
      "text/html": [
       "<table class=\"dataframe\">\n",
       "<caption>A spec_tbl_df: 3 × 4</caption>\n",
       "<thead>\n",
       "\t<tr><th scope=col>variable</th><th scope=col>category</th><th scope=col>n</th><th scope=col>prop</th></tr>\n",
       "\t<tr><th scope=col>&lt;chr&gt;</th><th scope=col>&lt;chr&gt;</th><th scope=col>&lt;dbl&gt;</th><th scope=col>&lt;dbl&gt;</th></tr>\n",
       "</thead>\n",
       "<tbody>\n",
       "\t<tr><td>disability</td><td>FALSE</td><td>519</td><td>0.921847247</td></tr>\n",
       "\t<tr><td>disability</td><td>TRUE </td><td> 41</td><td>0.072824156</td></tr>\n",
       "\t<tr><td>disability</td><td>NA   </td><td>  3</td><td>0.005328597</td></tr>\n",
       "</tbody>\n",
       "</table>\n"
      ],
      "text/latex": [
       "A spec\\_tbl\\_df: 3 × 4\n",
       "\\begin{tabular}{llll}\n",
       " variable & category & n & prop\\\\\n",
       " <chr> & <chr> & <dbl> & <dbl>\\\\\n",
       "\\hline\n",
       "\t disability & FALSE & 519 & 0.921847247\\\\\n",
       "\t disability & TRUE  &  41 & 0.072824156\\\\\n",
       "\t disability & NA    &   3 & 0.005328597\\\\\n",
       "\\end{tabular}\n"
      ],
      "text/markdown": [
       "\n",
       "A spec_tbl_df: 3 × 4\n",
       "\n",
       "| variable &lt;chr&gt; | category &lt;chr&gt; | n &lt;dbl&gt; | prop &lt;dbl&gt; |\n",
       "|---|---|---|---|\n",
       "| disability | FALSE | 519 | 0.921847247 |\n",
       "| disability | TRUE  |  41 | 0.072824156 |\n",
       "| disability | NA    |   3 | 0.005328597 |\n",
       "\n"
      ],
      "text/plain": [
       "  variable   category n   prop       \n",
       "1 disability FALSE    519 0.921847247\n",
       "2 disability TRUE      41 0.072824156\n",
       "3 disability NA         3 0.005328597"
      ]
     },
     "metadata": {},
     "output_type": "display_data"
    }
   ],
   "source": [
    "filter(all_freq, variable==\"disability\")"
   ]
  },
  {
   "cell_type": "markdown",
   "id": "0cb31b65-2a82-4504-b902-176b1f7aade0",
   "metadata": {},
   "source": [
    "## 4.2 Education and Experience\n",
    "\n",
    "### Education"
   ]
  },
  {
   "cell_type": "code",
   "execution_count": 16,
   "id": "221cb424-95ea-4b76-b1d7-cda9d6290e98",
   "metadata": {},
   "outputs": [
    {
     "data": {
      "text/html": [
       "<table class=\"dataframe\">\n",
       "<caption>A spec_tbl_df: 5 × 4</caption>\n",
       "<thead>\n",
       "\t<tr><th scope=col>variable</th><th scope=col>category</th><th scope=col>n</th><th scope=col>prop</th></tr>\n",
       "\t<tr><th scope=col>&lt;chr&gt;</th><th scope=col>&lt;chr&gt;</th><th scope=col>&lt;dbl&gt;</th><th scope=col>&lt;dbl&gt;</th></tr>\n",
       "</thead>\n",
       "<tbody>\n",
       "\t<tr><td>education</td><td>Bachelor's Degree   </td><td>140</td><td>0.24866785</td></tr>\n",
       "\t<tr><td>education</td><td>Master's Degree     </td><td>184</td><td>0.32682060</td></tr>\n",
       "\t<tr><td>education</td><td>No Bachelor's Degree</td><td> 26</td><td>0.04618117</td></tr>\n",
       "\t<tr><td>education</td><td>PhD or Doctorate    </td><td>207</td><td>0.36767318</td></tr>\n",
       "\t<tr><td>education</td><td>NA                  </td><td>  6</td><td>0.01065719</td></tr>\n",
       "</tbody>\n",
       "</table>\n"
      ],
      "text/latex": [
       "A spec\\_tbl\\_df: 5 × 4\n",
       "\\begin{tabular}{llll}\n",
       " variable & category & n & prop\\\\\n",
       " <chr> & <chr> & <dbl> & <dbl>\\\\\n",
       "\\hline\n",
       "\t education & Bachelor's Degree    & 140 & 0.24866785\\\\\n",
       "\t education & Master's Degree      & 184 & 0.32682060\\\\\n",
       "\t education & No Bachelor's Degree &  26 & 0.04618117\\\\\n",
       "\t education & PhD or Doctorate     & 207 & 0.36767318\\\\\n",
       "\t education & NA                   &   6 & 0.01065719\\\\\n",
       "\\end{tabular}\n"
      ],
      "text/markdown": [
       "\n",
       "A spec_tbl_df: 5 × 4\n",
       "\n",
       "| variable &lt;chr&gt; | category &lt;chr&gt; | n &lt;dbl&gt; | prop &lt;dbl&gt; |\n",
       "|---|---|---|---|\n",
       "| education | Bachelor's Degree    | 140 | 0.24866785 |\n",
       "| education | Master's Degree      | 184 | 0.32682060 |\n",
       "| education | No Bachelor's Degree |  26 | 0.04618117 |\n",
       "| education | PhD or Doctorate     | 207 | 0.36767318 |\n",
       "| education | NA                   |   6 | 0.01065719 |\n",
       "\n"
      ],
      "text/plain": [
       "  variable  category             n   prop      \n",
       "1 education Bachelor's Degree    140 0.24866785\n",
       "2 education Master's Degree      184 0.32682060\n",
       "3 education No Bachelor's Degree  26 0.04618117\n",
       "4 education PhD or Doctorate     207 0.36767318\n",
       "5 education NA                     6 0.01065719"
      ]
     },
     "metadata": {},
     "output_type": "display_data"
    }
   ],
   "source": [
    "filter(all_freq, variable==\"education\") "
   ]
  },
  {
   "cell_type": "code",
   "execution_count": 17,
   "id": "e4b4ad20-80c8-483e-92bb-f5c7ac23864c",
   "metadata": {},
   "outputs": [
    {
     "data": {
      "text/html": [
       "<table class=\"dataframe\">\n",
       "<caption>A spec_tbl_df: 7 × 4</caption>\n",
       "<thead>\n",
       "\t<tr><th scope=col>variable</th><th scope=col>category</th><th scope=col>n</th><th scope=col>prop</th></tr>\n",
       "\t<tr><th scope=col>&lt;chr&gt;</th><th scope=col>&lt;chr&gt;</th><th scope=col>&lt;dbl&gt;</th><th scope=col>&lt;dbl&gt;</th></tr>\n",
       "</thead>\n",
       "<tbody>\n",
       "\t<tr><td>education_field_count</td><td>0</td><td>  7</td><td>0.012433393</td></tr>\n",
       "\t<tr><td>education_field_count</td><td>1</td><td>379</td><td>0.673179396</td></tr>\n",
       "\t<tr><td>education_field_count</td><td>2</td><td>148</td><td>0.262877442</td></tr>\n",
       "\t<tr><td>education_field_count</td><td>3</td><td> 23</td><td>0.040852575</td></tr>\n",
       "\t<tr><td>education_field_count</td><td>4</td><td>  3</td><td>0.005328597</td></tr>\n",
       "\t<tr><td>education_field_count</td><td>5</td><td>  1</td><td>0.001776199</td></tr>\n",
       "\t<tr><td>education_field_count</td><td>6</td><td>  2</td><td>0.003552398</td></tr>\n",
       "</tbody>\n",
       "</table>\n"
      ],
      "text/latex": [
       "A spec\\_tbl\\_df: 7 × 4\n",
       "\\begin{tabular}{llll}\n",
       " variable & category & n & prop\\\\\n",
       " <chr> & <chr> & <dbl> & <dbl>\\\\\n",
       "\\hline\n",
       "\t education\\_field\\_count & 0 &   7 & 0.012433393\\\\\n",
       "\t education\\_field\\_count & 1 & 379 & 0.673179396\\\\\n",
       "\t education\\_field\\_count & 2 & 148 & 0.262877442\\\\\n",
       "\t education\\_field\\_count & 3 &  23 & 0.040852575\\\\\n",
       "\t education\\_field\\_count & 4 &   3 & 0.005328597\\\\\n",
       "\t education\\_field\\_count & 5 &   1 & 0.001776199\\\\\n",
       "\t education\\_field\\_count & 6 &   2 & 0.003552398\\\\\n",
       "\\end{tabular}\n"
      ],
      "text/markdown": [
       "\n",
       "A spec_tbl_df: 7 × 4\n",
       "\n",
       "| variable &lt;chr&gt; | category &lt;chr&gt; | n &lt;dbl&gt; | prop &lt;dbl&gt; |\n",
       "|---|---|---|---|\n",
       "| education_field_count | 0 |   7 | 0.012433393 |\n",
       "| education_field_count | 1 | 379 | 0.673179396 |\n",
       "| education_field_count | 2 | 148 | 0.262877442 |\n",
       "| education_field_count | 3 |  23 | 0.040852575 |\n",
       "| education_field_count | 4 |   3 | 0.005328597 |\n",
       "| education_field_count | 5 |   1 | 0.001776199 |\n",
       "| education_field_count | 6 |   2 | 0.003552398 |\n",
       "\n"
      ],
      "text/plain": [
       "  variable              category n   prop       \n",
       "1 education_field_count 0          7 0.012433393\n",
       "2 education_field_count 1        379 0.673179396\n",
       "3 education_field_count 2        148 0.262877442\n",
       "4 education_field_count 3         23 0.040852575\n",
       "5 education_field_count 4          3 0.005328597\n",
       "6 education_field_count 5          1 0.001776199\n",
       "7 education_field_count 6          2 0.003552398"
      ]
     },
     "metadata": {},
     "output_type": "display_data"
    }
   ],
   "source": [
    "filter(all_freq, variable==\"education_field_count\") "
   ]
  },
  {
   "cell_type": "markdown",
   "id": "9e82ab4a-b865-4e35-8b16-58ae29ea158d",
   "metadata": {},
   "source": [
    "Respondents without a PhD"
   ]
  },
  {
   "cell_type": "code",
   "execution_count": 18,
   "id": "74729dbd-c218-4564-8be0-43f0eeefb09e",
   "metadata": {},
   "outputs": [
    {
     "data": {
      "text/html": [
       "<table class=\"dataframe\">\n",
       "<caption>A tibble: 11 × 2</caption>\n",
       "<thead>\n",
       "\t<tr><th scope=col>name</th><th scope=col>value</th></tr>\n",
       "\t<tr><th scope=col>&lt;chr&gt;</th><th scope=col>&lt;dbl&gt;</th></tr>\n",
       "</thead>\n",
       "<tbody>\n",
       "\t<tr><td>education_field_computer   </td><td>0.568571429</td></tr>\n",
       "\t<tr><td>education_field_sochum     </td><td>0.268571429</td></tr>\n",
       "\t<tr><td>education_field_engineering</td><td>0.194285714</td></tr>\n",
       "\t<tr><td>education_field_arts       </td><td>0.134285714</td></tr>\n",
       "\t<tr><td>education_field_math       </td><td>0.128571429</td></tr>\n",
       "\t<tr><td>education_field_physical   </td><td>0.120000000</td></tr>\n",
       "\t<tr><td>education_field_social     </td><td>0.094285714</td></tr>\n",
       "\t<tr><td>education_field_life       </td><td>0.088571429</td></tr>\n",
       "\t<tr><td>education_field_ljbe       </td><td>0.054285714</td></tr>\n",
       "\t<tr><td>education_field_earth      </td><td>0.011428571</td></tr>\n",
       "\t<tr><td>education_field_other      </td><td>0.008571429</td></tr>\n",
       "</tbody>\n",
       "</table>\n"
      ],
      "text/latex": [
       "A tibble: 11 × 2\n",
       "\\begin{tabular}{ll}\n",
       " name & value\\\\\n",
       " <chr> & <dbl>\\\\\n",
       "\\hline\n",
       "\t education\\_field\\_computer    & 0.568571429\\\\\n",
       "\t education\\_field\\_sochum      & 0.268571429\\\\\n",
       "\t education\\_field\\_engineering & 0.194285714\\\\\n",
       "\t education\\_field\\_arts        & 0.134285714\\\\\n",
       "\t education\\_field\\_math        & 0.128571429\\\\\n",
       "\t education\\_field\\_physical    & 0.120000000\\\\\n",
       "\t education\\_field\\_social      & 0.094285714\\\\\n",
       "\t education\\_field\\_life        & 0.088571429\\\\\n",
       "\t education\\_field\\_ljbe        & 0.054285714\\\\\n",
       "\t education\\_field\\_earth       & 0.011428571\\\\\n",
       "\t education\\_field\\_other       & 0.008571429\\\\\n",
       "\\end{tabular}\n"
      ],
      "text/markdown": [
       "\n",
       "A tibble: 11 × 2\n",
       "\n",
       "| name &lt;chr&gt; | value &lt;dbl&gt; |\n",
       "|---|---|\n",
       "| education_field_computer    | 0.568571429 |\n",
       "| education_field_sochum      | 0.268571429 |\n",
       "| education_field_engineering | 0.194285714 |\n",
       "| education_field_arts        | 0.134285714 |\n",
       "| education_field_math        | 0.128571429 |\n",
       "| education_field_physical    | 0.120000000 |\n",
       "| education_field_social      | 0.094285714 |\n",
       "| education_field_life        | 0.088571429 |\n",
       "| education_field_ljbe        | 0.054285714 |\n",
       "| education_field_earth       | 0.011428571 |\n",
       "| education_field_other       | 0.008571429 |\n",
       "\n"
      ],
      "text/plain": [
       "   name                        value      \n",
       "1  education_field_computer    0.568571429\n",
       "2  education_field_sochum      0.268571429\n",
       "3  education_field_engineering 0.194285714\n",
       "4  education_field_arts        0.134285714\n",
       "5  education_field_math        0.128571429\n",
       "6  education_field_physical    0.120000000\n",
       "7  education_field_social      0.094285714\n",
       "8  education_field_life        0.088571429\n",
       "9  education_field_ljbe        0.054285714\n",
       "10 education_field_earth       0.011428571\n",
       "11 education_field_other       0.008571429"
      ]
     },
     "metadata": {},
     "output_type": "display_data"
    }
   ],
   "source": [
    "all_edu_work %>%\n",
    "  filter(education != \"PhD or Doctorate\") %>%\n",
    "  select(starts_with(\"education_field\") & -education_field_count) %>%\n",
    "  summarize(across(everything(), ~sum(.x)/n())) %>%\n",
    "  pivot_longer(everything()) %>%\n",
    "  arrange(desc(value))"
   ]
  },
  {
   "cell_type": "markdown",
   "id": "00c3e99f-b29b-44d3-8091-6f5248128622",
   "metadata": {},
   "source": [
    "Respondents with a PhD"
   ]
  },
  {
   "cell_type": "code",
   "execution_count": 19,
   "id": "f4d7d730-bc03-4c0a-a54e-47c464c991df",
   "metadata": {},
   "outputs": [
    {
     "data": {
      "text/html": [
       "<table class=\"dataframe\">\n",
       "<caption>A tibble: 11 × 2</caption>\n",
       "<thead>\n",
       "\t<tr><th scope=col>name</th><th scope=col>value</th></tr>\n",
       "\t<tr><th scope=col>&lt;chr&gt;</th><th scope=col>&lt;dbl&gt;</th></tr>\n",
       "</thead>\n",
       "<tbody>\n",
       "\t<tr><td>education_field_physical   </td><td>0.391304348</td></tr>\n",
       "\t<tr><td>education_field_computer   </td><td>0.285024155</td></tr>\n",
       "\t<tr><td>education_field_life       </td><td>0.236714976</td></tr>\n",
       "\t<tr><td>education_field_engineering</td><td>0.183574879</td></tr>\n",
       "\t<tr><td>education_field_math       </td><td>0.135265700</td></tr>\n",
       "\t<tr><td>education_field_sochum     </td><td>0.106280193</td></tr>\n",
       "\t<tr><td>education_field_social     </td><td>0.062801932</td></tr>\n",
       "\t<tr><td>education_field_arts       </td><td>0.038647343</td></tr>\n",
       "\t<tr><td>education_field_ljbe       </td><td>0.014492754</td></tr>\n",
       "\t<tr><td>education_field_other      </td><td>0.004830918</td></tr>\n",
       "\t<tr><td>education_field_earth      </td><td>0.000000000</td></tr>\n",
       "</tbody>\n",
       "</table>\n"
      ],
      "text/latex": [
       "A tibble: 11 × 2\n",
       "\\begin{tabular}{ll}\n",
       " name & value\\\\\n",
       " <chr> & <dbl>\\\\\n",
       "\\hline\n",
       "\t education\\_field\\_physical    & 0.391304348\\\\\n",
       "\t education\\_field\\_computer    & 0.285024155\\\\\n",
       "\t education\\_field\\_life        & 0.236714976\\\\\n",
       "\t education\\_field\\_engineering & 0.183574879\\\\\n",
       "\t education\\_field\\_math        & 0.135265700\\\\\n",
       "\t education\\_field\\_sochum      & 0.106280193\\\\\n",
       "\t education\\_field\\_social      & 0.062801932\\\\\n",
       "\t education\\_field\\_arts        & 0.038647343\\\\\n",
       "\t education\\_field\\_ljbe        & 0.014492754\\\\\n",
       "\t education\\_field\\_other       & 0.004830918\\\\\n",
       "\t education\\_field\\_earth       & 0.000000000\\\\\n",
       "\\end{tabular}\n"
      ],
      "text/markdown": [
       "\n",
       "A tibble: 11 × 2\n",
       "\n",
       "| name &lt;chr&gt; | value &lt;dbl&gt; |\n",
       "|---|---|\n",
       "| education_field_physical    | 0.391304348 |\n",
       "| education_field_computer    | 0.285024155 |\n",
       "| education_field_life        | 0.236714976 |\n",
       "| education_field_engineering | 0.183574879 |\n",
       "| education_field_math        | 0.135265700 |\n",
       "| education_field_sochum      | 0.106280193 |\n",
       "| education_field_social      | 0.062801932 |\n",
       "| education_field_arts        | 0.038647343 |\n",
       "| education_field_ljbe        | 0.014492754 |\n",
       "| education_field_other       | 0.004830918 |\n",
       "| education_field_earth       | 0.000000000 |\n",
       "\n"
      ],
      "text/plain": [
       "   name                        value      \n",
       "1  education_field_physical    0.391304348\n",
       "2  education_field_computer    0.285024155\n",
       "3  education_field_life        0.236714976\n",
       "4  education_field_engineering 0.183574879\n",
       "5  education_field_math        0.135265700\n",
       "6  education_field_sochum      0.106280193\n",
       "7  education_field_social      0.062801932\n",
       "8  education_field_arts        0.038647343\n",
       "9  education_field_ljbe        0.014492754\n",
       "10 education_field_other       0.004830918\n",
       "11 education_field_earth       0.000000000"
      ]
     },
     "metadata": {},
     "output_type": "display_data"
    }
   ],
   "source": [
    "all_edu_work %>%\n",
    "  filter(education == \"PhD or Doctorate\") %>%\n",
    "  select(starts_with(\"education_field\") & -education_field_count) %>%\n",
    "  summarize(across(everything(), ~sum(.x)/n())) %>%\n",
    "  pivot_longer(everything()) %>%\n",
    "  arrange(desc(value))"
   ]
  },
  {
   "cell_type": "code",
   "execution_count": 20,
   "id": "f86c9f3d-cd87-46ef-825d-1fdc06a0aaa4",
   "metadata": {},
   "outputs": [
    {
     "data": {
      "text/html": [
       "<table class=\"dataframe\">\n",
       "<caption>A tabyl: 2 × 3</caption>\n",
       "<thead>\n",
       "\t<tr><th scope=col>education_related</th><th scope=col>n</th><th scope=col>percent</th></tr>\n",
       "\t<tr><th scope=col>&lt;lgl&gt;</th><th scope=col>&lt;int&gt;</th><th scope=col>&lt;dbl&gt;</th></tr>\n",
       "</thead>\n",
       "<tbody>\n",
       "\t<tr><td>FALSE</td><td>292</td><td>0.5186501</td></tr>\n",
       "\t<tr><td> TRUE</td><td>271</td><td>0.4813499</td></tr>\n",
       "</tbody>\n",
       "</table>\n"
      ],
      "text/latex": [
       "A tabyl: 2 × 3\n",
       "\\begin{tabular}{lll}\n",
       " education\\_related & n & percent\\\\\n",
       " <lgl> & <int> & <dbl>\\\\\n",
       "\\hline\n",
       "\t FALSE & 292 & 0.5186501\\\\\n",
       "\t  TRUE & 271 & 0.4813499\\\\\n",
       "\\end{tabular}\n"
      ],
      "text/markdown": [
       "\n",
       "A tabyl: 2 × 3\n",
       "\n",
       "| education_related &lt;lgl&gt; | n &lt;int&gt; | percent &lt;dbl&gt; |\n",
       "|---|---|---|\n",
       "| FALSE | 292 | 0.5186501 |\n",
       "|  TRUE | 271 | 0.4813499 |\n",
       "\n"
      ],
      "text/plain": [
       "  education_related n   percent  \n",
       "1 FALSE             292 0.5186501\n",
       "2  TRUE             271 0.4813499"
      ]
     },
     "metadata": {},
     "output_type": "display_data"
    }
   ],
   "source": [
    "all_edu_work %>%\n",
    "  mutate(education_related = education_related %in% c(\"Extremely related\", \"Very related\")) %>%\n",
    "  tabyl(education_related)"
   ]
  },
  {
   "cell_type": "code",
   "execution_count": 21,
   "id": "0bac8f43-ce3a-4f36-9319-de66d5ae9f7b",
   "metadata": {},
   "outputs": [
    {
     "data": {
      "text/html": [
       "<table class=\"dataframe\">\n",
       "<caption>A tibble: 11 × 2</caption>\n",
       "<thead>\n",
       "\t<tr><th scope=col>name</th><th scope=col>prop_related</th></tr>\n",
       "\t<tr><th scope=col>&lt;chr&gt;</th><th scope=col>&lt;dbl&gt;</th></tr>\n",
       "</thead>\n",
       "<tbody>\n",
       "\t<tr><td>education_field_computer   </td><td>0.6976744</td></tr>\n",
       "\t<tr><td>education_field_social     </td><td>0.5434783</td></tr>\n",
       "\t<tr><td>education_field_life       </td><td>0.5125000</td></tr>\n",
       "\t<tr><td>education_field_earth      </td><td>0.5000000</td></tr>\n",
       "\t<tr><td>education_field_other      </td><td>0.5000000</td></tr>\n",
       "\t<tr><td>education_field_ljbe       </td><td>0.4545455</td></tr>\n",
       "\t<tr><td>education_field_math       </td><td>0.4520548</td></tr>\n",
       "\t<tr><td>education_field_engineering</td><td>0.4444444</td></tr>\n",
       "\t<tr><td>education_field_sochum     </td><td>0.4051724</td></tr>\n",
       "\t<tr><td>education_field_physical   </td><td>0.3658537</td></tr>\n",
       "\t<tr><td>education_field_arts       </td><td>0.2727273</td></tr>\n",
       "</tbody>\n",
       "</table>\n"
      ],
      "text/latex": [
       "A tibble: 11 × 2\n",
       "\\begin{tabular}{ll}\n",
       " name & prop\\_related\\\\\n",
       " <chr> & <dbl>\\\\\n",
       "\\hline\n",
       "\t education\\_field\\_computer    & 0.6976744\\\\\n",
       "\t education\\_field\\_social      & 0.5434783\\\\\n",
       "\t education\\_field\\_life        & 0.5125000\\\\\n",
       "\t education\\_field\\_earth       & 0.5000000\\\\\n",
       "\t education\\_field\\_other       & 0.5000000\\\\\n",
       "\t education\\_field\\_ljbe        & 0.4545455\\\\\n",
       "\t education\\_field\\_math        & 0.4520548\\\\\n",
       "\t education\\_field\\_engineering & 0.4444444\\\\\n",
       "\t education\\_field\\_sochum      & 0.4051724\\\\\n",
       "\t education\\_field\\_physical    & 0.3658537\\\\\n",
       "\t education\\_field\\_arts        & 0.2727273\\\\\n",
       "\\end{tabular}\n"
      ],
      "text/markdown": [
       "\n",
       "A tibble: 11 × 2\n",
       "\n",
       "| name &lt;chr&gt; | prop_related &lt;dbl&gt; |\n",
       "|---|---|\n",
       "| education_field_computer    | 0.6976744 |\n",
       "| education_field_social      | 0.5434783 |\n",
       "| education_field_life        | 0.5125000 |\n",
       "| education_field_earth       | 0.5000000 |\n",
       "| education_field_other       | 0.5000000 |\n",
       "| education_field_ljbe        | 0.4545455 |\n",
       "| education_field_math        | 0.4520548 |\n",
       "| education_field_engineering | 0.4444444 |\n",
       "| education_field_sochum      | 0.4051724 |\n",
       "| education_field_physical    | 0.3658537 |\n",
       "| education_field_arts        | 0.2727273 |\n",
       "\n"
      ],
      "text/plain": [
       "   name                        prop_related\n",
       "1  education_field_computer    0.6976744   \n",
       "2  education_field_social      0.5434783   \n",
       "3  education_field_life        0.5125000   \n",
       "4  education_field_earth       0.5000000   \n",
       "5  education_field_other       0.5000000   \n",
       "6  education_field_ljbe        0.4545455   \n",
       "7  education_field_math        0.4520548   \n",
       "8  education_field_engineering 0.4444444   \n",
       "9  education_field_sochum      0.4051724   \n",
       "10 education_field_physical    0.3658537   \n",
       "11 education_field_arts        0.2727273   "
      ]
     },
     "metadata": {},
     "output_type": "display_data"
    }
   ],
   "source": [
    "all_edu_work %>%\n",
    "  select(starts_with(\"education_field\"), education_related, -education_field_count) %>%\n",
    "  pivot_longer(-education_related) %>%\n",
    "  mutate(education_related = education_related %in% c(\"Extremely related\", \"Very related\")) %>%\n",
    "  filter(value) %>%\n",
    "  group_by(name) %>%\n",
    "  summarize(prop_related = sum(education_related)/sum(!is.na(education_related))) %>%\n",
    "  arrange(desc(prop_related))"
   ]
  },
  {
   "cell_type": "markdown",
   "id": "283f3b46-aa4c-48b1-9eb7-dff6528aada5",
   "metadata": {},
   "source": [
    "### Work Experience"
   ]
  },
  {
   "cell_type": "code",
   "execution_count": 22,
   "id": "f3506946-adb7-4fe5-be36-14a6645dd136",
   "metadata": {},
   "outputs": [
    {
     "data": {
      "text/html": [
       "20"
      ],
      "text/latex": [
       "20"
      ],
      "text/markdown": [
       "20"
      ],
      "text/plain": [
       "[1] 20"
      ]
     },
     "metadata": {},
     "output_type": "display_data"
    }
   ],
   "source": [
    "median(all_edu_work$experience_work, na.rm=TRUE)"
   ]
  },
  {
   "cell_type": "code",
   "execution_count": 23,
   "id": "36aaaf50-6350-46a9-8879-d9a476d6532e",
   "metadata": {},
   "outputs": [
    {
     "data": {
      "text/html": [
       "9"
      ],
      "text/latex": [
       "9"
      ],
      "text/markdown": [
       "9"
      ],
      "text/plain": [
       "[1] 9"
      ]
     },
     "metadata": {},
     "output_type": "display_data"
    }
   ],
   "source": [
    "median(all_edu_work$experience_rcd, na.rm=TRUE)"
   ]
  },
  {
   "cell_type": "code",
   "execution_count": 24,
   "id": "f38fd6dd-b526-47c7-a57d-f770fd08c46a",
   "metadata": {},
   "outputs": [
    {
     "data": {
      "text/html": [
       "<table class=\"dataframe\">\n",
       "<caption>A tabyl: 3 × 4</caption>\n",
       "<thead>\n",
       "\t<tr><th></th><th scope=col>experience_rcd_only</th><th scope=col>n</th><th scope=col>percent</th><th scope=col>valid_percent</th></tr>\n",
       "\t<tr><th></th><th scope=col>&lt;lgl&gt;</th><th scope=col>&lt;int&gt;</th><th scope=col>&lt;dbl&gt;</th><th scope=col>&lt;dbl&gt;</th></tr>\n",
       "</thead>\n",
       "<tbody>\n",
       "\t<tr><th scope=row>1</th><td>FALSE</td><td>423</td><td>0.75133215</td><td>0.7690909</td></tr>\n",
       "\t<tr><th scope=row>2</th><td> TRUE</td><td>127</td><td>0.22557726</td><td>0.2309091</td></tr>\n",
       "\t<tr><th scope=row>3</th><td>   NA</td><td> 13</td><td>0.02309059</td><td>       NA</td></tr>\n",
       "</tbody>\n",
       "</table>\n"
      ],
      "text/latex": [
       "A tabyl: 3 × 4\n",
       "\\begin{tabular}{r|llll}\n",
       "  & experience\\_rcd\\_only & n & percent & valid\\_percent\\\\\n",
       "  & <lgl> & <int> & <dbl> & <dbl>\\\\\n",
       "\\hline\n",
       "\t1 & FALSE & 423 & 0.75133215 & 0.7690909\\\\\n",
       "\t2 &  TRUE & 127 & 0.22557726 & 0.2309091\\\\\n",
       "\t3 &    NA &  13 & 0.02309059 &        NA\\\\\n",
       "\\end{tabular}\n"
      ],
      "text/markdown": [
       "\n",
       "A tabyl: 3 × 4\n",
       "\n",
       "| <!--/--> | experience_rcd_only &lt;lgl&gt; | n &lt;int&gt; | percent &lt;dbl&gt; | valid_percent &lt;dbl&gt; |\n",
       "|---|---|---|---|---|\n",
       "| 1 | FALSE | 423 | 0.75133215 | 0.7690909 |\n",
       "| 2 |  TRUE | 127 | 0.22557726 | 0.2309091 |\n",
       "| 3 |    NA |  13 | 0.02309059 |        NA |\n",
       "\n"
      ],
      "text/plain": [
       "  experience_rcd_only n   percent    valid_percent\n",
       "1 FALSE               423 0.75133215 0.7690909    \n",
       "2  TRUE               127 0.22557726 0.2309091    \n",
       "3    NA                13 0.02309059        NA    "
      ]
     },
     "metadata": {},
     "output_type": "display_data"
    }
   ],
   "source": [
    "tabyl(all_edu_work, experience_rcd_only)"
   ]
  },
  {
   "cell_type": "code",
   "execution_count": 25,
   "id": "3afd21ca-84dd-48b0-aa73-d5c1622f6a57",
   "metadata": {},
   "outputs": [
    {
     "data": {
      "text/html": [
       "0.666666666666667"
      ],
      "text/latex": [
       "0.666666666666667"
      ],
      "text/markdown": [
       "0.666666666666667"
      ],
      "text/plain": [
       "[1] 0.6666667"
      ]
     },
     "metadata": {},
     "output_type": "display_data"
    }
   ],
   "source": [
    "median(all_edu_work$experience_rcd/all_edu_work$experience_work, na.rm=TRUE)"
   ]
  },
  {
   "cell_type": "markdown",
   "id": "1abb3a49-3e45-4f6a-afc8-0de7761eeab3",
   "metadata": {},
   "source": [
    "People at academic institutions with non-academic RCD work experience"
   ]
  },
  {
   "cell_type": "code",
   "execution_count": 26,
   "id": "22b409d9-bd94-4285-a7b3-459f45a62f76",
   "metadata": {},
   "outputs": [
    {
     "data": {
      "text/html": [
       "<table class=\"dataframe\">\n",
       "<caption>A tabyl: 3 × 4</caption>\n",
       "<thead>\n",
       "\t<tr><th></th><th scope=col>experience_non_academic_rcd</th><th scope=col>n</th><th scope=col>percent</th><th scope=col>valid_percent</th></tr>\n",
       "\t<tr><th></th><th scope=col>&lt;lgl&gt;</th><th scope=col>&lt;int&gt;</th><th scope=col>&lt;dbl&gt;</th><th scope=col>&lt;dbl&gt;</th></tr>\n",
       "</thead>\n",
       "<tbody>\n",
       "\t<tr><th scope=row>1</th><td>FALSE</td><td>395</td><td>0.873893805</td><td>0.8777778</td></tr>\n",
       "\t<tr><th scope=row>2</th><td> TRUE</td><td> 55</td><td>0.121681416</td><td>0.1222222</td></tr>\n",
       "\t<tr><th scope=row>3</th><td>   NA</td><td>  2</td><td>0.004424779</td><td>       NA</td></tr>\n",
       "</tbody>\n",
       "</table>\n"
      ],
      "text/latex": [
       "A tabyl: 3 × 4\n",
       "\\begin{tabular}{r|llll}\n",
       "  & experience\\_non\\_academic\\_rcd & n & percent & valid\\_percent\\\\\n",
       "  & <lgl> & <int> & <dbl> & <dbl>\\\\\n",
       "\\hline\n",
       "\t1 & FALSE & 395 & 0.873893805 & 0.8777778\\\\\n",
       "\t2 &  TRUE &  55 & 0.121681416 & 0.1222222\\\\\n",
       "\t3 &    NA &   2 & 0.004424779 &        NA\\\\\n",
       "\\end{tabular}\n"
      ],
      "text/markdown": [
       "\n",
       "A tabyl: 3 × 4\n",
       "\n",
       "| <!--/--> | experience_non_academic_rcd &lt;lgl&gt; | n &lt;int&gt; | percent &lt;dbl&gt; | valid_percent &lt;dbl&gt; |\n",
       "|---|---|---|---|---|\n",
       "| 1 | FALSE | 395 | 0.873893805 | 0.8777778 |\n",
       "| 2 |  TRUE |  55 | 0.121681416 | 0.1222222 |\n",
       "| 3 |    NA |   2 | 0.004424779 |        NA |\n",
       "\n"
      ],
      "text/plain": [
       "  experience_non_academic_rcd n   percent     valid_percent\n",
       "1 FALSE                       395 0.873893805 0.8777778    \n",
       "2  TRUE                        55 0.121681416 0.1222222    \n",
       "3    NA                         2 0.004424779        NA    "
      ]
     },
     "metadata": {},
     "output_type": "display_data"
    }
   ],
   "source": [
    "all_edu_work %>%\n",
    "  filter(academic_institution) %>% \n",
    "  tabyl(experience_non_academic_rcd)"
   ]
  },
  {
   "cell_type": "code",
   "execution_count": 27,
   "id": "673bf1a7-52c1-4b99-877e-5dc53ccd2f96",
   "metadata": {},
   "outputs": [
    {
     "data": {
      "text/html": [
       "<table class=\"dataframe\">\n",
       "<caption>A tabyl: 2 × 3</caption>\n",
       "<thead>\n",
       "\t<tr><th scope=col>experience_corporate</th><th scope=col>n</th><th scope=col>percent</th></tr>\n",
       "\t<tr><th scope=col>&lt;lgl&gt;</th><th scope=col>&lt;int&gt;</th><th scope=col>&lt;dbl&gt;</th></tr>\n",
       "</thead>\n",
       "<tbody>\n",
       "\t<tr><td>FALSE</td><td>287</td><td>0.5097691</td></tr>\n",
       "\t<tr><td> TRUE</td><td>276</td><td>0.4902309</td></tr>\n",
       "</tbody>\n",
       "</table>\n"
      ],
      "text/latex": [
       "A tabyl: 2 × 3\n",
       "\\begin{tabular}{lll}\n",
       " experience\\_corporate & n & percent\\\\\n",
       " <lgl> & <int> & <dbl>\\\\\n",
       "\\hline\n",
       "\t FALSE & 287 & 0.5097691\\\\\n",
       "\t  TRUE & 276 & 0.4902309\\\\\n",
       "\\end{tabular}\n"
      ],
      "text/markdown": [
       "\n",
       "A tabyl: 2 × 3\n",
       "\n",
       "| experience_corporate &lt;lgl&gt; | n &lt;int&gt; | percent &lt;dbl&gt; |\n",
       "|---|---|---|\n",
       "| FALSE | 287 | 0.5097691 |\n",
       "|  TRUE | 276 | 0.4902309 |\n",
       "\n"
      ],
      "text/plain": [
       "  experience_corporate n   percent  \n",
       "1 FALSE                287 0.5097691\n",
       "2  TRUE                276 0.4902309"
      ]
     },
     "metadata": {},
     "output_type": "display_data"
    }
   ],
   "source": [
    "tabyl(all_edu_work, experience_corporate)"
   ]
  },
  {
   "cell_type": "markdown",
   "id": "be1d17a4-c67c-4761-a479-c7cf0b018314",
   "metadata": {},
   "source": [
    "## 4.3 Current Positions\n",
    "\n",
    "### Employer Types and Units"
   ]
  },
  {
   "cell_type": "code",
   "execution_count": 28,
   "id": "d45ee07a-5704-41b7-9486-f9a6dd9d1053",
   "metadata": {},
   "outputs": [
    {
     "data": {
      "text/html": [
       "<table class=\"dataframe\">\n",
       "<caption>A tabyl: 13 × 4</caption>\n",
       "<thead>\n",
       "\t<tr><th></th><th scope=col>institution_combo_group</th><th scope=col>n</th><th scope=col>percent</th><th scope=col>valid_percent</th></tr>\n",
       "\t<tr><th></th><th scope=col>&lt;chr&gt;</th><th scope=col>&lt;int&gt;</th><th scope=col>&lt;dbl&gt;</th><th scope=col>&lt;dbl&gt;</th></tr>\n",
       "</thead>\n",
       "<tbody>\n",
       "\t<tr><th scope=row>1</th><td>Academic Computing Center</td><td>  9</td><td>0.016697588</td><td>0.017475728</td></tr>\n",
       "\t<tr><th scope=row>2</th><td>Company                  </td><td>  8</td><td>0.014842301</td><td>0.015533981</td></tr>\n",
       "\t<tr><th scope=row>3</th><td>Government               </td><td>  8</td><td>0.014842301</td><td>0.015533981</td></tr>\n",
       "\t<tr><th scope=row>4</th><td>Medical                  </td><td> 29</td><td>0.053803340</td><td>0.056310680</td></tr>\n",
       "\t<tr><th scope=row>5</th><td>Other                    </td><td> 26</td><td>0.048237477</td><td>0.050485437</td></tr>\n",
       "\t<tr><th scope=row>6</th><td>Other Academic private   </td><td> 12</td><td>0.022263451</td><td>0.023300971</td></tr>\n",
       "\t<tr><th scope=row>7</th><td>Other Academic public    </td><td> 10</td><td>0.018552876</td><td>0.019417476</td></tr>\n",
       "\t<tr><th scope=row>8</th><td>R1 private               </td><td>106</td><td>0.196660482</td><td>0.205825243</td></tr>\n",
       "\t<tr><th scope=row>9</th><td>R1 public                </td><td>255</td><td>0.473098330</td><td>0.495145631</td></tr>\n",
       "\t<tr><th scope=row>10</th><td>R2 private               </td><td> 10</td><td>0.018552876</td><td>0.019417476</td></tr>\n",
       "\t<tr><th scope=row>11</th><td>R2 public                </td><td> 37</td><td>0.068645640</td><td>0.071844660</td></tr>\n",
       "\t<tr><th scope=row>12</th><td>Unknown                  </td><td>  5</td><td>0.009276438</td><td>0.009708738</td></tr>\n",
       "\t<tr><th scope=row>13</th><td>NA                       </td><td> 24</td><td>0.044526902</td><td>         NA</td></tr>\n",
       "</tbody>\n",
       "</table>\n"
      ],
      "text/latex": [
       "A tabyl: 13 × 4\n",
       "\\begin{tabular}{r|llll}\n",
       "  & institution\\_combo\\_group & n & percent & valid\\_percent\\\\\n",
       "  & <chr> & <int> & <dbl> & <dbl>\\\\\n",
       "\\hline\n",
       "\t1 & Academic Computing Center &   9 & 0.016697588 & 0.017475728\\\\\n",
       "\t2 & Company                   &   8 & 0.014842301 & 0.015533981\\\\\n",
       "\t3 & Government                &   8 & 0.014842301 & 0.015533981\\\\\n",
       "\t4 & Medical                   &  29 & 0.053803340 & 0.056310680\\\\\n",
       "\t5 & Other                     &  26 & 0.048237477 & 0.050485437\\\\\n",
       "\t6 & Other Academic private    &  12 & 0.022263451 & 0.023300971\\\\\n",
       "\t7 & Other Academic public     &  10 & 0.018552876 & 0.019417476\\\\\n",
       "\t8 & R1 private                & 106 & 0.196660482 & 0.205825243\\\\\n",
       "\t9 & R1 public                 & 255 & 0.473098330 & 0.495145631\\\\\n",
       "\t10 & R2 private                &  10 & 0.018552876 & 0.019417476\\\\\n",
       "\t11 & R2 public                 &  37 & 0.068645640 & 0.071844660\\\\\n",
       "\t12 & Unknown                   &   5 & 0.009276438 & 0.009708738\\\\\n",
       "\t13 & NA                        &  24 & 0.044526902 &          NA\\\\\n",
       "\\end{tabular}\n"
      ],
      "text/markdown": [
       "\n",
       "A tabyl: 13 × 4\n",
       "\n",
       "| <!--/--> | institution_combo_group &lt;chr&gt; | n &lt;int&gt; | percent &lt;dbl&gt; | valid_percent &lt;dbl&gt; |\n",
       "|---|---|---|---|---|\n",
       "| 1 | Academic Computing Center |   9 | 0.016697588 | 0.017475728 |\n",
       "| 2 | Company                   |   8 | 0.014842301 | 0.015533981 |\n",
       "| 3 | Government                |   8 | 0.014842301 | 0.015533981 |\n",
       "| 4 | Medical                   |  29 | 0.053803340 | 0.056310680 |\n",
       "| 5 | Other                     |  26 | 0.048237477 | 0.050485437 |\n",
       "| 6 | Other Academic private    |  12 | 0.022263451 | 0.023300971 |\n",
       "| 7 | Other Academic public     |  10 | 0.018552876 | 0.019417476 |\n",
       "| 8 | R1 private                | 106 | 0.196660482 | 0.205825243 |\n",
       "| 9 | R1 public                 | 255 | 0.473098330 | 0.495145631 |\n",
       "| 10 | R2 private                |  10 | 0.018552876 | 0.019417476 |\n",
       "| 11 | R2 public                 |  37 | 0.068645640 | 0.071844660 |\n",
       "| 12 | Unknown                   |   5 | 0.009276438 | 0.009708738 |\n",
       "| 13 | NA                        |  24 | 0.044526902 |          NA |\n",
       "\n"
      ],
      "text/plain": [
       "   institution_combo_group   n   percent     valid_percent\n",
       "1  Academic Computing Center   9 0.016697588 0.017475728  \n",
       "2  Company                     8 0.014842301 0.015533981  \n",
       "3  Government                  8 0.014842301 0.015533981  \n",
       "4  Medical                    29 0.053803340 0.056310680  \n",
       "5  Other                      26 0.048237477 0.050485437  \n",
       "6  Other Academic private     12 0.022263451 0.023300971  \n",
       "7  Other Academic public      10 0.018552876 0.019417476  \n",
       "8  R1 private                106 0.196660482 0.205825243  \n",
       "9  R1 public                 255 0.473098330 0.495145631  \n",
       "10 R2 private                 10 0.018552876 0.019417476  \n",
       "11 R2 public                  37 0.068645640 0.071844660  \n",
       "12 Unknown                     5 0.009276438 0.009708738  \n",
       "13 NA                         24 0.044526902          NA  "
      ]
     },
     "metadata": {},
     "output_type": "display_data"
    }
   ],
   "source": [
    "tabyl(rcd_edu_work, institution_combo_group)"
   ]
  },
  {
   "cell_type": "code",
   "execution_count": 29,
   "id": "9782d4ec-1a1a-4149-ba80-dba2e3637257",
   "metadata": {},
   "outputs": [
    {
     "data": {
      "text/html": [
       "<table class=\"dataframe\">\n",
       "<caption>A tabyl: 3 × 4</caption>\n",
       "<thead>\n",
       "\t<tr><th></th><th scope=col>position_group_rc</th><th scope=col>n</th><th scope=col>percent</th><th scope=col>valid_percent</th></tr>\n",
       "\t<tr><th></th><th scope=col>&lt;lgl&gt;</th><th scope=col>&lt;int&gt;</th><th scope=col>&lt;dbl&gt;</th><th scope=col>&lt;dbl&gt;</th></tr>\n",
       "</thead>\n",
       "<tbody>\n",
       "\t<tr><th scope=row>1</th><td>FALSE</td><td>365</td><td>0.67717996</td><td>0.7388664</td></tr>\n",
       "\t<tr><th scope=row>2</th><td> TRUE</td><td>129</td><td>0.23933210</td><td>0.2611336</td></tr>\n",
       "\t<tr><th scope=row>3</th><td>   NA</td><td> 45</td><td>0.08348794</td><td>       NA</td></tr>\n",
       "</tbody>\n",
       "</table>\n"
      ],
      "text/latex": [
       "A tabyl: 3 × 4\n",
       "\\begin{tabular}{r|llll}\n",
       "  & position\\_group\\_rc & n & percent & valid\\_percent\\\\\n",
       "  & <lgl> & <int> & <dbl> & <dbl>\\\\\n",
       "\\hline\n",
       "\t1 & FALSE & 365 & 0.67717996 & 0.7388664\\\\\n",
       "\t2 &  TRUE & 129 & 0.23933210 & 0.2611336\\\\\n",
       "\t3 &    NA &  45 & 0.08348794 &        NA\\\\\n",
       "\\end{tabular}\n"
      ],
      "text/markdown": [
       "\n",
       "A tabyl: 3 × 4\n",
       "\n",
       "| <!--/--> | position_group_rc &lt;lgl&gt; | n &lt;int&gt; | percent &lt;dbl&gt; | valid_percent &lt;dbl&gt; |\n",
       "|---|---|---|---|---|\n",
       "| 1 | FALSE | 365 | 0.67717996 | 0.7388664 |\n",
       "| 2 |  TRUE | 129 | 0.23933210 | 0.2611336 |\n",
       "| 3 |    NA |  45 | 0.08348794 |        NA |\n",
       "\n"
      ],
      "text/plain": [
       "  position_group_rc n   percent    valid_percent\n",
       "1 FALSE             365 0.67717996 0.7388664    \n",
       "2  TRUE             129 0.23933210 0.2611336    \n",
       "3    NA              45 0.08348794        NA    "
      ]
     },
     "metadata": {},
     "output_type": "display_data"
    }
   ],
   "source": [
    "tabyl(rcd_edu_work, position_group_rc)"
   ]
  },
  {
   "cell_type": "markdown",
   "id": "46422d8b-c5da-42f5-8ab0-a3f37e29a35b",
   "metadata": {},
   "source": [
    "### Tenure and Promotion"
   ]
  },
  {
   "cell_type": "code",
   "execution_count": 30,
   "id": "56ef6217-8f65-4409-8ce3-88c557804ea1",
   "metadata": {},
   "outputs": [
    {
     "data": {
      "text/html": [
       "5"
      ],
      "text/latex": [
       "5"
      ],
      "text/markdown": [
       "5"
      ],
      "text/plain": [
       "[1] 5"
      ]
     },
     "metadata": {},
     "output_type": "display_data"
    }
   ],
   "source": [
    "median(rcd_edu_work$position_group_tenure, na.rm=TRUE)"
   ]
  },
  {
   "cell_type": "code",
   "execution_count": 31,
   "id": "780419bf-7eda-409e-b831-c859b77b1312",
   "metadata": {},
   "outputs": [
    {
     "data": {
      "text/html": [
       "3"
      ],
      "text/latex": [
       "3"
      ],
      "text/markdown": [
       "3"
      ],
      "text/plain": [
       "[1] 3"
      ]
     },
     "metadata": {},
     "output_type": "display_data"
    }
   ],
   "source": [
    "median(rcd_edu_work$position_tenure, na.rm=TRUE)"
   ]
  },
  {
   "cell_type": "code",
   "execution_count": 32,
   "id": "b76091c8-9de7-422c-a4f1-1ad6bacc4120",
   "metadata": {},
   "outputs": [
    {
     "data": {
      "text/html": [
       "<table class=\"dataframe\">\n",
       "<caption>A tabyl: 5 × 4</caption>\n",
       "<thead>\n",
       "\t<tr><th></th><th scope=col>position_group_tenure_cat</th><th scope=col>n</th><th scope=col>percent</th><th scope=col>valid_percent</th></tr>\n",
       "\t<tr><th></th><th scope=col>&lt;chr&gt;</th><th scope=col>&lt;int&gt;</th><th scope=col>&lt;dbl&gt;</th><th scope=col>&lt;dbl&gt;</th></tr>\n",
       "</thead>\n",
       "<tbody>\n",
       "\t<tr><th scope=row>1</th><td>&lt;2 </td><td>103</td><td>0.19109462</td><td>0.1925234</td></tr>\n",
       "\t<tr><th scope=row>2</th><td>10+</td><td>144</td><td>0.26716141</td><td>0.2691589</td></tr>\n",
       "\t<tr><th scope=row>3</th><td>2-4</td><td>145</td><td>0.26901670</td><td>0.2710280</td></tr>\n",
       "\t<tr><th scope=row>4</th><td>5-9</td><td>143</td><td>0.26530612</td><td>0.2672897</td></tr>\n",
       "\t<tr><th scope=row>5</th><td>NA </td><td>  4</td><td>0.00742115</td><td>       NA</td></tr>\n",
       "</tbody>\n",
       "</table>\n"
      ],
      "text/latex": [
       "A tabyl: 5 × 4\n",
       "\\begin{tabular}{r|llll}\n",
       "  & position\\_group\\_tenure\\_cat & n & percent & valid\\_percent\\\\\n",
       "  & <chr> & <int> & <dbl> & <dbl>\\\\\n",
       "\\hline\n",
       "\t1 & <2  & 103 & 0.19109462 & 0.1925234\\\\\n",
       "\t2 & 10+ & 144 & 0.26716141 & 0.2691589\\\\\n",
       "\t3 & 2-4 & 145 & 0.26901670 & 0.2710280\\\\\n",
       "\t4 & 5-9 & 143 & 0.26530612 & 0.2672897\\\\\n",
       "\t5 & NA  &   4 & 0.00742115 &        NA\\\\\n",
       "\\end{tabular}\n"
      ],
      "text/markdown": [
       "\n",
       "A tabyl: 5 × 4\n",
       "\n",
       "| <!--/--> | position_group_tenure_cat &lt;chr&gt; | n &lt;int&gt; | percent &lt;dbl&gt; | valid_percent &lt;dbl&gt; |\n",
       "|---|---|---|---|---|\n",
       "| 1 | &lt;2  | 103 | 0.19109462 | 0.1925234 |\n",
       "| 2 | 10+ | 144 | 0.26716141 | 0.2691589 |\n",
       "| 3 | 2-4 | 145 | 0.26901670 | 0.2710280 |\n",
       "| 4 | 5-9 | 143 | 0.26530612 | 0.2672897 |\n",
       "| 5 | NA  |   4 | 0.00742115 |        NA |\n",
       "\n"
      ],
      "text/plain": [
       "  position_group_tenure_cat n   percent    valid_percent\n",
       "1 <2                        103 0.19109462 0.1925234    \n",
       "2 10+                       144 0.26716141 0.2691589    \n",
       "3 2-4                       145 0.26901670 0.2710280    \n",
       "4 5-9                       143 0.26530612 0.2672897    \n",
       "5 NA                          4 0.00742115        NA    "
      ]
     },
     "metadata": {},
     "output_type": "display_data"
    }
   ],
   "source": [
    "tabyl(rcd_edu_work, position_group_tenure_cat)"
   ]
  },
  {
   "cell_type": "markdown",
   "id": "e060f25c-2765-45bd-8a7a-03d5444b6bf8",
   "metadata": {},
   "source": [
    "RCD experience exceeds current group tenure?"
   ]
  },
  {
   "cell_type": "code",
   "execution_count": 33,
   "id": "cf8794c1-5e44-4a62-a3f4-01d33d81d7e8",
   "metadata": {},
   "outputs": [
    {
     "data": {
      "text/html": [
       "<table class=\"dataframe\">\n",
       "<caption>A tabyl: 3 × 4</caption>\n",
       "<thead>\n",
       "\t<tr><th></th><th scope=col>other_group_rcd</th><th scope=col>n</th><th scope=col>percent</th><th scope=col>valid_percent</th></tr>\n",
       "\t<tr><th></th><th scope=col>&lt;lgl&gt;</th><th scope=col>&lt;int&gt;</th><th scope=col>&lt;dbl&gt;</th><th scope=col>&lt;dbl&gt;</th></tr>\n",
       "</thead>\n",
       "<tbody>\n",
       "\t<tr><th scope=row>1</th><td>FALSE</td><td>282</td><td>0.523191095</td><td>0.5280899</td></tr>\n",
       "\t<tr><th scope=row>2</th><td> TRUE</td><td>252</td><td>0.467532468</td><td>0.4719101</td></tr>\n",
       "\t<tr><th scope=row>3</th><td>   NA</td><td>  5</td><td>0.009276438</td><td>       NA</td></tr>\n",
       "</tbody>\n",
       "</table>\n"
      ],
      "text/latex": [
       "A tabyl: 3 × 4\n",
       "\\begin{tabular}{r|llll}\n",
       "  & other\\_group\\_rcd & n & percent & valid\\_percent\\\\\n",
       "  & <lgl> & <int> & <dbl> & <dbl>\\\\\n",
       "\\hline\n",
       "\t1 & FALSE & 282 & 0.523191095 & 0.5280899\\\\\n",
       "\t2 &  TRUE & 252 & 0.467532468 & 0.4719101\\\\\n",
       "\t3 &    NA &   5 & 0.009276438 &        NA\\\\\n",
       "\\end{tabular}\n"
      ],
      "text/markdown": [
       "\n",
       "A tabyl: 3 × 4\n",
       "\n",
       "| <!--/--> | other_group_rcd &lt;lgl&gt; | n &lt;int&gt; | percent &lt;dbl&gt; | valid_percent &lt;dbl&gt; |\n",
       "|---|---|---|---|---|\n",
       "| 1 | FALSE | 282 | 0.523191095 | 0.5280899 |\n",
       "| 2 |  TRUE | 252 | 0.467532468 | 0.4719101 |\n",
       "| 3 |    NA |   5 | 0.009276438 |        NA |\n",
       "\n"
      ],
      "text/plain": [
       "  other_group_rcd n   percent     valid_percent\n",
       "1 FALSE           282 0.523191095 0.5280899    \n",
       "2  TRUE           252 0.467532468 0.4719101    \n",
       "3    NA             5 0.009276438        NA    "
      ]
     },
     "metadata": {},
     "output_type": "display_data"
    }
   ],
   "source": [
    "rcd_edu_work %>%\n",
    "  mutate(other_group_rcd = experience_rcd > position_group_tenure) %>%\n",
    "  tabyl(other_group_rcd)"
   ]
  },
  {
   "cell_type": "markdown",
   "id": "2ff2f4ac-78cf-4b98-830d-9041be68e48a",
   "metadata": {},
   "source": [
    "Promoted"
   ]
  },
  {
   "cell_type": "code",
   "execution_count": 34,
   "id": "749cf756-79ae-4ff7-a459-2dc00feae41f",
   "metadata": {},
   "outputs": [
    {
     "data": {
      "text/html": [
       "<table class=\"dataframe\">\n",
       "<caption>A tabyl: 3 × 4</caption>\n",
       "<thead>\n",
       "\t<tr><th></th><th scope=col>promoted</th><th scope=col>n</th><th scope=col>percent</th><th scope=col>valid_percent</th></tr>\n",
       "\t<tr><th></th><th scope=col>&lt;lgl&gt;</th><th scope=col>&lt;int&gt;</th><th scope=col>&lt;dbl&gt;</th><th scope=col>&lt;dbl&gt;</th></tr>\n",
       "</thead>\n",
       "<tbody>\n",
       "\t<tr><th scope=row>1</th><td>FALSE</td><td>294</td><td>0.545454545</td><td>0.5485075</td></tr>\n",
       "\t<tr><th scope=row>2</th><td> TRUE</td><td>242</td><td>0.448979592</td><td>0.4514925</td></tr>\n",
       "\t<tr><th scope=row>3</th><td>   NA</td><td>  3</td><td>0.005565863</td><td>       NA</td></tr>\n",
       "</tbody>\n",
       "</table>\n"
      ],
      "text/latex": [
       "A tabyl: 3 × 4\n",
       "\\begin{tabular}{r|llll}\n",
       "  & promoted & n & percent & valid\\_percent\\\\\n",
       "  & <lgl> & <int> & <dbl> & <dbl>\\\\\n",
       "\\hline\n",
       "\t1 & FALSE & 294 & 0.545454545 & 0.5485075\\\\\n",
       "\t2 &  TRUE & 242 & 0.448979592 & 0.4514925\\\\\n",
       "\t3 &    NA &   3 & 0.005565863 &        NA\\\\\n",
       "\\end{tabular}\n"
      ],
      "text/markdown": [
       "\n",
       "A tabyl: 3 × 4\n",
       "\n",
       "| <!--/--> | promoted &lt;lgl&gt; | n &lt;int&gt; | percent &lt;dbl&gt; | valid_percent &lt;dbl&gt; |\n",
       "|---|---|---|---|---|\n",
       "| 1 | FALSE | 294 | 0.545454545 | 0.5485075 |\n",
       "| 2 |  TRUE | 242 | 0.448979592 | 0.4514925 |\n",
       "| 3 |    NA |   3 | 0.005565863 |        NA |\n",
       "\n"
      ],
      "text/plain": [
       "  promoted n   percent     valid_percent\n",
       "1 FALSE    294 0.545454545 0.5485075    \n",
       "2  TRUE    242 0.448979592 0.4514925    \n",
       "3    NA      3 0.005565863        NA    "
      ]
     },
     "metadata": {},
     "output_type": "display_data"
    }
   ],
   "source": [
    "rcd_edu_work %>%\n",
    "  tabyl(promoted)"
   ]
  },
  {
   "cell_type": "markdown",
   "id": "bc66c8a9-6eb0-4f69-9c1a-97c7d5a34060",
   "metadata": {},
   "source": [
    "Only enough male and female respondents to compare (others not included below)"
   ]
  },
  {
   "cell_type": "code",
   "execution_count": 35,
   "id": "b0f62fcb-9aae-43ca-8d50-7713811c9dcc",
   "metadata": {},
   "outputs": [
    {
     "data": {
      "text/html": [
       "<table class=\"dataframe\">\n",
       "<caption>A tibble: 2 × 4</caption>\n",
       "<thead>\n",
       "\t<tr><th scope=col>variable</th><th scope=col>category</th><th scope=col>Male</th><th scope=col>Female</th></tr>\n",
       "\t<tr><th scope=col>&lt;chr&gt;</th><th scope=col>&lt;chr&gt;</th><th scope=col>&lt;dbl&gt;</th><th scope=col>&lt;dbl&gt;</th></tr>\n",
       "</thead>\n",
       "<tbody>\n",
       "\t<tr><td>promoted</td><td>FALSE</td><td>0.5535248</td><td>0.5396825</td></tr>\n",
       "\t<tr><td>promoted</td><td>TRUE </td><td>0.4464752</td><td>0.4603175</td></tr>\n",
       "</tbody>\n",
       "</table>\n"
      ],
      "text/latex": [
       "A tibble: 2 × 4\n",
       "\\begin{tabular}{llll}\n",
       " variable & category & Male & Female\\\\\n",
       " <chr> & <chr> & <dbl> & <dbl>\\\\\n",
       "\\hline\n",
       "\t promoted & FALSE & 0.5535248 & 0.5396825\\\\\n",
       "\t promoted & TRUE  & 0.4464752 & 0.4603175\\\\\n",
       "\\end{tabular}\n"
      ],
      "text/markdown": [
       "\n",
       "A tibble: 2 × 4\n",
       "\n",
       "| variable &lt;chr&gt; | category &lt;chr&gt; | Male &lt;dbl&gt; | Female &lt;dbl&gt; |\n",
       "|---|---|---|---|\n",
       "| promoted | FALSE | 0.5535248 | 0.5396825 |\n",
       "| promoted | TRUE  | 0.4464752 | 0.4603175 |\n",
       "\n"
      ],
      "text/plain": [
       "  variable category Male      Female   \n",
       "1 promoted FALSE    0.5535248 0.5396825\n",
       "2 promoted TRUE     0.4464752 0.4603175"
      ]
     },
     "metadata": {},
     "output_type": "display_data"
    }
   ],
   "source": [
    "gender %>%\n",
    "  filter(variable==\"promoted\") %>%\n",
    "  pivot_wider(names_from=gender, values_from=n, values_fill=0) %>%\n",
    "  mutate(across(-1:-2, ~.x/sum(.x)))"
   ]
  },
  {
   "cell_type": "code",
   "execution_count": 36,
   "id": "6091998a-0caa-44d0-8274-7e7477b43419",
   "metadata": {},
   "outputs": [
    {
     "data": {
      "text/html": [
       "<table class=\"dataframe\">\n",
       "<caption>A tabyl: 2 × 3</caption>\n",
       "<thead>\n",
       "\t<tr><th scope=col>promoted</th><th scope=col>n</th><th scope=col>percent</th></tr>\n",
       "\t<tr><th scope=col>&lt;lgl&gt;</th><th scope=col>&lt;int&gt;</th><th scope=col>&lt;dbl&gt;</th></tr>\n",
       "</thead>\n",
       "<tbody>\n",
       "\t<tr><td>FALSE</td><td>59</td><td>0.4125874</td></tr>\n",
       "\t<tr><td> TRUE</td><td>84</td><td>0.5874126</td></tr>\n",
       "</tbody>\n",
       "</table>\n"
      ],
      "text/latex": [
       "A tabyl: 2 × 3\n",
       "\\begin{tabular}{lll}\n",
       " promoted & n & percent\\\\\n",
       " <lgl> & <int> & <dbl>\\\\\n",
       "\\hline\n",
       "\t FALSE & 59 & 0.4125874\\\\\n",
       "\t  TRUE & 84 & 0.5874126\\\\\n",
       "\\end{tabular}\n"
      ],
      "text/markdown": [
       "\n",
       "A tabyl: 2 × 3\n",
       "\n",
       "| promoted &lt;lgl&gt; | n &lt;int&gt; | percent &lt;dbl&gt; |\n",
       "|---|---|---|\n",
       "| FALSE | 59 | 0.4125874 |\n",
       "|  TRUE | 84 | 0.5874126 |\n",
       "\n"
      ],
      "text/plain": [
       "  promoted n  percent  \n",
       "1 FALSE    59 0.4125874\n",
       "2  TRUE    84 0.5874126"
      ]
     },
     "metadata": {},
     "output_type": "display_data"
    }
   ],
   "source": [
    "rcd_edu_work %>%\n",
    "  filter(position_group_tenure_cat == \"5-9\") %>%\n",
    "  tabyl(promoted)"
   ]
  },
  {
   "cell_type": "code",
   "execution_count": 37,
   "id": "c6e5b4c6-8ddb-42ba-b5b7-28f2599d23d9",
   "metadata": {},
   "outputs": [
    {
     "data": {
      "text/html": [
       "<table class=\"dataframe\">\n",
       "<caption>A tabyl: 2 × 3</caption>\n",
       "<thead>\n",
       "\t<tr><th scope=col>promoted</th><th scope=col>n</th><th scope=col>percent</th></tr>\n",
       "\t<tr><th scope=col>&lt;lgl&gt;</th><th scope=col>&lt;int&gt;</th><th scope=col>&lt;dbl&gt;</th></tr>\n",
       "</thead>\n",
       "<tbody>\n",
       "\t<tr><td>FALSE</td><td> 39</td><td>0.2708333</td></tr>\n",
       "\t<tr><td> TRUE</td><td>105</td><td>0.7291667</td></tr>\n",
       "</tbody>\n",
       "</table>\n"
      ],
      "text/latex": [
       "A tabyl: 2 × 3\n",
       "\\begin{tabular}{lll}\n",
       " promoted & n & percent\\\\\n",
       " <lgl> & <int> & <dbl>\\\\\n",
       "\\hline\n",
       "\t FALSE &  39 & 0.2708333\\\\\n",
       "\t  TRUE & 105 & 0.7291667\\\\\n",
       "\\end{tabular}\n"
      ],
      "text/markdown": [
       "\n",
       "A tabyl: 2 × 3\n",
       "\n",
       "| promoted &lt;lgl&gt; | n &lt;int&gt; | percent &lt;dbl&gt; |\n",
       "|---|---|---|\n",
       "| FALSE |  39 | 0.2708333 |\n",
       "|  TRUE | 105 | 0.7291667 |\n",
       "\n"
      ],
      "text/plain": [
       "  promoted n   percent  \n",
       "1 FALSE     39 0.2708333\n",
       "2  TRUE    105 0.7291667"
      ]
     },
     "metadata": {},
     "output_type": "display_data"
    }
   ],
   "source": [
    "rcd_edu_work %>%\n",
    "  filter(position_group_tenure_cat == \"10+\") %>%\n",
    "  tabyl(promoted)"
   ]
  },
  {
   "cell_type": "markdown",
   "id": "f726ef4e-f979-47b4-a52b-4d34f50007e8",
   "metadata": {},
   "source": [
    "### Position Types and Levels"
   ]
  },
  {
   "cell_type": "code",
   "execution_count": 38,
   "id": "21ae00bb-39eb-4489-a76c-536b0737f9a5",
   "metadata": {},
   "outputs": [
    {
     "data": {
      "text/html": [
       "<table class=\"dataframe\">\n",
       "<caption>A tabyl: 9 × 3</caption>\n",
       "<thead>\n",
       "\t<tr><th scope=col>position_category</th><th scope=col>n</th><th scope=col>percent</th></tr>\n",
       "\t<tr><th scope=col>&lt;chr&gt;</th><th scope=col>&lt;int&gt;</th><th scope=col>&lt;dbl&gt;</th></tr>\n",
       "</thead>\n",
       "<tbody>\n",
       "\t<tr><td>AVP, VP, CIO, or other senior leader </td><td>  9</td><td>0.01669759</td></tr>\n",
       "\t<tr><td>Director                             </td><td> 75</td><td>0.13914657</td></tr>\n",
       "\t<tr><td>Faculty                              </td><td> 39</td><td>0.07235622</td></tr>\n",
       "\t<tr><td>Individual contributor               </td><td>133</td><td>0.24675325</td></tr>\n",
       "\t<tr><td>Lead/principal individual contributor</td><td> 74</td><td>0.13729128</td></tr>\n",
       "\t<tr><td>Manager                              </td><td> 69</td><td>0.12801484</td></tr>\n",
       "\t<tr><td>Other/Unknown                        </td><td> 13</td><td>0.02411874</td></tr>\n",
       "\t<tr><td>Senior individual contributor        </td><td>118</td><td>0.21892393</td></tr>\n",
       "\t<tr><td>Student position / internship        </td><td>  9</td><td>0.01669759</td></tr>\n",
       "</tbody>\n",
       "</table>\n"
      ],
      "text/latex": [
       "A tabyl: 9 × 3\n",
       "\\begin{tabular}{lll}\n",
       " position\\_category & n & percent\\\\\n",
       " <chr> & <int> & <dbl>\\\\\n",
       "\\hline\n",
       "\t AVP, VP, CIO, or other senior leader  &   9 & 0.01669759\\\\\n",
       "\t Director                              &  75 & 0.13914657\\\\\n",
       "\t Faculty                               &  39 & 0.07235622\\\\\n",
       "\t Individual contributor                & 133 & 0.24675325\\\\\n",
       "\t Lead/principal individual contributor &  74 & 0.13729128\\\\\n",
       "\t Manager                               &  69 & 0.12801484\\\\\n",
       "\t Other/Unknown                         &  13 & 0.02411874\\\\\n",
       "\t Senior individual contributor         & 118 & 0.21892393\\\\\n",
       "\t Student position / internship         &   9 & 0.01669759\\\\\n",
       "\\end{tabular}\n"
      ],
      "text/markdown": [
       "\n",
       "A tabyl: 9 × 3\n",
       "\n",
       "| position_category &lt;chr&gt; | n &lt;int&gt; | percent &lt;dbl&gt; |\n",
       "|---|---|---|\n",
       "| AVP, VP, CIO, or other senior leader  |   9 | 0.01669759 |\n",
       "| Director                              |  75 | 0.13914657 |\n",
       "| Faculty                               |  39 | 0.07235622 |\n",
       "| Individual contributor                | 133 | 0.24675325 |\n",
       "| Lead/principal individual contributor |  74 | 0.13729128 |\n",
       "| Manager                               |  69 | 0.12801484 |\n",
       "| Other/Unknown                         |  13 | 0.02411874 |\n",
       "| Senior individual contributor         | 118 | 0.21892393 |\n",
       "| Student position / internship         |   9 | 0.01669759 |\n",
       "\n"
      ],
      "text/plain": [
       "  position_category                     n   percent   \n",
       "1 AVP, VP, CIO, or other senior leader    9 0.01669759\n",
       "2 Director                               75 0.13914657\n",
       "3 Faculty                                39 0.07235622\n",
       "4 Individual contributor                133 0.24675325\n",
       "5 Lead/principal individual contributor  74 0.13729128\n",
       "6 Manager                                69 0.12801484\n",
       "7 Other/Unknown                          13 0.02411874\n",
       "8 Senior individual contributor         118 0.21892393\n",
       "9 Student position / internship           9 0.01669759"
      ]
     },
     "metadata": {},
     "output_type": "display_data"
    }
   ],
   "source": [
    "rcd_edu_work %>%\n",
    "  tabyl(position_category)"
   ]
  },
  {
   "cell_type": "code",
   "execution_count": 39,
   "id": "e9302994-78ff-4b86-a977-6752771d0f8b",
   "metadata": {},
   "outputs": [
    {
     "data": {
      "text/html": [
       "<table class=\"dataframe\">\n",
       "<caption>A tibble: 9 × 3</caption>\n",
       "<thead>\n",
       "\t<tr><th scope=col>position_category</th><th scope=col>rcd_experience</th><th scope=col>supervise_staff</th></tr>\n",
       "\t<tr><th scope=col>&lt;chr&gt;</th><th scope=col>&lt;dbl&gt;</th><th scope=col>&lt;dbl&gt;</th></tr>\n",
       "</thead>\n",
       "<tbody>\n",
       "\t<tr><td>AVP, VP, CIO, or other senior leader </td><td>20.0</td><td>0.88888889</td></tr>\n",
       "\t<tr><td>Director                             </td><td>15.0</td><td>0.93333333</td></tr>\n",
       "\t<tr><td>Faculty                              </td><td>10.0</td><td>0.41025641</td></tr>\n",
       "\t<tr><td>Individual contributor               </td><td> 4.0</td><td>0.03030303</td></tr>\n",
       "\t<tr><td>Lead/principal individual contributor</td><td>10.0</td><td>0.33783784</td></tr>\n",
       "\t<tr><td>Manager                              </td><td>14.0</td><td>0.89855072</td></tr>\n",
       "\t<tr><td>Other/Unknown                        </td><td>10.5</td><td>0.27272727</td></tr>\n",
       "\t<tr><td>Senior individual contributor        </td><td>10.0</td><td>0.08474576</td></tr>\n",
       "\t<tr><td>Student position / internship        </td><td> 1.0</td><td>0.11111111</td></tr>\n",
       "</tbody>\n",
       "</table>\n"
      ],
      "text/latex": [
       "A tibble: 9 × 3\n",
       "\\begin{tabular}{lll}\n",
       " position\\_category & rcd\\_experience & supervise\\_staff\\\\\n",
       " <chr> & <dbl> & <dbl>\\\\\n",
       "\\hline\n",
       "\t AVP, VP, CIO, or other senior leader  & 20.0 & 0.88888889\\\\\n",
       "\t Director                              & 15.0 & 0.93333333\\\\\n",
       "\t Faculty                               & 10.0 & 0.41025641\\\\\n",
       "\t Individual contributor                &  4.0 & 0.03030303\\\\\n",
       "\t Lead/principal individual contributor & 10.0 & 0.33783784\\\\\n",
       "\t Manager                               & 14.0 & 0.89855072\\\\\n",
       "\t Other/Unknown                         & 10.5 & 0.27272727\\\\\n",
       "\t Senior individual contributor         & 10.0 & 0.08474576\\\\\n",
       "\t Student position / internship         &  1.0 & 0.11111111\\\\\n",
       "\\end{tabular}\n"
      ],
      "text/markdown": [
       "\n",
       "A tibble: 9 × 3\n",
       "\n",
       "| position_category &lt;chr&gt; | rcd_experience &lt;dbl&gt; | supervise_staff &lt;dbl&gt; |\n",
       "|---|---|---|\n",
       "| AVP, VP, CIO, or other senior leader  | 20.0 | 0.88888889 |\n",
       "| Director                              | 15.0 | 0.93333333 |\n",
       "| Faculty                               | 10.0 | 0.41025641 |\n",
       "| Individual contributor                |  4.0 | 0.03030303 |\n",
       "| Lead/principal individual contributor | 10.0 | 0.33783784 |\n",
       "| Manager                               | 14.0 | 0.89855072 |\n",
       "| Other/Unknown                         | 10.5 | 0.27272727 |\n",
       "| Senior individual contributor         | 10.0 | 0.08474576 |\n",
       "| Student position / internship         |  1.0 | 0.11111111 |\n",
       "\n"
      ],
      "text/plain": [
       "  position_category                     rcd_experience supervise_staff\n",
       "1 AVP, VP, CIO, or other senior leader  20.0           0.88888889     \n",
       "2 Director                              15.0           0.93333333     \n",
       "3 Faculty                               10.0           0.41025641     \n",
       "4 Individual contributor                 4.0           0.03030303     \n",
       "5 Lead/principal individual contributor 10.0           0.33783784     \n",
       "6 Manager                               14.0           0.89855072     \n",
       "7 Other/Unknown                         10.5           0.27272727     \n",
       "8 Senior individual contributor         10.0           0.08474576     \n",
       "9 Student position / internship          1.0           0.11111111     "
      ]
     },
     "metadata": {},
     "output_type": "display_data"
    }
   ],
   "source": [
    "rcd_edu_work %>%\n",
    "  group_by(position_category) %>%\n",
    "  summarize(rcd_experience = median(experience_rcd, na.rm=TRUE),\n",
    "            supervise_staff = sum(supervise_staff, na.rm=TRUE)/sum(!is.na(supervise_staff)))"
   ]
  },
  {
   "cell_type": "code",
   "execution_count": 40,
   "id": "b7d92ce0-345f-4335-b4b4-34811af2c946",
   "metadata": {},
   "outputs": [
    {
     "data": {
      "text/html": [
       "<table class=\"dataframe\">\n",
       "<caption>A tibble: 2 × 4</caption>\n",
       "<thead>\n",
       "\t<tr><th scope=col>variable</th><th scope=col>category</th><th scope=col>Male</th><th scope=col>Female</th></tr>\n",
       "\t<tr><th scope=col>&lt;chr&gt;</th><th scope=col>&lt;chr&gt;</th><th scope=col>&lt;dbl&gt;</th><th scope=col>&lt;dbl&gt;</th></tr>\n",
       "</thead>\n",
       "<tbody>\n",
       "\t<tr><td>supervise_staff</td><td>FALSE</td><td>0.6057441</td><td>0.696</td></tr>\n",
       "\t<tr><td>supervise_staff</td><td>TRUE </td><td>0.3942559</td><td>0.304</td></tr>\n",
       "</tbody>\n",
       "</table>\n"
      ],
      "text/latex": [
       "A tibble: 2 × 4\n",
       "\\begin{tabular}{llll}\n",
       " variable & category & Male & Female\\\\\n",
       " <chr> & <chr> & <dbl> & <dbl>\\\\\n",
       "\\hline\n",
       "\t supervise\\_staff & FALSE & 0.6057441 & 0.696\\\\\n",
       "\t supervise\\_staff & TRUE  & 0.3942559 & 0.304\\\\\n",
       "\\end{tabular}\n"
      ],
      "text/markdown": [
       "\n",
       "A tibble: 2 × 4\n",
       "\n",
       "| variable &lt;chr&gt; | category &lt;chr&gt; | Male &lt;dbl&gt; | Female &lt;dbl&gt; |\n",
       "|---|---|---|---|\n",
       "| supervise_staff | FALSE | 0.6057441 | 0.696 |\n",
       "| supervise_staff | TRUE  | 0.3942559 | 0.304 |\n",
       "\n"
      ],
      "text/plain": [
       "  variable        category Male      Female\n",
       "1 supervise_staff FALSE    0.6057441 0.696 \n",
       "2 supervise_staff TRUE     0.3942559 0.304 "
      ]
     },
     "metadata": {},
     "output_type": "display_data"
    }
   ],
   "source": [
    "gender %>%\n",
    "  filter(variable==\"supervise_staff\") %>%\n",
    "  pivot_wider(names_from=gender, values_from=n, values_fill=0) %>%\n",
    "  mutate(across(-1:-2, ~.x/sum(.x)))"
   ]
  },
  {
   "cell_type": "code",
   "execution_count": 41,
   "id": "0b2fd3da-f85b-4b99-8396-e3bdb1ab6440",
   "metadata": {},
   "outputs": [
    {
     "data": {
      "text/html": [
       "<table class=\"dataframe\">\n",
       "<caption>A tibble: 2 × 4</caption>\n",
       "<thead>\n",
       "\t<tr><th scope=col>variable</th><th scope=col>category</th><th scope=col>Female</th><th scope=col>Male</th></tr>\n",
       "\t<tr><th scope=col>&lt;chr&gt;</th><th scope=col>&lt;chr&gt;</th><th scope=col>&lt;dbl&gt;</th><th scope=col>&lt;dbl&gt;</th></tr>\n",
       "</thead>\n",
       "<tbody>\n",
       "\t<tr><td>management_staff_role</td><td>TRUE </td><td>0.2380952</td><td>0.3020833</td></tr>\n",
       "\t<tr><td>management_staff_role</td><td>FALSE</td><td>0.7619048</td><td>0.6979167</td></tr>\n",
       "</tbody>\n",
       "</table>\n"
      ],
      "text/latex": [
       "A tibble: 2 × 4\n",
       "\\begin{tabular}{llll}\n",
       " variable & category & Female & Male\\\\\n",
       " <chr> & <chr> & <dbl> & <dbl>\\\\\n",
       "\\hline\n",
       "\t management\\_staff\\_role & TRUE  & 0.2380952 & 0.3020833\\\\\n",
       "\t management\\_staff\\_role & FALSE & 0.7619048 & 0.6979167\\\\\n",
       "\\end{tabular}\n"
      ],
      "text/markdown": [
       "\n",
       "A tibble: 2 × 4\n",
       "\n",
       "| variable &lt;chr&gt; | category &lt;chr&gt; | Female &lt;dbl&gt; | Male &lt;dbl&gt; |\n",
       "|---|---|---|---|\n",
       "| management_staff_role | TRUE  | 0.2380952 | 0.3020833 |\n",
       "| management_staff_role | FALSE | 0.7619048 | 0.6979167 |\n",
       "\n"
      ],
      "text/plain": [
       "  variable              category Female    Male     \n",
       "1 management_staff_role TRUE     0.2380952 0.3020833\n",
       "2 management_staff_role FALSE    0.7619048 0.6979167"
      ]
     },
     "metadata": {},
     "output_type": "display_data"
    }
   ],
   "source": [
    "gender %>%\n",
    "  filter(variable==\"management_staff_role\") %>%\n",
    "  pivot_wider(names_from=gender, values_from=n, values_fill=0) %>%\n",
    "  mutate(across(-1:-2, ~.x/sum(.x)))"
   ]
  },
  {
   "cell_type": "code",
   "execution_count": 42,
   "id": "08cfed93-d449-447b-8f56-717789b50be9",
   "metadata": {},
   "outputs": [
    {
     "data": {
      "text/html": [
       "<table class=\"dataframe\">\n",
       "<caption>A tibble: 2 × 4</caption>\n",
       "<thead>\n",
       "\t<tr><th scope=col>variable</th><th scope=col>category</th><th scope=col>Not White</th><th scope=col>White</th></tr>\n",
       "\t<tr><th scope=col>&lt;chr&gt;</th><th scope=col>&lt;chr&gt;</th><th scope=col>&lt;dbl&gt;</th><th scope=col>&lt;dbl&gt;</th></tr>\n",
       "</thead>\n",
       "<tbody>\n",
       "\t<tr><td>supervise_staff</td><td>TRUE </td><td>0.3823529</td><td>0.3680556</td></tr>\n",
       "\t<tr><td>supervise_staff</td><td>FALSE</td><td>0.6176471</td><td>0.6319444</td></tr>\n",
       "</tbody>\n",
       "</table>\n"
      ],
      "text/latex": [
       "A tibble: 2 × 4\n",
       "\\begin{tabular}{llll}\n",
       " variable & category & Not White & White\\\\\n",
       " <chr> & <chr> & <dbl> & <dbl>\\\\\n",
       "\\hline\n",
       "\t supervise\\_staff & TRUE  & 0.3823529 & 0.3680556\\\\\n",
       "\t supervise\\_staff & FALSE & 0.6176471 & 0.6319444\\\\\n",
       "\\end{tabular}\n"
      ],
      "text/markdown": [
       "\n",
       "A tibble: 2 × 4\n",
       "\n",
       "| variable &lt;chr&gt; | category &lt;chr&gt; | Not White &lt;dbl&gt; | White &lt;dbl&gt; |\n",
       "|---|---|---|---|\n",
       "| supervise_staff | TRUE  | 0.3823529 | 0.3680556 |\n",
       "| supervise_staff | FALSE | 0.6176471 | 0.6319444 |\n",
       "\n"
      ],
      "text/plain": [
       "  variable        category Not White White    \n",
       "1 supervise_staff TRUE     0.3823529 0.3680556\n",
       "2 supervise_staff FALSE    0.6176471 0.6319444"
      ]
     },
     "metadata": {},
     "output_type": "display_data"
    }
   ],
   "source": [
    "ethnicity %>%\n",
    "  filter(variable==\"supervise_staff\") %>%\n",
    "  pivot_wider(names_from=group, values_from=n, values_fill=0) %>%\n",
    "  mutate(across(-1:-2, ~.x/sum(.x)))"
   ]
  },
  {
   "cell_type": "code",
   "execution_count": 43,
   "id": "f4b229ac-d672-4161-8d37-6f6383cc8d4e",
   "metadata": {},
   "outputs": [
    {
     "data": {
      "text/html": [
       "<table class=\"dataframe\">\n",
       "<caption>A tibble: 2 × 4</caption>\n",
       "<thead>\n",
       "\t<tr><th scope=col>variable</th><th scope=col>category</th><th scope=col>White</th><th scope=col>Not White</th></tr>\n",
       "\t<tr><th scope=col>&lt;chr&gt;</th><th scope=col>&lt;chr&gt;</th><th scope=col>&lt;dbl&gt;</th><th scope=col>&lt;dbl&gt;</th></tr>\n",
       "</thead>\n",
       "<tbody>\n",
       "\t<tr><td>management_staff_role</td><td>FALSE</td><td>0.6946108</td><td>0.6707317</td></tr>\n",
       "\t<tr><td>management_staff_role</td><td>TRUE </td><td>0.3053892</td><td>0.3292683</td></tr>\n",
       "</tbody>\n",
       "</table>\n"
      ],
      "text/latex": [
       "A tibble: 2 × 4\n",
       "\\begin{tabular}{llll}\n",
       " variable & category & White & Not White\\\\\n",
       " <chr> & <chr> & <dbl> & <dbl>\\\\\n",
       "\\hline\n",
       "\t management\\_staff\\_role & FALSE & 0.6946108 & 0.6707317\\\\\n",
       "\t management\\_staff\\_role & TRUE  & 0.3053892 & 0.3292683\\\\\n",
       "\\end{tabular}\n"
      ],
      "text/markdown": [
       "\n",
       "A tibble: 2 × 4\n",
       "\n",
       "| variable &lt;chr&gt; | category &lt;chr&gt; | White &lt;dbl&gt; | Not White &lt;dbl&gt; |\n",
       "|---|---|---|---|\n",
       "| management_staff_role | FALSE | 0.6946108 | 0.6707317 |\n",
       "| management_staff_role | TRUE  | 0.3053892 | 0.3292683 |\n",
       "\n"
      ],
      "text/plain": [
       "  variable              category White     Not White\n",
       "1 management_staff_role FALSE    0.6946108 0.6707317\n",
       "2 management_staff_role TRUE     0.3053892 0.3292683"
      ]
     },
     "metadata": {},
     "output_type": "display_data"
    }
   ],
   "source": [
    "ethnicity %>%\n",
    "  filter(variable==\"management_staff_role\") %>%\n",
    "  pivot_wider(names_from=group, values_from=n, values_fill=0) %>%\n",
    "  mutate(across(-1:-2, ~.x/sum(.x)))"
   ]
  },
  {
   "cell_type": "markdown",
   "id": "24d770c3-360d-4eed-b0da-7c90b498b40d",
   "metadata": {},
   "source": [
    "### Job Titles"
   ]
  },
  {
   "cell_type": "code",
   "execution_count": 44,
   "id": "6a4e6528-bdfd-435c-9f14-f365eef79004",
   "metadata": {},
   "outputs": [
    {
     "data": {
      "text/html": [
       "<table class=\"dataframe\">\n",
       "<caption>A tibble: 26 × 2</caption>\n",
       "<thead>\n",
       "\t<tr><th scope=col>term</th><th scope=col>prop</th></tr>\n",
       "\t<tr><th scope=col>&lt;chr&gt;</th><th scope=col>&lt;dbl&gt;</th></tr>\n",
       "</thead>\n",
       "<tbody>\n",
       "\t<tr><td>job_research      </td><td>0.42671614</td></tr>\n",
       "\t<tr><td>job_compute       </td><td>0.25788497</td></tr>\n",
       "\t<tr><td>job_system        </td><td>0.19666048</td></tr>\n",
       "\t<tr><td>job_director      </td><td>0.18923933</td></tr>\n",
       "\t<tr><td>job_engineer      </td><td>0.17439703</td></tr>\n",
       "\t<tr><td>job_senior        </td><td>0.15584416</td></tr>\n",
       "\t<tr><td>job_data          </td><td>0.13172542</td></tr>\n",
       "\t<tr><td>job_info          </td><td>0.12430427</td></tr>\n",
       "\t<tr><td>job_specialist    </td><td>0.11317254</td></tr>\n",
       "\t<tr><td>job_sysadmin      </td><td>0.11131725</td></tr>\n",
       "\t<tr><td>job_hpc           </td><td>0.10389610</td></tr>\n",
       "\t<tr><td>job_analyst       </td><td>0.10389610</td></tr>\n",
       "\t<tr><td>job_software      </td><td>0.10018553</td></tr>\n",
       "\t<tr><td>job_scientist     </td><td>0.08905380</td></tr>\n",
       "\t<tr><td>job_manager       </td><td>0.07792208</td></tr>\n",
       "\t<tr><td>job_facilitate    </td><td>0.05565863</td></tr>\n",
       "\t<tr><td>job_consult       </td><td>0.05009276</td></tr>\n",
       "\t<tr><td>job_lead          </td><td>0.05009276</td></tr>\n",
       "\t<tr><td>job_professor     </td><td>0.04452690</td></tr>\n",
       "\t<tr><td>job_application   </td><td>0.03896104</td></tr>\n",
       "\t<tr><td>job_library       </td><td>0.03525046</td></tr>\n",
       "\t<tr><td>job_infrastructure</td><td>0.03525046</td></tr>\n",
       "\t<tr><td>job_services      </td><td>0.03153989</td></tr>\n",
       "\t<tr><td>job_architect     </td><td>0.02782931</td></tr>\n",
       "\t<tr><td>job_informatic    </td><td>0.02597403</td></tr>\n",
       "\t<tr><td>job_datascience   </td><td>0.01298701</td></tr>\n",
       "</tbody>\n",
       "</table>\n"
      ],
      "text/latex": [
       "A tibble: 26 × 2\n",
       "\\begin{tabular}{ll}\n",
       " term & prop\\\\\n",
       " <chr> & <dbl>\\\\\n",
       "\\hline\n",
       "\t job\\_research       & 0.42671614\\\\\n",
       "\t job\\_compute        & 0.25788497\\\\\n",
       "\t job\\_system         & 0.19666048\\\\\n",
       "\t job\\_director       & 0.18923933\\\\\n",
       "\t job\\_engineer       & 0.17439703\\\\\n",
       "\t job\\_senior         & 0.15584416\\\\\n",
       "\t job\\_data           & 0.13172542\\\\\n",
       "\t job\\_info           & 0.12430427\\\\\n",
       "\t job\\_specialist     & 0.11317254\\\\\n",
       "\t job\\_sysadmin       & 0.11131725\\\\\n",
       "\t job\\_hpc            & 0.10389610\\\\\n",
       "\t job\\_analyst        & 0.10389610\\\\\n",
       "\t job\\_software       & 0.10018553\\\\\n",
       "\t job\\_scientist      & 0.08905380\\\\\n",
       "\t job\\_manager        & 0.07792208\\\\\n",
       "\t job\\_facilitate     & 0.05565863\\\\\n",
       "\t job\\_consult        & 0.05009276\\\\\n",
       "\t job\\_lead           & 0.05009276\\\\\n",
       "\t job\\_professor      & 0.04452690\\\\\n",
       "\t job\\_application    & 0.03896104\\\\\n",
       "\t job\\_library        & 0.03525046\\\\\n",
       "\t job\\_infrastructure & 0.03525046\\\\\n",
       "\t job\\_services       & 0.03153989\\\\\n",
       "\t job\\_architect      & 0.02782931\\\\\n",
       "\t job\\_informatic     & 0.02597403\\\\\n",
       "\t job\\_datascience    & 0.01298701\\\\\n",
       "\\end{tabular}\n"
      ],
      "text/markdown": [
       "\n",
       "A tibble: 26 × 2\n",
       "\n",
       "| term &lt;chr&gt; | prop &lt;dbl&gt; |\n",
       "|---|---|\n",
       "| job_research       | 0.42671614 |\n",
       "| job_compute        | 0.25788497 |\n",
       "| job_system         | 0.19666048 |\n",
       "| job_director       | 0.18923933 |\n",
       "| job_engineer       | 0.17439703 |\n",
       "| job_senior         | 0.15584416 |\n",
       "| job_data           | 0.13172542 |\n",
       "| job_info           | 0.12430427 |\n",
       "| job_specialist     | 0.11317254 |\n",
       "| job_sysadmin       | 0.11131725 |\n",
       "| job_hpc            | 0.10389610 |\n",
       "| job_analyst        | 0.10389610 |\n",
       "| job_software       | 0.10018553 |\n",
       "| job_scientist      | 0.08905380 |\n",
       "| job_manager        | 0.07792208 |\n",
       "| job_facilitate     | 0.05565863 |\n",
       "| job_consult        | 0.05009276 |\n",
       "| job_lead           | 0.05009276 |\n",
       "| job_professor      | 0.04452690 |\n",
       "| job_application    | 0.03896104 |\n",
       "| job_library        | 0.03525046 |\n",
       "| job_infrastructure | 0.03525046 |\n",
       "| job_services       | 0.03153989 |\n",
       "| job_architect      | 0.02782931 |\n",
       "| job_informatic     | 0.02597403 |\n",
       "| job_datascience    | 0.01298701 |\n",
       "\n"
      ],
      "text/plain": [
       "   term               prop      \n",
       "1  job_research       0.42671614\n",
       "2  job_compute        0.25788497\n",
       "3  job_system         0.19666048\n",
       "4  job_director       0.18923933\n",
       "5  job_engineer       0.17439703\n",
       "6  job_senior         0.15584416\n",
       "7  job_data           0.13172542\n",
       "8  job_info           0.12430427\n",
       "9  job_specialist     0.11317254\n",
       "10 job_sysadmin       0.11131725\n",
       "11 job_hpc            0.10389610\n",
       "12 job_analyst        0.10389610\n",
       "13 job_software       0.10018553\n",
       "14 job_scientist      0.08905380\n",
       "15 job_manager        0.07792208\n",
       "16 job_facilitate     0.05565863\n",
       "17 job_consult        0.05009276\n",
       "18 job_lead           0.05009276\n",
       "19 job_professor      0.04452690\n",
       "20 job_application    0.03896104\n",
       "21 job_library        0.03525046\n",
       "22 job_infrastructure 0.03525046\n",
       "23 job_services       0.03153989\n",
       "24 job_architect      0.02782931\n",
       "25 job_informatic     0.02597403\n",
       "26 job_datascience    0.01298701"
      ]
     },
     "metadata": {},
     "output_type": "display_data"
    }
   ],
   "source": [
    "jobs %>%\n",
    "  select(starts_with(\"job_\"), -job_title_official, -job_title_alternate) %>%\n",
    "  summarize(across(everything(), ~sum(.x, na.rm=TRUE)/n())) %>%\n",
    "  pivot_longer(everything(), names_to=\"term\", values_to=\"prop\") %>%\n",
    "  arrange(desc(prop))"
   ]
  },
  {
   "cell_type": "code",
   "execution_count": 45,
   "id": "3a71ef96-f8a0-4136-afa7-60ef4d49f6c1",
   "metadata": {},
   "outputs": [
    {
     "data": {
      "text/html": [
       "<table class=\"dataframe\">\n",
       "<caption>A tabyl: 2 × 3</caption>\n",
       "<thead>\n",
       "\t<tr><th scope=col>job_title_alternate</th><th scope=col>n</th><th scope=col>percent</th></tr>\n",
       "\t<tr><th scope=col>&lt;lgl&gt;</th><th scope=col>&lt;int&gt;</th><th scope=col>&lt;dbl&gt;</th></tr>\n",
       "</thead>\n",
       "<tbody>\n",
       "\t<tr><td>FALSE</td><td>244</td><td>0.4526902</td></tr>\n",
       "\t<tr><td> TRUE</td><td>295</td><td>0.5473098</td></tr>\n",
       "</tbody>\n",
       "</table>\n"
      ],
      "text/latex": [
       "A tabyl: 2 × 3\n",
       "\\begin{tabular}{lll}\n",
       " job\\_title\\_alternate & n & percent\\\\\n",
       " <lgl> & <int> & <dbl>\\\\\n",
       "\\hline\n",
       "\t FALSE & 244 & 0.4526902\\\\\n",
       "\t  TRUE & 295 & 0.5473098\\\\\n",
       "\\end{tabular}\n"
      ],
      "text/markdown": [
       "\n",
       "A tabyl: 2 × 3\n",
       "\n",
       "| job_title_alternate &lt;lgl&gt; | n &lt;int&gt; | percent &lt;dbl&gt; |\n",
       "|---|---|---|\n",
       "| FALSE | 244 | 0.4526902 |\n",
       "|  TRUE | 295 | 0.5473098 |\n",
       "\n"
      ],
      "text/plain": [
       "  job_title_alternate n   percent  \n",
       "1 FALSE               244 0.4526902\n",
       "2  TRUE               295 0.5473098"
      ]
     },
     "metadata": {},
     "output_type": "display_data"
    }
   ],
   "source": [
    "jobs %>%\n",
    "  tabyl(job_title_alternate)"
   ]
  },
  {
   "cell_type": "code",
   "execution_count": 46,
   "id": "33e689d0-e797-4aeb-bcf9-5e21bed1c03f",
   "metadata": {},
   "outputs": [
    {
     "data": {
      "text/html": [
       "<table class=\"dataframe\">\n",
       "<caption>A tibble: 1 × 1</caption>\n",
       "<thead>\n",
       "\t<tr><th scope=col>sum(job_research, na.rm = TRUE)/n()</th></tr>\n",
       "\t<tr><th scope=col>&lt;dbl&gt;</th></tr>\n",
       "</thead>\n",
       "<tbody>\n",
       "\t<tr><td>0.4267161</td></tr>\n",
       "</tbody>\n",
       "</table>\n"
      ],
      "text/latex": [
       "A tibble: 1 × 1\n",
       "\\begin{tabular}{l}\n",
       " sum(job\\_research, na.rm = TRUE)/n()\\\\\n",
       " <dbl>\\\\\n",
       "\\hline\n",
       "\t 0.4267161\\\\\n",
       "\\end{tabular}\n"
      ],
      "text/markdown": [
       "\n",
       "A tibble: 1 × 1\n",
       "\n",
       "| sum(job_research, na.rm = TRUE)/n() &lt;dbl&gt; |\n",
       "|---|\n",
       "| 0.4267161 |\n",
       "\n"
      ],
      "text/plain": [
       "  sum(job_research, na.rm = TRUE)/n()\n",
       "1 0.4267161                          "
      ]
     },
     "metadata": {},
     "output_type": "display_data"
    }
   ],
   "source": [
    "jobs %>%\n",
    "  summarize(sum(job_research,\n",
    "                na.rm=TRUE)/n())"
   ]
  },
  {
   "cell_type": "code",
   "execution_count": 47,
   "id": "e5f69797-863e-4901-a7ed-a247279be925",
   "metadata": {},
   "outputs": [
    {
     "data": {
      "text/html": [
       "<table class=\"dataframe\">\n",
       "<caption>A tibble: 1 × 1</caption>\n",
       "<thead>\n",
       "\t<tr><th scope=col>sum(job_compute, na.rm = TRUE)/n()</th></tr>\n",
       "\t<tr><th scope=col>&lt;dbl&gt;</th></tr>\n",
       "</thead>\n",
       "<tbody>\n",
       "\t<tr><td>0.257885</td></tr>\n",
       "</tbody>\n",
       "</table>\n"
      ],
      "text/latex": [
       "A tibble: 1 × 1\n",
       "\\begin{tabular}{l}\n",
       " sum(job\\_compute, na.rm = TRUE)/n()\\\\\n",
       " <dbl>\\\\\n",
       "\\hline\n",
       "\t 0.257885\\\\\n",
       "\\end{tabular}\n"
      ],
      "text/markdown": [
       "\n",
       "A tibble: 1 × 1\n",
       "\n",
       "| sum(job_compute, na.rm = TRUE)/n() &lt;dbl&gt; |\n",
       "|---|\n",
       "| 0.257885 |\n",
       "\n"
      ],
      "text/plain": [
       "  sum(job_compute, na.rm = TRUE)/n()\n",
       "1 0.257885                          "
      ]
     },
     "metadata": {},
     "output_type": "display_data"
    }
   ],
   "source": [
    "jobs %>%\n",
    "  summarize(sum(job_compute,\n",
    "                na.rm=TRUE)/n())"
   ]
  },
  {
   "cell_type": "markdown",
   "id": "ecf14bd4-9a20-453d-bb56-260945394fe4",
   "metadata": {},
   "source": [
    "### Funding"
   ]
  },
  {
   "cell_type": "code",
   "execution_count": 48,
   "id": "d340605d-c124-40d5-a094-d9c3391f99af",
   "metadata": {},
   "outputs": [
    {
     "data": {
      "text/html": [
       "<table class=\"dataframe\">\n",
       "<caption>A tibble: 1 × 2</caption>\n",
       "<thead>\n",
       "\t<tr><th scope=col>hourly</th><th scope=col>fulltime</th></tr>\n",
       "\t<tr><th scope=col>&lt;dbl&gt;</th><th scope=col>&lt;dbl&gt;</th></tr>\n",
       "</thead>\n",
       "<tbody>\n",
       "\t<tr><td>0.9759615</td><td>0.9807692</td></tr>\n",
       "</tbody>\n",
       "</table>\n"
      ],
      "text/latex": [
       "A tibble: 1 × 2\n",
       "\\begin{tabular}{ll}\n",
       " hourly & fulltime\\\\\n",
       " <dbl> & <dbl>\\\\\n",
       "\\hline\n",
       "\t 0.9759615 & 0.9807692\\\\\n",
       "\\end{tabular}\n"
      ],
      "text/markdown": [
       "\n",
       "A tibble: 1 × 2\n",
       "\n",
       "| hourly &lt;dbl&gt; | fulltime &lt;dbl&gt; |\n",
       "|---|---|\n",
       "| 0.9759615 | 0.9807692 |\n",
       "\n"
      ],
      "text/plain": [
       "  hourly    fulltime \n",
       "1 0.9759615 0.9807692"
      ]
     },
     "metadata": {},
     "output_type": "display_data"
    }
   ],
   "source": [
    "rcd_edu_work %>%\n",
    "  filter(position_type == \"Staff\") %>%\n",
    "  summarize(hourly = sum(!position_hourly, na.rm=TRUE)/n(),\n",
    "            fulltime = sum(position_fulltime, na.rm=TRUE)/n())"
   ]
  },
  {
   "cell_type": "code",
   "execution_count": 49,
   "id": "f2b1a65c-3c69-43bf-8ea5-e0e3e9607c6d",
   "metadata": {},
   "outputs": [
    {
     "data": {
      "text/html": [
       "<table class=\"dataframe\">\n",
       "<caption>A tabyl: 5 × 4</caption>\n",
       "<thead>\n",
       "\t<tr><th></th><th scope=col>position_funding</th><th scope=col>n</th><th scope=col>percent</th><th scope=col>valid_percent</th></tr>\n",
       "\t<tr><th></th><th scope=col>&lt;chr&gt;</th><th scope=col>&lt;int&gt;</th><th scope=col>&lt;dbl&gt;</th><th scope=col>&lt;dbl&gt;</th></tr>\n",
       "</thead>\n",
       "<tbody>\n",
       "\t<tr><th scope=row>1</th><td>Hard funding (university core funds)      </td><td>263</td><td>0.632211538</td><td>0.63526570</td></tr>\n",
       "\t<tr><th scope=row>2</th><td>I don't know                              </td><td> 13</td><td>0.031250000</td><td>0.03140097</td></tr>\n",
       "\t<tr><th scope=row>3</th><td>Mixture                                   </td><td> 95</td><td>0.228365385</td><td>0.22946860</td></tr>\n",
       "\t<tr><th scope=row>4</th><td>Soft funding (grants or sponsored funding)</td><td> 43</td><td>0.103365385</td><td>0.10386473</td></tr>\n",
       "\t<tr><th scope=row>5</th><td>NA                                        </td><td>  2</td><td>0.004807692</td><td>        NA</td></tr>\n",
       "</tbody>\n",
       "</table>\n"
      ],
      "text/latex": [
       "A tabyl: 5 × 4\n",
       "\\begin{tabular}{r|llll}\n",
       "  & position\\_funding & n & percent & valid\\_percent\\\\\n",
       "  & <chr> & <int> & <dbl> & <dbl>\\\\\n",
       "\\hline\n",
       "\t1 & Hard funding (university core funds)       & 263 & 0.632211538 & 0.63526570\\\\\n",
       "\t2 & I don't know                               &  13 & 0.031250000 & 0.03140097\\\\\n",
       "\t3 & Mixture                                    &  95 & 0.228365385 & 0.22946860\\\\\n",
       "\t4 & Soft funding (grants or sponsored funding) &  43 & 0.103365385 & 0.10386473\\\\\n",
       "\t5 & NA                                         &   2 & 0.004807692 &         NA\\\\\n",
       "\\end{tabular}\n"
      ],
      "text/markdown": [
       "\n",
       "A tabyl: 5 × 4\n",
       "\n",
       "| <!--/--> | position_funding &lt;chr&gt; | n &lt;int&gt; | percent &lt;dbl&gt; | valid_percent &lt;dbl&gt; |\n",
       "|---|---|---|---|---|\n",
       "| 1 | Hard funding (university core funds)       | 263 | 0.632211538 | 0.63526570 |\n",
       "| 2 | I don't know                               |  13 | 0.031250000 | 0.03140097 |\n",
       "| 3 | Mixture                                    |  95 | 0.228365385 | 0.22946860 |\n",
       "| 4 | Soft funding (grants or sponsored funding) |  43 | 0.103365385 | 0.10386473 |\n",
       "| 5 | NA                                         |   2 | 0.004807692 |         NA |\n",
       "\n"
      ],
      "text/plain": [
       "  position_funding                           n   percent     valid_percent\n",
       "1 Hard funding (university core funds)       263 0.632211538 0.63526570   \n",
       "2 I don't know                                13 0.031250000 0.03140097   \n",
       "3 Mixture                                     95 0.228365385 0.22946860   \n",
       "4 Soft funding (grants or sponsored funding)  43 0.103365385 0.10386473   \n",
       "5 NA                                           2 0.004807692         NA   "
      ]
     },
     "metadata": {},
     "output_type": "display_data"
    }
   ],
   "source": [
    "rcd_edu_work %>%\n",
    "  filter(position_type == \"Staff\") %>%\n",
    "  tabyl(position_funding)"
   ]
  },
  {
   "cell_type": "markdown",
   "id": "249fd9d4-8aea-4072-a33b-5cdcc207c4d0",
   "metadata": {},
   "source": [
    "### Worksite"
   ]
  },
  {
   "cell_type": "code",
   "execution_count": 50,
   "id": "86d08550-51ab-4bd6-a0cd-a775fcd4cac2",
   "metadata": {},
   "outputs": [
    {
     "data": {
      "text/html": [
       "<table class=\"dataframe\">\n",
       "<caption>A tabyl: 4 × 4</caption>\n",
       "<thead>\n",
       "\t<tr><th></th><th scope=col>onsite_remote</th><th scope=col>n</th><th scope=col>percent</th><th scope=col>valid_percent</th></tr>\n",
       "\t<tr><th></th><th scope=col>&lt;chr&gt;</th><th scope=col>&lt;int&gt;</th><th scope=col>&lt;dbl&gt;</th><th scope=col>&lt;dbl&gt;</th></tr>\n",
       "</thead>\n",
       "<tbody>\n",
       "\t<tr><th scope=row>1</th><td>A combination of remotely and on-site</td><td>181</td><td>0.335807050</td><td>0.3376866</td></tr>\n",
       "\t<tr><th scope=row>2</th><td>On-site at my employer               </td><td>300</td><td>0.556586271</td><td>0.5597015</td></tr>\n",
       "\t<tr><th scope=row>3</th><td>Remotely                             </td><td> 55</td><td>0.102040816</td><td>0.1026119</td></tr>\n",
       "\t<tr><th scope=row>4</th><td>NA                                   </td><td>  3</td><td>0.005565863</td><td>       NA</td></tr>\n",
       "</tbody>\n",
       "</table>\n"
      ],
      "text/latex": [
       "A tabyl: 4 × 4\n",
       "\\begin{tabular}{r|llll}\n",
       "  & onsite\\_remote & n & percent & valid\\_percent\\\\\n",
       "  & <chr> & <int> & <dbl> & <dbl>\\\\\n",
       "\\hline\n",
       "\t1 & A combination of remotely and on-site & 181 & 0.335807050 & 0.3376866\\\\\n",
       "\t2 & On-site at my employer                & 300 & 0.556586271 & 0.5597015\\\\\n",
       "\t3 & Remotely                              &  55 & 0.102040816 & 0.1026119\\\\\n",
       "\t4 & NA                                    &   3 & 0.005565863 &        NA\\\\\n",
       "\\end{tabular}\n"
      ],
      "text/markdown": [
       "\n",
       "A tabyl: 4 × 4\n",
       "\n",
       "| <!--/--> | onsite_remote &lt;chr&gt; | n &lt;int&gt; | percent &lt;dbl&gt; | valid_percent &lt;dbl&gt; |\n",
       "|---|---|---|---|---|\n",
       "| 1 | A combination of remotely and on-site | 181 | 0.335807050 | 0.3376866 |\n",
       "| 2 | On-site at my employer                | 300 | 0.556586271 | 0.5597015 |\n",
       "| 3 | Remotely                              |  55 | 0.102040816 | 0.1026119 |\n",
       "| 4 | NA                                    |   3 | 0.005565863 |        NA |\n",
       "\n"
      ],
      "text/plain": [
       "  onsite_remote                         n   percent     valid_percent\n",
       "1 A combination of remotely and on-site 181 0.335807050 0.3376866    \n",
       "2 On-site at my employer                300 0.556586271 0.5597015    \n",
       "3 Remotely                               55 0.102040816 0.1026119    \n",
       "4 NA                                      3 0.005565863        NA    "
      ]
     },
     "metadata": {},
     "output_type": "display_data"
    }
   ],
   "source": [
    "rcd_edu_work %>%\n",
    "  tabyl(onsite_remote)"
   ]
  },
  {
   "cell_type": "markdown",
   "id": "8ecef313-9ae7-40c8-a6eb-1980a470f76c",
   "metadata": {},
   "source": [
    "### Responsibilities"
   ]
  },
  {
   "cell_type": "code",
   "execution_count": 51,
   "id": "c514df4c-03c2-428f-b9e5-facd7118911b",
   "metadata": {},
   "outputs": [
    {
     "data": {
      "text/html": [
       "<table class=\"dataframe\">\n",
       "<caption>A tabyl: 8 × 4</caption>\n",
       "<thead>\n",
       "\t<tr><th scope=col>position_scope</th><th scope=col>n</th><th scope=col>percent</th><th scope=col>valid_percent</th></tr>\n",
       "\t<tr><th scope=col>&lt;chr&gt;</th><th scope=col>&lt;int&gt;</th><th scope=col>&lt;dbl&gt;</th><th scope=col>&lt;dbl&gt;</th></tr>\n",
       "</thead>\n",
       "<tbody>\n",
       "\t<tr><td>University, Company, or Institution</td><td>284</td><td>0.526901670</td><td>0.52985075</td></tr>\n",
       "\t<tr><td>Multiple Institutions              </td><td>119</td><td>0.220779221</td><td>0.22201493</td></tr>\n",
       "\t<tr><td>National                           </td><td> 63</td><td>0.116883117</td><td>0.11753731</td></tr>\n",
       "\t<tr><td>Center or Institute                </td><td> 22</td><td>0.040816327</td><td>0.04104478</td></tr>\n",
       "\t<tr><td>College or School                  </td><td> 17</td><td>0.031539889</td><td>0.03171642</td></tr>\n",
       "\t<tr><td>Research Group                     </td><td> 16</td><td>0.029684601</td><td>0.02985075</td></tr>\n",
       "\t<tr><td>Department                         </td><td> 15</td><td>0.027829314</td><td>0.02798507</td></tr>\n",
       "\t<tr><td>NA                                 </td><td>  3</td><td>0.005565863</td><td>        NA</td></tr>\n",
       "</tbody>\n",
       "</table>\n"
      ],
      "text/latex": [
       "A tabyl: 8 × 4\n",
       "\\begin{tabular}{llll}\n",
       " position\\_scope & n & percent & valid\\_percent\\\\\n",
       " <chr> & <int> & <dbl> & <dbl>\\\\\n",
       "\\hline\n",
       "\t University, Company, or Institution & 284 & 0.526901670 & 0.52985075\\\\\n",
       "\t Multiple Institutions               & 119 & 0.220779221 & 0.22201493\\\\\n",
       "\t National                            &  63 & 0.116883117 & 0.11753731\\\\\n",
       "\t Center or Institute                 &  22 & 0.040816327 & 0.04104478\\\\\n",
       "\t College or School                   &  17 & 0.031539889 & 0.03171642\\\\\n",
       "\t Research Group                      &  16 & 0.029684601 & 0.02985075\\\\\n",
       "\t Department                          &  15 & 0.027829314 & 0.02798507\\\\\n",
       "\t NA                                  &   3 & 0.005565863 &         NA\\\\\n",
       "\\end{tabular}\n"
      ],
      "text/markdown": [
       "\n",
       "A tabyl: 8 × 4\n",
       "\n",
       "| position_scope &lt;chr&gt; | n &lt;int&gt; | percent &lt;dbl&gt; | valid_percent &lt;dbl&gt; |\n",
       "|---|---|---|---|\n",
       "| University, Company, or Institution | 284 | 0.526901670 | 0.52985075 |\n",
       "| Multiple Institutions               | 119 | 0.220779221 | 0.22201493 |\n",
       "| National                            |  63 | 0.116883117 | 0.11753731 |\n",
       "| Center or Institute                 |  22 | 0.040816327 | 0.04104478 |\n",
       "| College or School                   |  17 | 0.031539889 | 0.03171642 |\n",
       "| Research Group                      |  16 | 0.029684601 | 0.02985075 |\n",
       "| Department                          |  15 | 0.027829314 | 0.02798507 |\n",
       "| NA                                  |   3 | 0.005565863 |         NA |\n",
       "\n"
      ],
      "text/plain": [
       "  position_scope                      n   percent     valid_percent\n",
       "1 University, Company, or Institution 284 0.526901670 0.52985075   \n",
       "2 Multiple Institutions               119 0.220779221 0.22201493   \n",
       "3 National                             63 0.116883117 0.11753731   \n",
       "4 Center or Institute                  22 0.040816327 0.04104478   \n",
       "5 College or School                    17 0.031539889 0.03171642   \n",
       "6 Research Group                       16 0.029684601 0.02985075   \n",
       "7 Department                           15 0.027829314 0.02798507   \n",
       "8 NA                                    3 0.005565863         NA   "
      ]
     },
     "metadata": {},
     "output_type": "display_data"
    }
   ],
   "source": [
    "rcd_edu_work %>%\n",
    "  tabyl(position_scope) %>%\n",
    "  arrange(desc(percent))"
   ]
  },
  {
   "cell_type": "code",
   "execution_count": 52,
   "id": "4b2bc5c4-809e-4be6-a41f-2044bf29af92",
   "metadata": {},
   "outputs": [
    {
     "data": {
      "text/html": [
       "<table class=\"dataframe\">\n",
       "<caption>A tibble: 1 × 3</caption>\n",
       "<thead>\n",
       "\t<tr><th scope=col>full_rcd</th><th scope=col>rcd_76_99</th><th scope=col>rcd_half</th></tr>\n",
       "\t<tr><th scope=col>&lt;dbl&gt;</th><th scope=col>&lt;dbl&gt;</th><th scope=col>&lt;dbl&gt;</th></tr>\n",
       "</thead>\n",
       "<tbody>\n",
       "\t<tr><td>0.5528757</td><td>0.2077922</td><td>0.8868275</td></tr>\n",
       "</tbody>\n",
       "</table>\n"
      ],
      "text/latex": [
       "A tibble: 1 × 3\n",
       "\\begin{tabular}{lll}\n",
       " full\\_rcd & rcd\\_76\\_99 & rcd\\_half\\\\\n",
       " <dbl> & <dbl> & <dbl>\\\\\n",
       "\\hline\n",
       "\t 0.5528757 & 0.2077922 & 0.8868275\\\\\n",
       "\\end{tabular}\n"
      ],
      "text/markdown": [
       "\n",
       "A tibble: 1 × 3\n",
       "\n",
       "| full_rcd &lt;dbl&gt; | rcd_76_99 &lt;dbl&gt; | rcd_half &lt;dbl&gt; |\n",
       "|---|---|---|\n",
       "| 0.5528757 | 0.2077922 | 0.8868275 |\n",
       "\n"
      ],
      "text/plain": [
       "  full_rcd  rcd_76_99 rcd_half \n",
       "1 0.5528757 0.2077922 0.8868275"
      ]
     },
     "metadata": {},
     "output_type": "display_data"
    }
   ],
   "source": [
    "rcd_edu_work %>%\n",
    "  summarize(full_rcd = sum(position_percent_rcd == 100, na.rm=TRUE)/n(),\n",
    "            rcd_76_99 = sum(position_percent_rcd > 75 & position_percent_rcd < 100, na.rm=TRUE)/n(),\n",
    "            rcd_half = sum(position_percent_rcd >= 50, na.rm=TRUE)/n())"
   ]
  },
  {
   "cell_type": "code",
   "execution_count": 53,
   "id": "1b0bf752-cc3e-4a3a-9d0c-c0bd39f8711c",
   "metadata": {},
   "outputs": [
    {
     "data": {
      "text/html": [
       "<table class=\"dataframe\">\n",
       "<caption>A tabyl: 3 × 4</caption>\n",
       "<thead>\n",
       "\t<tr><th></th><th scope=col>supervise_staff</th><th scope=col>n</th><th scope=col>percent</th><th scope=col>valid_percent</th></tr>\n",
       "\t<tr><th></th><th scope=col>&lt;lgl&gt;</th><th scope=col>&lt;int&gt;</th><th scope=col>&lt;dbl&gt;</th><th scope=col>&lt;dbl&gt;</th></tr>\n",
       "</thead>\n",
       "<tbody>\n",
       "\t<tr><th scope=row>1</th><td>FALSE</td><td>337</td><td>0.625231911</td><td>0.6287313</td></tr>\n",
       "\t<tr><th scope=row>2</th><td> TRUE</td><td>199</td><td>0.369202226</td><td>0.3712687</td></tr>\n",
       "\t<tr><th scope=row>3</th><td>   NA</td><td>  3</td><td>0.005565863</td><td>       NA</td></tr>\n",
       "</tbody>\n",
       "</table>\n"
      ],
      "text/latex": [
       "A tabyl: 3 × 4\n",
       "\\begin{tabular}{r|llll}\n",
       "  & supervise\\_staff & n & percent & valid\\_percent\\\\\n",
       "  & <lgl> & <int> & <dbl> & <dbl>\\\\\n",
       "\\hline\n",
       "\t1 & FALSE & 337 & 0.625231911 & 0.6287313\\\\\n",
       "\t2 &  TRUE & 199 & 0.369202226 & 0.3712687\\\\\n",
       "\t3 &    NA &   3 & 0.005565863 &        NA\\\\\n",
       "\\end{tabular}\n"
      ],
      "text/markdown": [
       "\n",
       "A tabyl: 3 × 4\n",
       "\n",
       "| <!--/--> | supervise_staff &lt;lgl&gt; | n &lt;int&gt; | percent &lt;dbl&gt; | valid_percent &lt;dbl&gt; |\n",
       "|---|---|---|---|---|\n",
       "| 1 | FALSE | 337 | 0.625231911 | 0.6287313 |\n",
       "| 2 |  TRUE | 199 | 0.369202226 | 0.3712687 |\n",
       "| 3 |    NA |   3 | 0.005565863 |        NA |\n",
       "\n"
      ],
      "text/plain": [
       "  supervise_staff n   percent     valid_percent\n",
       "1 FALSE           337 0.625231911 0.6287313    \n",
       "2  TRUE           199 0.369202226 0.3712687    \n",
       "3    NA             3 0.005565863        NA    "
      ]
     },
     "metadata": {},
     "output_type": "display_data"
    }
   ],
   "source": [
    "tabyl(rcd_edu_work, supervise_staff)"
   ]
  },
  {
   "cell_type": "code",
   "execution_count": 54,
   "id": "694eec6b-81f3-437d-95d7-9eaf7059269f",
   "metadata": {},
   "outputs": [
    {
     "data": {
      "text/html": [
       "<table class=\"dataframe\">\n",
       "<caption>A tabyl: 3 × 4</caption>\n",
       "<thead>\n",
       "\t<tr><th></th><th scope=col>supervise_student_workers</th><th scope=col>n</th><th scope=col>percent</th><th scope=col>valid_percent</th></tr>\n",
       "\t<tr><th></th><th scope=col>&lt;lgl&gt;</th><th scope=col>&lt;int&gt;</th><th scope=col>&lt;dbl&gt;</th><th scope=col>&lt;dbl&gt;</th></tr>\n",
       "</thead>\n",
       "<tbody>\n",
       "\t<tr><th scope=row>1</th><td>FALSE</td><td>345</td><td>0.640074212</td><td>0.6436567</td></tr>\n",
       "\t<tr><th scope=row>2</th><td> TRUE</td><td>191</td><td>0.354359926</td><td>0.3563433</td></tr>\n",
       "\t<tr><th scope=row>3</th><td>   NA</td><td>  3</td><td>0.005565863</td><td>       NA</td></tr>\n",
       "</tbody>\n",
       "</table>\n"
      ],
      "text/latex": [
       "A tabyl: 3 × 4\n",
       "\\begin{tabular}{r|llll}\n",
       "  & supervise\\_student\\_workers & n & percent & valid\\_percent\\\\\n",
       "  & <lgl> & <int> & <dbl> & <dbl>\\\\\n",
       "\\hline\n",
       "\t1 & FALSE & 345 & 0.640074212 & 0.6436567\\\\\n",
       "\t2 &  TRUE & 191 & 0.354359926 & 0.3563433\\\\\n",
       "\t3 &    NA &   3 & 0.005565863 &        NA\\\\\n",
       "\\end{tabular}\n"
      ],
      "text/markdown": [
       "\n",
       "A tabyl: 3 × 4\n",
       "\n",
       "| <!--/--> | supervise_student_workers &lt;lgl&gt; | n &lt;int&gt; | percent &lt;dbl&gt; | valid_percent &lt;dbl&gt; |\n",
       "|---|---|---|---|---|\n",
       "| 1 | FALSE | 345 | 0.640074212 | 0.6436567 |\n",
       "| 2 |  TRUE | 191 | 0.354359926 | 0.3563433 |\n",
       "| 3 |    NA |   3 | 0.005565863 |        NA |\n",
       "\n"
      ],
      "text/plain": [
       "  supervise_student_workers n   percent     valid_percent\n",
       "1 FALSE                     345 0.640074212 0.6436567    \n",
       "2  TRUE                     191 0.354359926 0.3563433    \n",
       "3    NA                       3 0.005565863        NA    "
      ]
     },
     "metadata": {},
     "output_type": "display_data"
    }
   ],
   "source": [
    "tabyl(rcd_edu_work, supervise_student_workers)"
   ]
  },
  {
   "cell_type": "markdown",
   "id": "b66f8ae9-2078-462d-aa19-388401712d9f",
   "metadata": {},
   "source": [
    "## 4.4 Position Domains"
   ]
  },
  {
   "cell_type": "code",
   "execution_count": 55,
   "id": "73781438-00bb-4d8c-9a00-fe08ad764cf0",
   "metadata": {},
   "outputs": [
    {
     "data": {
      "text/html": [
       "<table class=\"dataframe\">\n",
       "<caption>A tabyl: 4 × 4</caption>\n",
       "<thead>\n",
       "\t<tr><th></th><th scope=col>facings_familiar</th><th scope=col>n</th><th scope=col>percent</th><th scope=col>valid_percent</th></tr>\n",
       "\t<tr><th></th><th scope=col>&lt;chr&gt;</th><th scope=col>&lt;int&gt;</th><th scope=col>&lt;dbl&gt;</th><th scope=col>&lt;dbl&gt;</th></tr>\n",
       "</thead>\n",
       "<tbody>\n",
       "\t<tr><th scope=row>1</th><td>No     </td><td>220</td><td>0.40816327</td><td>0.4135338</td></tr>\n",
       "\t<tr><th scope=row>2</th><td>Sort of</td><td>104</td><td>0.19294991</td><td>0.1954887</td></tr>\n",
       "\t<tr><th scope=row>3</th><td>Yes    </td><td>208</td><td>0.38589981</td><td>0.3909774</td></tr>\n",
       "\t<tr><th scope=row>4</th><td>NA     </td><td>  7</td><td>0.01298701</td><td>       NA</td></tr>\n",
       "</tbody>\n",
       "</table>\n"
      ],
      "text/latex": [
       "A tabyl: 4 × 4\n",
       "\\begin{tabular}{r|llll}\n",
       "  & facings\\_familiar & n & percent & valid\\_percent\\\\\n",
       "  & <chr> & <int> & <dbl> & <dbl>\\\\\n",
       "\\hline\n",
       "\t1 & No      & 220 & 0.40816327 & 0.4135338\\\\\n",
       "\t2 & Sort of & 104 & 0.19294991 & 0.1954887\\\\\n",
       "\t3 & Yes     & 208 & 0.38589981 & 0.3909774\\\\\n",
       "\t4 & NA      &   7 & 0.01298701 &        NA\\\\\n",
       "\\end{tabular}\n"
      ],
      "text/markdown": [
       "\n",
       "A tabyl: 4 × 4\n",
       "\n",
       "| <!--/--> | facings_familiar &lt;chr&gt; | n &lt;int&gt; | percent &lt;dbl&gt; | valid_percent &lt;dbl&gt; |\n",
       "|---|---|---|---|---|\n",
       "| 1 | No      | 220 | 0.40816327 | 0.4135338 |\n",
       "| 2 | Sort of | 104 | 0.19294991 | 0.1954887 |\n",
       "| 3 | Yes     | 208 | 0.38589981 | 0.3909774 |\n",
       "| 4 | NA      |   7 | 0.01298701 |        NA |\n",
       "\n"
      ],
      "text/plain": [
       "  facings_familiar n   percent    valid_percent\n",
       "1 No               220 0.40816327 0.4135338    \n",
       "2 Sort of          104 0.19294991 0.1954887    \n",
       "3 Yes              208 0.38589981 0.3909774    \n",
       "4 NA                 7 0.01298701        NA    "
      ]
     },
     "metadata": {},
     "output_type": "display_data"
    }
   ],
   "source": [
    "facings %>%\n",
    "  tabyl(facings_familiar)"
   ]
  },
  {
   "cell_type": "code",
   "execution_count": 56,
   "id": "29238da4-cd9c-48ac-ad92-be73ca49eaa6",
   "metadata": {},
   "outputs": [
    {
     "data": {
      "text/html": [
       "<table class=\"dataframe\">\n",
       "<caption>A tabyl: 7 × 4</caption>\n",
       "<thead>\n",
       "\t<tr><th></th><th scope=col>facings_number</th><th scope=col>n</th><th scope=col>percent</th><th scope=col>valid_percent</th></tr>\n",
       "\t<tr><th></th><th scope=col>&lt;dbl&gt;</th><th scope=col>&lt;int&gt;</th><th scope=col>&lt;dbl&gt;</th><th scope=col>&lt;dbl&gt;</th></tr>\n",
       "</thead>\n",
       "<tbody>\n",
       "\t<tr><th scope=row>1</th><td> 1</td><td> 16</td><td>0.02968460</td><td>0.03001876</td></tr>\n",
       "\t<tr><th scope=row>2</th><td> 2</td><td> 48</td><td>0.08905380</td><td>0.09005629</td></tr>\n",
       "\t<tr><th scope=row>3</th><td> 3</td><td>118</td><td>0.21892393</td><td>0.22138837</td></tr>\n",
       "\t<tr><th scope=row>4</th><td> 4</td><td>134</td><td>0.24860853</td><td>0.25140713</td></tr>\n",
       "\t<tr><th scope=row>5</th><td> 5</td><td>151</td><td>0.28014842</td><td>0.28330206</td></tr>\n",
       "\t<tr><th scope=row>6</th><td> 6</td><td> 66</td><td>0.12244898</td><td>0.12382739</td></tr>\n",
       "\t<tr><th scope=row>7</th><td>NA</td><td>  6</td><td>0.01113173</td><td>        NA</td></tr>\n",
       "</tbody>\n",
       "</table>\n"
      ],
      "text/latex": [
       "A tabyl: 7 × 4\n",
       "\\begin{tabular}{r|llll}\n",
       "  & facings\\_number & n & percent & valid\\_percent\\\\\n",
       "  & <dbl> & <int> & <dbl> & <dbl>\\\\\n",
       "\\hline\n",
       "\t1 &  1 &  16 & 0.02968460 & 0.03001876\\\\\n",
       "\t2 &  2 &  48 & 0.08905380 & 0.09005629\\\\\n",
       "\t3 &  3 & 118 & 0.21892393 & 0.22138837\\\\\n",
       "\t4 &  4 & 134 & 0.24860853 & 0.25140713\\\\\n",
       "\t5 &  5 & 151 & 0.28014842 & 0.28330206\\\\\n",
       "\t6 &  6 &  66 & 0.12244898 & 0.12382739\\\\\n",
       "\t7 & NA &   6 & 0.01113173 &         NA\\\\\n",
       "\\end{tabular}\n"
      ],
      "text/markdown": [
       "\n",
       "A tabyl: 7 × 4\n",
       "\n",
       "| <!--/--> | facings_number &lt;dbl&gt; | n &lt;int&gt; | percent &lt;dbl&gt; | valid_percent &lt;dbl&gt; |\n",
       "|---|---|---|---|---|\n",
       "| 1 |  1 |  16 | 0.02968460 | 0.03001876 |\n",
       "| 2 |  2 |  48 | 0.08905380 | 0.09005629 |\n",
       "| 3 |  3 | 118 | 0.21892393 | 0.22138837 |\n",
       "| 4 |  4 | 134 | 0.24860853 | 0.25140713 |\n",
       "| 5 |  5 | 151 | 0.28014842 | 0.28330206 |\n",
       "| 6 |  6 |  66 | 0.12244898 | 0.12382739 |\n",
       "| 7 | NA |   6 | 0.01113173 |         NA |\n",
       "\n"
      ],
      "text/plain": [
       "  facings_number n   percent    valid_percent\n",
       "1  1              16 0.02968460 0.03001876   \n",
       "2  2              48 0.08905380 0.09005629   \n",
       "3  3             118 0.21892393 0.22138837   \n",
       "4  4             134 0.24860853 0.25140713   \n",
       "5  5             151 0.28014842 0.28330206   \n",
       "6  6              66 0.12244898 0.12382739   \n",
       "7 NA               6 0.01113173         NA   "
      ]
     },
     "metadata": {},
     "output_type": "display_data"
    }
   ],
   "source": [
    "facings %>%\n",
    "  tabyl(facings_number)"
   ]
  },
  {
   "cell_type": "code",
   "execution_count": 57,
   "id": "f3b062e5-0e67-4333-82df-30f936266200",
   "metadata": {},
   "outputs": [
    {
     "data": {
      "text/html": [
       "<table class=\"dataframe\">\n",
       "<caption>A tibble: 1 × 1</caption>\n",
       "<thead>\n",
       "\t<tr><th scope=col>sum(majority, na.rm = TRUE)/n()</th></tr>\n",
       "\t<tr><th scope=col>&lt;dbl&gt;</th></tr>\n",
       "</thead>\n",
       "<tbody>\n",
       "\t<tr><td>0.5640074</td></tr>\n",
       "</tbody>\n",
       "</table>\n"
      ],
      "text/latex": [
       "A tibble: 1 × 1\n",
       "\\begin{tabular}{l}\n",
       " sum(majority, na.rm = TRUE)/n()\\\\\n",
       " <dbl>\\\\\n",
       "\\hline\n",
       "\t 0.5640074\\\\\n",
       "\\end{tabular}\n"
      ],
      "text/markdown": [
       "\n",
       "A tibble: 1 × 1\n",
       "\n",
       "| sum(majority, na.rm = TRUE)/n() &lt;dbl&gt; |\n",
       "|---|\n",
       "| 0.5640074 |\n",
       "\n"
      ],
      "text/plain": [
       "  sum(majority, na.rm = TRUE)/n()\n",
       "1 0.5640074                      "
      ]
     },
     "metadata": {},
     "output_type": "display_data"
    }
   ],
   "source": [
    "facings %>%\n",
    "  select(ends_with(\"majority\")) %>%\n",
    "  rowwise() %>%\n",
    "  mutate(majority = sum(c_across(everything()), na.rm=TRUE)) %>%\n",
    "  ungroup() %>%\n",
    "  summarize(sum(majority, na.rm=TRUE)/n())"
   ]
  },
  {
   "cell_type": "code",
   "execution_count": 58,
   "id": "972fc5d9-f01e-425b-82d1-6f2af9e514d5",
   "metadata": {},
   "outputs": [
    {
     "data": {
      "text/html": [
       "<table class=\"dataframe\">\n",
       "<caption>A tibble: 1 × 5</caption>\n",
       "<thead>\n",
       "\t<tr><th scope=col>facings_researcher_majority</th><th scope=col>facings_data_majority</th><th scope=col>facings_software_majority</th><th scope=col>facings_systems_majority</th><th scope=col>facings_strategy_majority</th></tr>\n",
       "\t<tr><th scope=col>&lt;dbl&gt;</th><th scope=col>&lt;dbl&gt;</th><th scope=col>&lt;dbl&gt;</th><th scope=col>&lt;dbl&gt;</th><th scope=col>&lt;dbl&gt;</th></tr>\n",
       "</thead>\n",
       "<tbody>\n",
       "\t<tr><td>0.1988743</td><td>0.05440901</td><td>0.09943715</td><td>0.1257036</td><td>0.09193246</td></tr>\n",
       "</tbody>\n",
       "</table>\n"
      ],
      "text/latex": [
       "A tibble: 1 × 5\n",
       "\\begin{tabular}{lllll}\n",
       " facings\\_researcher\\_majority & facings\\_data\\_majority & facings\\_software\\_majority & facings\\_systems\\_majority & facings\\_strategy\\_majority\\\\\n",
       " <dbl> & <dbl> & <dbl> & <dbl> & <dbl>\\\\\n",
       "\\hline\n",
       "\t 0.1988743 & 0.05440901 & 0.09943715 & 0.1257036 & 0.09193246\\\\\n",
       "\\end{tabular}\n"
      ],
      "text/markdown": [
       "\n",
       "A tibble: 1 × 5\n",
       "\n",
       "| facings_researcher_majority &lt;dbl&gt; | facings_data_majority &lt;dbl&gt; | facings_software_majority &lt;dbl&gt; | facings_systems_majority &lt;dbl&gt; | facings_strategy_majority &lt;dbl&gt; |\n",
       "|---|---|---|---|---|\n",
       "| 0.1988743 | 0.05440901 | 0.09943715 | 0.1257036 | 0.09193246 |\n",
       "\n"
      ],
      "text/plain": [
       "  facings_researcher_majority facings_data_majority facings_software_majority\n",
       "1 0.1988743                   0.05440901            0.09943715               \n",
       "  facings_systems_majority facings_strategy_majority\n",
       "1 0.1257036                0.09193246               "
      ]
     },
     "metadata": {},
     "output_type": "display_data"
    }
   ],
   "source": [
    "facings %>%\n",
    "  select(ends_with(\"majority\")) %>%\n",
    "  summarize(across(everything(), ~sum(.x, na.rm=TRUE)/sum(!is.na(facings_researcher_majority))))"
   ]
  },
  {
   "cell_type": "code",
   "execution_count": 59,
   "id": "aa593c74-a2dc-412a-9a8f-031f18ee38ef",
   "metadata": {},
   "outputs": [
    {
     "data": {
      "text/html": [
       "<table class=\"dataframe\">\n",
       "<caption>A tibble: 1 × 5</caption>\n",
       "<thead>\n",
       "\t<tr><th scope=col>facings_researcher</th><th scope=col>facings_data</th><th scope=col>facings_software</th><th scope=col>facings_systems</th><th scope=col>facings_strategy</th></tr>\n",
       "\t<tr><th scope=col>&lt;dbl&gt;</th><th scope=col>&lt;dbl&gt;</th><th scope=col>&lt;dbl&gt;</th><th scope=col>&lt;dbl&gt;</th><th scope=col>&lt;dbl&gt;</th></tr>\n",
       "</thead>\n",
       "<tbody>\n",
       "\t<tr><td>25</td><td>10</td><td>10</td><td>10</td><td>10</td></tr>\n",
       "</tbody>\n",
       "</table>\n"
      ],
      "text/latex": [
       "A tibble: 1 × 5\n",
       "\\begin{tabular}{lllll}\n",
       " facings\\_researcher & facings\\_data & facings\\_software & facings\\_systems & facings\\_strategy\\\\\n",
       " <dbl> & <dbl> & <dbl> & <dbl> & <dbl>\\\\\n",
       "\\hline\n",
       "\t 25 & 10 & 10 & 10 & 10\\\\\n",
       "\\end{tabular}\n"
      ],
      "text/markdown": [
       "\n",
       "A tibble: 1 × 5\n",
       "\n",
       "| facings_researcher &lt;dbl&gt; | facings_data &lt;dbl&gt; | facings_software &lt;dbl&gt; | facings_systems &lt;dbl&gt; | facings_strategy &lt;dbl&gt; |\n",
       "|---|---|---|---|---|\n",
       "| 25 | 10 | 10 | 10 | 10 |\n",
       "\n"
      ],
      "text/plain": [
       "  facings_researcher facings_data facings_software facings_systems\n",
       "1 25                 10           10               10             \n",
       "  facings_strategy\n",
       "1 10              "
      ]
     },
     "metadata": {},
     "output_type": "display_data"
    }
   ],
   "source": [
    "facings %>%\n",
    "  select(facings_researcher:facings_strategy) %>%\n",
    "  summarize(across(everything(), median, na.rm=TRUE))"
   ]
  },
  {
   "cell_type": "markdown",
   "id": "73889738-7d58-456a-9669-d870f9ec8414",
   "metadata": {},
   "source": [
    "## 4.5 Position and RCD Field Satisfaction\n",
    "\n",
    "### Work Valued"
   ]
  },
  {
   "cell_type": "code",
   "execution_count": 60,
   "id": "9b63ff5e-dbbe-45eb-b3b9-a7977fba434c",
   "metadata": {},
   "outputs": [
    {
     "data": {
      "text/html": [
       "<table class=\"dataframe\">\n",
       "<caption>A tabyl: 3 × 4</caption>\n",
       "<thead>\n",
       "\t<tr><th></th><th scope=col>valued</th><th scope=col>n</th><th scope=col>percent</th><th scope=col>valid_percent</th></tr>\n",
       "\t<tr><th></th><th scope=col>&lt;lgl&gt;</th><th scope=col>&lt;int&gt;</th><th scope=col>&lt;dbl&gt;</th><th scope=col>&lt;dbl&gt;</th></tr>\n",
       "</thead>\n",
       "<tbody>\n",
       "\t<tr><th scope=row>1</th><td>FALSE</td><td> 98</td><td>0.1818182</td><td>0.1995927</td></tr>\n",
       "\t<tr><th scope=row>2</th><td> TRUE</td><td>393</td><td>0.7291280</td><td>0.8004073</td></tr>\n",
       "\t<tr><th scope=row>3</th><td>   NA</td><td> 48</td><td>0.0890538</td><td>       NA</td></tr>\n",
       "</tbody>\n",
       "</table>\n"
      ],
      "text/latex": [
       "A tabyl: 3 × 4\n",
       "\\begin{tabular}{r|llll}\n",
       "  & valued & n & percent & valid\\_percent\\\\\n",
       "  & <lgl> & <int> & <dbl> & <dbl>\\\\\n",
       "\\hline\n",
       "\t1 & FALSE &  98 & 0.1818182 & 0.1995927\\\\\n",
       "\t2 &  TRUE & 393 & 0.7291280 & 0.8004073\\\\\n",
       "\t3 &    NA &  48 & 0.0890538 &        NA\\\\\n",
       "\\end{tabular}\n"
      ],
      "text/markdown": [
       "\n",
       "A tabyl: 3 × 4\n",
       "\n",
       "| <!--/--> | valued &lt;lgl&gt; | n &lt;int&gt; | percent &lt;dbl&gt; | valid_percent &lt;dbl&gt; |\n",
       "|---|---|---|---|---|\n",
       "| 1 | FALSE |  98 | 0.1818182 | 0.1995927 |\n",
       "| 2 |  TRUE | 393 | 0.7291280 | 0.8004073 |\n",
       "| 3 |    NA |  48 | 0.0890538 |        NA |\n",
       "\n"
      ],
      "text/plain": [
       "  valued n   percent   valid_percent\n",
       "1 FALSE   98 0.1818182 0.1995927    \n",
       "2  TRUE  393 0.7291280 0.8004073    \n",
       "3    NA   48 0.0890538        NA    "
      ]
     },
     "metadata": {},
     "output_type": "display_data"
    }
   ],
   "source": [
    "satisfaction %>%\n",
    "  mutate(valued = valued_peers %in% c(\"Always\", \"Most of the time\"),\n",
    "         valued = ifelse(is.na(valued_peers), NA, valued)) %>%\n",
    "  tabyl(valued)"
   ]
  },
  {
   "cell_type": "code",
   "execution_count": 61,
   "id": "8e5102c6-1615-46f8-add9-4950ebb9f21d",
   "metadata": {},
   "outputs": [
    {
     "data": {
      "text/html": [
       "<table class=\"dataframe\">\n",
       "<caption>A tabyl: 3 × 4</caption>\n",
       "<thead>\n",
       "\t<tr><th></th><th scope=col>valued</th><th scope=col>n</th><th scope=col>percent</th><th scope=col>valid_percent</th></tr>\n",
       "\t<tr><th></th><th scope=col>&lt;lgl&gt;</th><th scope=col>&lt;int&gt;</th><th scope=col>&lt;dbl&gt;</th><th scope=col>&lt;dbl&gt;</th></tr>\n",
       "</thead>\n",
       "<tbody>\n",
       "\t<tr><th scope=row>1</th><td>FALSE</td><td> 80</td><td>0.14842301</td><td>0.1538462</td></tr>\n",
       "\t<tr><th scope=row>2</th><td> TRUE</td><td>440</td><td>0.81632653</td><td>0.8461538</td></tr>\n",
       "\t<tr><th scope=row>3</th><td>   NA</td><td> 19</td><td>0.03525046</td><td>       NA</td></tr>\n",
       "</tbody>\n",
       "</table>\n"
      ],
      "text/latex": [
       "A tabyl: 3 × 4\n",
       "\\begin{tabular}{r|llll}\n",
       "  & valued & n & percent & valid\\_percent\\\\\n",
       "  & <lgl> & <int> & <dbl> & <dbl>\\\\\n",
       "\\hline\n",
       "\t1 & FALSE &  80 & 0.14842301 & 0.1538462\\\\\n",
       "\t2 &  TRUE & 440 & 0.81632653 & 0.8461538\\\\\n",
       "\t3 &    NA &  19 & 0.03525046 &        NA\\\\\n",
       "\\end{tabular}\n"
      ],
      "text/markdown": [
       "\n",
       "A tabyl: 3 × 4\n",
       "\n",
       "| <!--/--> | valued &lt;lgl&gt; | n &lt;int&gt; | percent &lt;dbl&gt; | valid_percent &lt;dbl&gt; |\n",
       "|---|---|---|---|---|\n",
       "| 1 | FALSE |  80 | 0.14842301 | 0.1538462 |\n",
       "| 2 |  TRUE | 440 | 0.81632653 | 0.8461538 |\n",
       "| 3 |    NA |  19 | 0.03525046 |        NA |\n",
       "\n"
      ],
      "text/plain": [
       "  valued n   percent    valid_percent\n",
       "1 FALSE   80 0.14842301 0.1538462    \n",
       "2  TRUE  440 0.81632653 0.8461538    \n",
       "3    NA   19 0.03525046        NA    "
      ]
     },
     "metadata": {},
     "output_type": "display_data"
    }
   ],
   "source": [
    "satisfaction %>%\n",
    "  mutate(valued = valued_manager %in% c(\"Always\", \"Most of the time\"),\n",
    "         valued = ifelse(is.na(valued_manager), NA, valued)) %>%\n",
    "  tabyl(valued)"
   ]
  },
  {
   "cell_type": "code",
   "execution_count": 62,
   "id": "53f1c7dc-07f7-449f-b3ea-b9f1b50eb6a8",
   "metadata": {},
   "outputs": [
    {
     "data": {
      "text/html": [
       "<table class=\"dataframe\">\n",
       "<caption>A tabyl: 3 × 4</caption>\n",
       "<thead>\n",
       "\t<tr><th></th><th scope=col>valued</th><th scope=col>n</th><th scope=col>percent</th><th scope=col>valid_percent</th></tr>\n",
       "\t<tr><th></th><th scope=col>&lt;lgl&gt;</th><th scope=col>&lt;int&gt;</th><th scope=col>&lt;dbl&gt;</th><th scope=col>&lt;dbl&gt;</th></tr>\n",
       "</thead>\n",
       "<tbody>\n",
       "\t<tr><th scope=row>1</th><td>FALSE</td><td>119</td><td>0.22077922</td><td>0.2333333</td></tr>\n",
       "\t<tr><th scope=row>2</th><td> TRUE</td><td>391</td><td>0.72541744</td><td>0.7666667</td></tr>\n",
       "\t<tr><th scope=row>3</th><td>   NA</td><td> 29</td><td>0.05380334</td><td>       NA</td></tr>\n",
       "</tbody>\n",
       "</table>\n"
      ],
      "text/latex": [
       "A tabyl: 3 × 4\n",
       "\\begin{tabular}{r|llll}\n",
       "  & valued & n & percent & valid\\_percent\\\\\n",
       "  & <lgl> & <int> & <dbl> & <dbl>\\\\\n",
       "\\hline\n",
       "\t1 & FALSE & 119 & 0.22077922 & 0.2333333\\\\\n",
       "\t2 &  TRUE & 391 & 0.72541744 & 0.7666667\\\\\n",
       "\t3 &    NA &  29 & 0.05380334 &        NA\\\\\n",
       "\\end{tabular}\n"
      ],
      "text/markdown": [
       "\n",
       "A tabyl: 3 × 4\n",
       "\n",
       "| <!--/--> | valued &lt;lgl&gt; | n &lt;int&gt; | percent &lt;dbl&gt; | valid_percent &lt;dbl&gt; |\n",
       "|---|---|---|---|---|\n",
       "| 1 | FALSE | 119 | 0.22077922 | 0.2333333 |\n",
       "| 2 |  TRUE | 391 | 0.72541744 | 0.7666667 |\n",
       "| 3 |    NA |  29 | 0.05380334 |        NA |\n",
       "\n"
      ],
      "text/plain": [
       "  valued n   percent    valid_percent\n",
       "1 FALSE  119 0.22077922 0.2333333    \n",
       "2  TRUE  391 0.72541744 0.7666667    \n",
       "3    NA   29 0.05380334        NA    "
      ]
     },
     "metadata": {},
     "output_type": "display_data"
    }
   ],
   "source": [
    "satisfaction %>%\n",
    "  mutate(valued = valued_researchers %in% c(\"Always\", \"Most of the time\"),\n",
    "         valued = ifelse(is.na(valued_researchers), NA, valued)) %>%\n",
    "  tabyl(valued)"
   ]
  },
  {
   "cell_type": "code",
   "execution_count": 63,
   "id": "3de13465-b88d-4728-b9c0-b887018c2fea",
   "metadata": {},
   "outputs": [
    {
     "data": {
      "text/html": [
       "<table class=\"dataframe\">\n",
       "<caption>A tabyl: 3 × 4</caption>\n",
       "<thead>\n",
       "\t<tr><th></th><th scope=col>valued</th><th scope=col>n</th><th scope=col>percent</th><th scope=col>valid_percent</th></tr>\n",
       "\t<tr><th></th><th scope=col>&lt;lgl&gt;</th><th scope=col>&lt;int&gt;</th><th scope=col>&lt;dbl&gt;</th><th scope=col>&lt;dbl&gt;</th></tr>\n",
       "</thead>\n",
       "<tbody>\n",
       "\t<tr><th scope=row>1</th><td>FALSE</td><td>213</td><td>0.39517625</td><td>0.430303</td></tr>\n",
       "\t<tr><th scope=row>2</th><td> TRUE</td><td>282</td><td>0.52319109</td><td>0.569697</td></tr>\n",
       "\t<tr><th scope=row>3</th><td>   NA</td><td> 44</td><td>0.08163265</td><td>      NA</td></tr>\n",
       "</tbody>\n",
       "</table>\n"
      ],
      "text/latex": [
       "A tabyl: 3 × 4\n",
       "\\begin{tabular}{r|llll}\n",
       "  & valued & n & percent & valid\\_percent\\\\\n",
       "  & <lgl> & <int> & <dbl> & <dbl>\\\\\n",
       "\\hline\n",
       "\t1 & FALSE & 213 & 0.39517625 & 0.430303\\\\\n",
       "\t2 &  TRUE & 282 & 0.52319109 & 0.569697\\\\\n",
       "\t3 &    NA &  44 & 0.08163265 &       NA\\\\\n",
       "\\end{tabular}\n"
      ],
      "text/markdown": [
       "\n",
       "A tabyl: 3 × 4\n",
       "\n",
       "| <!--/--> | valued &lt;lgl&gt; | n &lt;int&gt; | percent &lt;dbl&gt; | valid_percent &lt;dbl&gt; |\n",
       "|---|---|---|---|---|\n",
       "| 1 | FALSE | 213 | 0.39517625 | 0.430303 |\n",
       "| 2 |  TRUE | 282 | 0.52319109 | 0.569697 |\n",
       "| 3 |    NA |  44 | 0.08163265 |       NA |\n",
       "\n"
      ],
      "text/plain": [
       "  valued n   percent    valid_percent\n",
       "1 FALSE  213 0.39517625 0.430303     \n",
       "2  TRUE  282 0.52319109 0.569697     \n",
       "3    NA   44 0.08163265       NA     "
      ]
     },
     "metadata": {},
     "output_type": "display_data"
    }
   ],
   "source": [
    "satisfaction %>%\n",
    "  mutate(valued = valued_org %in% c(\"Always\", \"Most of the time\"),\n",
    "         valued = ifelse(is.na(valued_org), NA, valued)) %>%\n",
    "  tabyl(valued)"
   ]
  },
  {
   "cell_type": "code",
   "execution_count": 64,
   "id": "2314f1e2-e241-4ee9-ba11-586bd11bc096",
   "metadata": {},
   "outputs": [
    {
     "data": {
      "text/html": [
       "<table class=\"dataframe\">\n",
       "<caption>A tabyl: 3 × 4</caption>\n",
       "<thead>\n",
       "\t<tr><th scope=col>valued</th><th scope=col>Not Satisfied</th><th scope=col>Satisfied</th><th scope=col>NA_</th></tr>\n",
       "\t<tr><th scope=col>&lt;chr&gt;</th><th scope=col>&lt;dbl&gt;</th><th scope=col>&lt;dbl&gt;</th><th scope=col>&lt;dbl&gt;</th></tr>\n",
       "</thead>\n",
       "<tbody>\n",
       "\t<tr><td>Not Valued</td><td>0.23469388</td><td>0.7653061</td><td>0.0000</td></tr>\n",
       "\t<tr><td>Valued    </td><td>0.07888041</td><td>0.9211196</td><td>0.0000</td></tr>\n",
       "\t<tr><td>NA        </td><td>0.20833333</td><td>0.7291667</td><td>0.0625</td></tr>\n",
       "</tbody>\n",
       "</table>\n"
      ],
      "text/latex": [
       "A tabyl: 3 × 4\n",
       "\\begin{tabular}{llll}\n",
       " valued & Not Satisfied & Satisfied & NA\\_\\\\\n",
       " <chr> & <dbl> & <dbl> & <dbl>\\\\\n",
       "\\hline\n",
       "\t Not Valued & 0.23469388 & 0.7653061 & 0.0000\\\\\n",
       "\t Valued     & 0.07888041 & 0.9211196 & 0.0000\\\\\n",
       "\t NA         & 0.20833333 & 0.7291667 & 0.0625\\\\\n",
       "\\end{tabular}\n"
      ],
      "text/markdown": [
       "\n",
       "A tabyl: 3 × 4\n",
       "\n",
       "| valued &lt;chr&gt; | Not Satisfied &lt;dbl&gt; | Satisfied &lt;dbl&gt; | NA_ &lt;dbl&gt; |\n",
       "|---|---|---|---|\n",
       "| Not Valued | 0.23469388 | 0.7653061 | 0.0000 |\n",
       "| Valued     | 0.07888041 | 0.9211196 | 0.0000 |\n",
       "| NA         | 0.20833333 | 0.7291667 | 0.0625 |\n",
       "\n"
      ],
      "text/plain": [
       "  valued     Not Satisfied Satisfied NA_   \n",
       "1 Not Valued 0.23469388    0.7653061 0.0000\n",
       "2 Valued     0.07888041    0.9211196 0.0000\n",
       "3 NA         0.20833333    0.7291667 0.0625"
      ]
     },
     "metadata": {},
     "output_type": "display_data"
    },
    {
     "data": {
      "text/html": [
       "<table class=\"dataframe\">\n",
       "<caption>A tabyl: 3 × 4</caption>\n",
       "<thead>\n",
       "\t<tr><th scope=col>valued</th><th scope=col>Not Satisfied</th><th scope=col>Satisfied</th><th scope=col>NA_</th></tr>\n",
       "\t<tr><th scope=col>&lt;chr&gt;</th><th scope=col>&lt;dbl&gt;</th><th scope=col>&lt;dbl&gt;</th><th scope=col>&lt;dbl&gt;</th></tr>\n",
       "</thead>\n",
       "<tbody>\n",
       "\t<tr><td>Not Valued</td><td>0.28750000</td><td>0.7125000</td><td>0.0000000</td></tr>\n",
       "\t<tr><td>Valued    </td><td>0.07954545</td><td>0.9204545</td><td>0.0000000</td></tr>\n",
       "\t<tr><td>NA        </td><td>0.31578947</td><td>0.5263158</td><td>0.1578947</td></tr>\n",
       "</tbody>\n",
       "</table>\n"
      ],
      "text/latex": [
       "A tabyl: 3 × 4\n",
       "\\begin{tabular}{llll}\n",
       " valued & Not Satisfied & Satisfied & NA\\_\\\\\n",
       " <chr> & <dbl> & <dbl> & <dbl>\\\\\n",
       "\\hline\n",
       "\t Not Valued & 0.28750000 & 0.7125000 & 0.0000000\\\\\n",
       "\t Valued     & 0.07954545 & 0.9204545 & 0.0000000\\\\\n",
       "\t NA         & 0.31578947 & 0.5263158 & 0.1578947\\\\\n",
       "\\end{tabular}\n"
      ],
      "text/markdown": [
       "\n",
       "A tabyl: 3 × 4\n",
       "\n",
       "| valued &lt;chr&gt; | Not Satisfied &lt;dbl&gt; | Satisfied &lt;dbl&gt; | NA_ &lt;dbl&gt; |\n",
       "|---|---|---|---|\n",
       "| Not Valued | 0.28750000 | 0.7125000 | 0.0000000 |\n",
       "| Valued     | 0.07954545 | 0.9204545 | 0.0000000 |\n",
       "| NA         | 0.31578947 | 0.5263158 | 0.1578947 |\n",
       "\n"
      ],
      "text/plain": [
       "  valued     Not Satisfied Satisfied NA_      \n",
       "1 Not Valued 0.28750000    0.7125000 0.0000000\n",
       "2 Valued     0.07954545    0.9204545 0.0000000\n",
       "3 NA         0.31578947    0.5263158 0.1578947"
      ]
     },
     "metadata": {},
     "output_type": "display_data"
    },
    {
     "data": {
      "text/html": [
       "<table class=\"dataframe\">\n",
       "<caption>A tabyl: 3 × 4</caption>\n",
       "<thead>\n",
       "\t<tr><th scope=col>valued</th><th scope=col>Not Satisfied</th><th scope=col>Satisfied</th><th scope=col>NA_</th></tr>\n",
       "\t<tr><th scope=col>&lt;chr&gt;</th><th scope=col>&lt;dbl&gt;</th><th scope=col>&lt;dbl&gt;</th><th scope=col>&lt;dbl&gt;</th></tr>\n",
       "</thead>\n",
       "<tbody>\n",
       "\t<tr><td>Not Valued</td><td>0.1764706</td><td>0.8235294</td><td>0.0000000</td></tr>\n",
       "\t<tr><td>Valued    </td><td>0.0971867</td><td>0.9028133</td><td>0.0000000</td></tr>\n",
       "\t<tr><td>NA        </td><td>0.1724138</td><td>0.7241379</td><td>0.1034483</td></tr>\n",
       "</tbody>\n",
       "</table>\n"
      ],
      "text/latex": [
       "A tabyl: 3 × 4\n",
       "\\begin{tabular}{llll}\n",
       " valued & Not Satisfied & Satisfied & NA\\_\\\\\n",
       " <chr> & <dbl> & <dbl> & <dbl>\\\\\n",
       "\\hline\n",
       "\t Not Valued & 0.1764706 & 0.8235294 & 0.0000000\\\\\n",
       "\t Valued     & 0.0971867 & 0.9028133 & 0.0000000\\\\\n",
       "\t NA         & 0.1724138 & 0.7241379 & 0.1034483\\\\\n",
       "\\end{tabular}\n"
      ],
      "text/markdown": [
       "\n",
       "A tabyl: 3 × 4\n",
       "\n",
       "| valued &lt;chr&gt; | Not Satisfied &lt;dbl&gt; | Satisfied &lt;dbl&gt; | NA_ &lt;dbl&gt; |\n",
       "|---|---|---|---|\n",
       "| Not Valued | 0.1764706 | 0.8235294 | 0.0000000 |\n",
       "| Valued     | 0.0971867 | 0.9028133 | 0.0000000 |\n",
       "| NA         | 0.1724138 | 0.7241379 | 0.1034483 |\n",
       "\n"
      ],
      "text/plain": [
       "  valued     Not Satisfied Satisfied NA_      \n",
       "1 Not Valued 0.1764706     0.8235294 0.0000000\n",
       "2 Valued     0.0971867     0.9028133 0.0000000\n",
       "3 NA         0.1724138     0.7241379 0.1034483"
      ]
     },
     "metadata": {},
     "output_type": "display_data"
    },
    {
     "data": {
      "text/html": [
       "<table class=\"dataframe\">\n",
       "<caption>A tabyl: 3 × 4</caption>\n",
       "<thead>\n",
       "\t<tr><th scope=col>valued</th><th scope=col>Not Satisfied</th><th scope=col>Satisfied</th><th scope=col>NA_</th></tr>\n",
       "\t<tr><th scope=col>&lt;chr&gt;</th><th scope=col>&lt;dbl&gt;</th><th scope=col>&lt;dbl&gt;</th><th scope=col>&lt;dbl&gt;</th></tr>\n",
       "</thead>\n",
       "<tbody>\n",
       "\t<tr><td>Not Valued</td><td>0.19718310</td><td>0.8028169</td><td>0.00000000</td></tr>\n",
       "\t<tr><td>Valued    </td><td>0.03900709</td><td>0.9609929</td><td>0.00000000</td></tr>\n",
       "\t<tr><td>NA        </td><td>0.25000000</td><td>0.6818182</td><td>0.06818182</td></tr>\n",
       "</tbody>\n",
       "</table>\n"
      ],
      "text/latex": [
       "A tabyl: 3 × 4\n",
       "\\begin{tabular}{llll}\n",
       " valued & Not Satisfied & Satisfied & NA\\_\\\\\n",
       " <chr> & <dbl> & <dbl> & <dbl>\\\\\n",
       "\\hline\n",
       "\t Not Valued & 0.19718310 & 0.8028169 & 0.00000000\\\\\n",
       "\t Valued     & 0.03900709 & 0.9609929 & 0.00000000\\\\\n",
       "\t NA         & 0.25000000 & 0.6818182 & 0.06818182\\\\\n",
       "\\end{tabular}\n"
      ],
      "text/markdown": [
       "\n",
       "A tabyl: 3 × 4\n",
       "\n",
       "| valued &lt;chr&gt; | Not Satisfied &lt;dbl&gt; | Satisfied &lt;dbl&gt; | NA_ &lt;dbl&gt; |\n",
       "|---|---|---|---|\n",
       "| Not Valued | 0.19718310 | 0.8028169 | 0.00000000 |\n",
       "| Valued     | 0.03900709 | 0.9609929 | 0.00000000 |\n",
       "| NA         | 0.25000000 | 0.6818182 | 0.06818182 |\n",
       "\n"
      ],
      "text/plain": [
       "  valued     Not Satisfied Satisfied NA_       \n",
       "1 Not Valued 0.19718310    0.8028169 0.00000000\n",
       "2 Valued     0.03900709    0.9609929 0.00000000\n",
       "3 NA         0.25000000    0.6818182 0.06818182"
      ]
     },
     "metadata": {},
     "output_type": "display_data"
    }
   ],
   "source": [
    "satisfied_valued <- function(variable) {\n",
    "  satisfaction %>%\n",
    "    mutate(valued = {{variable}} %in% c(\"Always\", \"Most of the time\"),\n",
    "           valued = ifelse(is.na({{variable}}), NA, ifelse(valued, \"Valued\", \"Not Valued\")),\n",
    "           satisfied = rcd_satisfaction %in% c(\"Extremely satisfied\", \"Somewhat satisfied\"),\n",
    "           satisfied = ifelse(is.na(rcd_satisfaction), NA, ifelse(satisfied, \"Satisfied\", \"Not Satisfied\"))) %>%\n",
    "    tabyl(valued, satisfied) %>%\n",
    "    adorn_percentages()\n",
    "}\n",
    "satisfied_valued(valued_peers)\n",
    "satisfied_valued(valued_manager)\n",
    "satisfied_valued(valued_researchers)\n",
    "satisfied_valued(valued_org)"
   ]
  },
  {
   "cell_type": "markdown",
   "id": "b71ea6aa-389e-4447-aeea-88bbbdc4a601",
   "metadata": {},
   "source": [
    "### Opportunities"
   ]
  },
  {
   "cell_type": "code",
   "execution_count": 65,
   "id": "5ef4dc6d-8c43-47e8-9ade-d46a2fda4087",
   "metadata": {},
   "outputs": [
    {
     "data": {
      "text/html": [
       "<table class=\"dataframe\">\n",
       "<caption>A tabyl: 3 × 4</caption>\n",
       "<thead>\n",
       "\t<tr><th></th><th scope=col>satisfied</th><th scope=col>n</th><th scope=col>percent</th><th scope=col>valid_percent</th></tr>\n",
       "\t<tr><th></th><th scope=col>&lt;chr&gt;</th><th scope=col>&lt;int&gt;</th><th scope=col>&lt;dbl&gt;</th><th scope=col>&lt;dbl&gt;</th></tr>\n",
       "</thead>\n",
       "<tbody>\n",
       "\t<tr><th scope=row>1</th><td>Not Satisfied</td><td> 64</td><td>0.118738404</td><td>0.119403</td></tr>\n",
       "\t<tr><th scope=row>2</th><td>Satisfied    </td><td>472</td><td>0.875695733</td><td>0.880597</td></tr>\n",
       "\t<tr><th scope=row>3</th><td>NA           </td><td>  3</td><td>0.005565863</td><td>      NA</td></tr>\n",
       "</tbody>\n",
       "</table>\n"
      ],
      "text/latex": [
       "A tabyl: 3 × 4\n",
       "\\begin{tabular}{r|llll}\n",
       "  & satisfied & n & percent & valid\\_percent\\\\\n",
       "  & <chr> & <int> & <dbl> & <dbl>\\\\\n",
       "\\hline\n",
       "\t1 & Not Satisfied &  64 & 0.118738404 & 0.119403\\\\\n",
       "\t2 & Satisfied     & 472 & 0.875695733 & 0.880597\\\\\n",
       "\t3 & NA            &   3 & 0.005565863 &       NA\\\\\n",
       "\\end{tabular}\n"
      ],
      "text/markdown": [
       "\n",
       "A tabyl: 3 × 4\n",
       "\n",
       "| <!--/--> | satisfied &lt;chr&gt; | n &lt;int&gt; | percent &lt;dbl&gt; | valid_percent &lt;dbl&gt; |\n",
       "|---|---|---|---|---|\n",
       "| 1 | Not Satisfied |  64 | 0.118738404 | 0.119403 |\n",
       "| 2 | Satisfied     | 472 | 0.875695733 | 0.880597 |\n",
       "| 3 | NA            |   3 | 0.005565863 |       NA |\n",
       "\n"
      ],
      "text/plain": [
       "  satisfied     n   percent     valid_percent\n",
       "1 Not Satisfied  64 0.118738404 0.119403     \n",
       "2 Satisfied     472 0.875695733 0.880597     \n",
       "3 NA              3 0.005565863       NA     "
      ]
     },
     "metadata": {},
     "output_type": "display_data"
    }
   ],
   "source": [
    "satisfaction %>%\n",
    "    mutate(satisfied = rcd_satisfaction %in% c(\"Extremely satisfied\", \"Somewhat satisfied\"),\n",
    "           satisfied = ifelse(is.na(rcd_satisfaction), NA, ifelse(satisfied, \"Satisfied\", \"Not Satisfied\"))) %>%\n",
    "    tabyl(satisfied)"
   ]
  },
  {
   "cell_type": "code",
   "execution_count": 66,
   "id": "e54fd0ca-42be-46ea-bc25-6d2a4eb795c3",
   "metadata": {},
   "outputs": [
    {
     "data": {
      "text/html": [
       "<table class=\"dataframe\">\n",
       "<caption>A tabyl: 3 × 4</caption>\n",
       "<thead>\n",
       "\t<tr><th></th><th scope=col>opp</th><th scope=col>n</th><th scope=col>percent</th><th scope=col>valid_percent</th></tr>\n",
       "\t<tr><th></th><th scope=col>&lt;chr&gt;</th><th scope=col>&lt;int&gt;</th><th scope=col>&lt;dbl&gt;</th><th scope=col>&lt;dbl&gt;</th></tr>\n",
       "</thead>\n",
       "<tbody>\n",
       "\t<tr><th scope=row>1</th><td>Not agree              </td><td>177</td><td>0.32838590</td><td>0.3320826</td></tr>\n",
       "\t<tr><th scope=row>2</th><td>Strongly/Somewhat Agree</td><td>356</td><td>0.66048237</td><td>0.6679174</td></tr>\n",
       "\t<tr><th scope=row>3</th><td>NA                     </td><td>  6</td><td>0.01113173</td><td>       NA</td></tr>\n",
       "</tbody>\n",
       "</table>\n"
      ],
      "text/latex": [
       "A tabyl: 3 × 4\n",
       "\\begin{tabular}{r|llll}\n",
       "  & opp & n & percent & valid\\_percent\\\\\n",
       "  & <chr> & <int> & <dbl> & <dbl>\\\\\n",
       "\\hline\n",
       "\t1 & Not agree               & 177 & 0.32838590 & 0.3320826\\\\\n",
       "\t2 & Strongly/Somewhat Agree & 356 & 0.66048237 & 0.6679174\\\\\n",
       "\t3 & NA                      &   6 & 0.01113173 &        NA\\\\\n",
       "\\end{tabular}\n"
      ],
      "text/markdown": [
       "\n",
       "A tabyl: 3 × 4\n",
       "\n",
       "| <!--/--> | opp &lt;chr&gt; | n &lt;int&gt; | percent &lt;dbl&gt; | valid_percent &lt;dbl&gt; |\n",
       "|---|---|---|---|---|\n",
       "| 1 | Not agree               | 177 | 0.32838590 | 0.3320826 |\n",
       "| 2 | Strongly/Somewhat Agree | 356 | 0.66048237 | 0.6679174 |\n",
       "| 3 | NA                      |   6 | 0.01113173 |        NA |\n",
       "\n"
      ],
      "text/plain": [
       "  opp                     n   percent    valid_percent\n",
       "1 Not agree               177 0.32838590 0.3320826    \n",
       "2 Strongly/Somewhat Agree 356 0.66048237 0.6679174    \n",
       "3 NA                        6 0.01113173        NA    "
      ]
     },
     "metadata": {},
     "output_type": "display_data"
    }
   ],
   "source": [
    "satisfaction %>%\n",
    "    mutate(opp = rcd_opportunities %in% c(\"Strongly agree\", \"Somewhat agree\"),\n",
    "           opp = ifelse(is.na(rcd_opportunities), NA, ifelse(opp, \"Strongly/Somewhat Agree\", \"Not agree\"))) %>%\n",
    "    tabyl(opp)"
   ]
  },
  {
   "cell_type": "code",
   "execution_count": 67,
   "id": "19b075f5-8be9-4d26-ab34-d86be74ae379",
   "metadata": {},
   "outputs": [
    {
     "data": {
      "text/html": [
       "<table class=\"dataframe\">\n",
       "<caption>A tabyl: 3 × 4</caption>\n",
       "<thead>\n",
       "\t<tr><th scope=col>promoted</th><th scope=col>Not agree</th><th scope=col>Strongly/Somewhat Agree</th><th scope=col>NA_</th></tr>\n",
       "\t<tr><th scope=col>&lt;lgl&gt;</th><th scope=col>&lt;dbl&gt;</th><th scope=col>&lt;dbl&gt;</th><th scope=col>&lt;dbl&gt;</th></tr>\n",
       "</thead>\n",
       "<tbody>\n",
       "\t<tr><td>FALSE</td><td>0.3537415</td><td>0.6428571</td><td>0.003401361</td></tr>\n",
       "\t<tr><td> TRUE</td><td>0.3016529</td><td>0.6859504</td><td>0.012396694</td></tr>\n",
       "\t<tr><td>   NA</td><td>0.0000000</td><td>0.3333333</td><td>0.666666667</td></tr>\n",
       "</tbody>\n",
       "</table>\n"
      ],
      "text/latex": [
       "A tabyl: 3 × 4\n",
       "\\begin{tabular}{llll}\n",
       " promoted & Not agree & Strongly/Somewhat Agree & NA\\_\\\\\n",
       " <lgl> & <dbl> & <dbl> & <dbl>\\\\\n",
       "\\hline\n",
       "\t FALSE & 0.3537415 & 0.6428571 & 0.003401361\\\\\n",
       "\t  TRUE & 0.3016529 & 0.6859504 & 0.012396694\\\\\n",
       "\t    NA & 0.0000000 & 0.3333333 & 0.666666667\\\\\n",
       "\\end{tabular}\n"
      ],
      "text/markdown": [
       "\n",
       "A tabyl: 3 × 4\n",
       "\n",
       "| promoted &lt;lgl&gt; | Not agree &lt;dbl&gt; | Strongly/Somewhat Agree &lt;dbl&gt; | NA_ &lt;dbl&gt; |\n",
       "|---|---|---|---|\n",
       "| FALSE | 0.3537415 | 0.6428571 | 0.003401361 |\n",
       "|  TRUE | 0.3016529 | 0.6859504 | 0.012396694 |\n",
       "|    NA | 0.0000000 | 0.3333333 | 0.666666667 |\n",
       "\n"
      ],
      "text/plain": [
       "  promoted Not agree Strongly/Somewhat Agree NA_        \n",
       "1 FALSE    0.3537415 0.6428571               0.003401361\n",
       "2  TRUE    0.3016529 0.6859504               0.012396694\n",
       "3    NA    0.0000000 0.3333333               0.666666667"
      ]
     },
     "metadata": {},
     "output_type": "display_data"
    }
   ],
   "source": [
    "satisfaction %>%\n",
    "    mutate(opp = rcd_opportunities %in% c(\"Strongly agree\", \"Somewhat agree\"),\n",
    "           opp = ifelse(is.na(rcd_opportunities), NA, ifelse(opp, \"Strongly/Somewhat Agree\", \"Not agree\"))) %>%\n",
    "    tabyl(promoted, opp) %>%\n",
    "    adorn_percentages()"
   ]
  },
  {
   "cell_type": "code",
   "execution_count": 68,
   "id": "3e298973-40cd-43b5-92e3-2b6b81e0dd61",
   "metadata": {},
   "outputs": [
    {
     "data": {
      "text/html": [
       "<table class=\"dataframe\">\n",
       "<caption>A tabyl: 6 × 4</caption>\n",
       "<thead>\n",
       "\t<tr><th></th><th scope=col>rcd_future</th><th scope=col>n</th><th scope=col>percent</th><th scope=col>valid_percent</th></tr>\n",
       "\t<tr><th></th><th scope=col>&lt;chr&gt;</th><th scope=col>&lt;int&gt;</th><th scope=col>&lt;dbl&gt;</th><th scope=col>&lt;dbl&gt;</th></tr>\n",
       "</thead>\n",
       "<tbody>\n",
       "\t<tr><th scope=row>1</th><td>Neither agree nor disagree</td><td> 74</td><td>0.13729128</td><td>0.13909774</td></tr>\n",
       "\t<tr><th scope=row>2</th><td>Somewhat agree            </td><td>196</td><td>0.36363636</td><td>0.36842105</td></tr>\n",
       "\t<tr><th scope=row>3</th><td>Somewhat disagree         </td><td> 38</td><td>0.07050093</td><td>0.07142857</td></tr>\n",
       "\t<tr><th scope=row>4</th><td>Strongly agree            </td><td>213</td><td>0.39517625</td><td>0.40037594</td></tr>\n",
       "\t<tr><th scope=row>5</th><td>Strongly disagree         </td><td> 11</td><td>0.02040816</td><td>0.02067669</td></tr>\n",
       "\t<tr><th scope=row>6</th><td>NA                        </td><td>  7</td><td>0.01298701</td><td>        NA</td></tr>\n",
       "</tbody>\n",
       "</table>\n"
      ],
      "text/latex": [
       "A tabyl: 6 × 4\n",
       "\\begin{tabular}{r|llll}\n",
       "  & rcd\\_future & n & percent & valid\\_percent\\\\\n",
       "  & <chr> & <int> & <dbl> & <dbl>\\\\\n",
       "\\hline\n",
       "\t1 & Neither agree nor disagree &  74 & 0.13729128 & 0.13909774\\\\\n",
       "\t2 & Somewhat agree             & 196 & 0.36363636 & 0.36842105\\\\\n",
       "\t3 & Somewhat disagree          &  38 & 0.07050093 & 0.07142857\\\\\n",
       "\t4 & Strongly agree             & 213 & 0.39517625 & 0.40037594\\\\\n",
       "\t5 & Strongly disagree          &  11 & 0.02040816 & 0.02067669\\\\\n",
       "\t6 & NA                         &   7 & 0.01298701 &         NA\\\\\n",
       "\\end{tabular}\n"
      ],
      "text/markdown": [
       "\n",
       "A tabyl: 6 × 4\n",
       "\n",
       "| <!--/--> | rcd_future &lt;chr&gt; | n &lt;int&gt; | percent &lt;dbl&gt; | valid_percent &lt;dbl&gt; |\n",
       "|---|---|---|---|---|\n",
       "| 1 | Neither agree nor disagree |  74 | 0.13729128 | 0.13909774 |\n",
       "| 2 | Somewhat agree             | 196 | 0.36363636 | 0.36842105 |\n",
       "| 3 | Somewhat disagree          |  38 | 0.07050093 | 0.07142857 |\n",
       "| 4 | Strongly agree             | 213 | 0.39517625 | 0.40037594 |\n",
       "| 5 | Strongly disagree          |  11 | 0.02040816 | 0.02067669 |\n",
       "| 6 | NA                         |   7 | 0.01298701 |         NA |\n",
       "\n"
      ],
      "text/plain": [
       "  rcd_future                 n   percent    valid_percent\n",
       "1 Neither agree nor disagree  74 0.13729128 0.13909774   \n",
       "2 Somewhat agree             196 0.36363636 0.36842105   \n",
       "3 Somewhat disagree           38 0.07050093 0.07142857   \n",
       "4 Strongly agree             213 0.39517625 0.40037594   \n",
       "5 Strongly disagree           11 0.02040816 0.02067669   \n",
       "6 NA                           7 0.01298701         NA   "
      ]
     },
     "metadata": {},
     "output_type": "display_data"
    }
   ],
   "source": [
    "satisfaction %>%\n",
    "  tabyl(rcd_future)"
   ]
  },
  {
   "cell_type": "code",
   "execution_count": 69,
   "id": "2f394e92-4301-4101-88e4-132800e2d7d8",
   "metadata": {},
   "outputs": [
    {
     "data": {
      "text/html": [
       "7.68233082706767"
      ],
      "text/latex": [
       "7.68233082706767"
      ],
      "text/markdown": [
       "7.68233082706767"
      ],
      "text/plain": [
       "[1] 7.682331"
      ]
     },
     "metadata": {},
     "output_type": "display_data"
    }
   ],
   "source": [
    "mean(satisfaction$rcd_recommend, na.rm=TRUE)"
   ]
  },
  {
   "cell_type": "code",
   "execution_count": 70,
   "id": "3345f16e-b9e2-4d3d-ad83-e2793fcfb351",
   "metadata": {},
   "outputs": [
    {
     "data": {
      "text/html": [
       "0.631578947368421"
      ],
      "text/latex": [
       "0.631578947368421"
      ],
      "text/markdown": [
       "0.631578947368421"
      ],
      "text/plain": [
       "[1] 0.6315789"
      ]
     },
     "metadata": {},
     "output_type": "display_data"
    }
   ],
   "source": [
    "sum(satisfaction$rcd_recommend >= 8, na.rm=TRUE)/sum(!is.na(satisfaction$rcd_recommend))"
   ]
  },
  {
   "cell_type": "code",
   "execution_count": 71,
   "id": "1fc5f232-5ad8-4e91-8b52-604e21d6ae8c",
   "metadata": {},
   "outputs": [
    {
     "data": {
      "text/html": [
       "<table class=\"dataframe\">\n",
       "<caption>A tabyl: 2 × 3</caption>\n",
       "<thead>\n",
       "\t<tr><th scope=col>no_future</th><th scope=col>FALSE</th><th scope=col>TRUE</th></tr>\n",
       "\t<tr><th scope=col>&lt;lgl&gt;</th><th scope=col>&lt;dbl&gt;</th><th scope=col>&lt;dbl&gt;</th></tr>\n",
       "</thead>\n",
       "<tbody>\n",
       "\t<tr><td>FALSE</td><td>0.9285714</td><td>0.07142857</td></tr>\n",
       "\t<tr><td> TRUE</td><td>0.8479263</td><td>0.15207373</td></tr>\n",
       "</tbody>\n",
       "</table>\n"
      ],
      "text/latex": [
       "A tabyl: 2 × 3\n",
       "\\begin{tabular}{lll}\n",
       " no\\_future & FALSE & TRUE\\\\\n",
       " <lgl> & <dbl> & <dbl>\\\\\n",
       "\\hline\n",
       "\t FALSE & 0.9285714 & 0.07142857\\\\\n",
       "\t  TRUE & 0.8479263 & 0.15207373\\\\\n",
       "\\end{tabular}\n"
      ],
      "text/markdown": [
       "\n",
       "A tabyl: 2 × 3\n",
       "\n",
       "| no_future &lt;lgl&gt; | FALSE &lt;dbl&gt; | TRUE &lt;dbl&gt; |\n",
       "|---|---|---|\n",
       "| FALSE | 0.9285714 | 0.07142857 |\n",
       "|  TRUE | 0.8479263 | 0.15207373 |\n",
       "\n"
      ],
      "text/plain": [
       "  no_future FALSE     TRUE      \n",
       "1 FALSE     0.9285714 0.07142857\n",
       "2  TRUE     0.8479263 0.15207373"
      ]
     },
     "metadata": {},
     "output_type": "display_data"
    }
   ],
   "source": [
    "satisfaction %>%\n",
    "  mutate(no_future = !rcd_opportunities %in% c(\"Strongly agree\", \"Somewhat agree\") | \n",
    "           !rcd_future %in% c(\"Strongly agree\", \"Somewhat agree\"),\n",
    "         applied_6months = any_last_applied %in% c(\"Within the last month\",\"1-6 months ago\")) %>%\n",
    "  tabyl(no_future, applied_6months) %>%\n",
    "  adorn_percentages()"
   ]
  },
  {
   "cell_type": "markdown",
   "id": "c4105e24-1570-403e-a7b4-ce023f3ebc07",
   "metadata": {},
   "source": [
    "### Included"
   ]
  },
  {
   "cell_type": "code",
   "execution_count": 72,
   "id": "f64d2888-93c9-4717-a1e2-2ed670a2357d",
   "metadata": {},
   "outputs": [
    {
     "data": {
      "text/html": [
       "<table class=\"dataframe\">\n",
       "<caption>A spec_tbl_df: 27 × 9</caption>\n",
       "<thead>\n",
       "\t<tr><th scope=col>variable</th><th scope=col>category</th><th scope=col>group_count</th><th scope=col>Agree (Somewhat OR Strongly)</th><th scope=col>Strongly agree</th><th scope=col>Somewhat agree</th><th scope=col>Neither agree nor disagree</th><th scope=col>Somewhat disagree</th><th scope=col>Strongly disagree</th></tr>\n",
       "\t<tr><th scope=col>&lt;chr&gt;</th><th scope=col>&lt;chr&gt;</th><th scope=col>&lt;dbl&gt;</th><th scope=col>&lt;chr&gt;</th><th scope=col>&lt;chr&gt;</th><th scope=col>&lt;chr&gt;</th><th scope=col>&lt;chr&gt;</th><th scope=col>&lt;chr&gt;</th><th scope=col>&lt;chr&gt;</th></tr>\n",
       "</thead>\n",
       "<tbody>\n",
       "\t<tr><td>disability       </td><td>FALSE                                </td><td>499</td><td>80% </td><td>46%</td><td>34%</td><td>12%</td><td>5%</td><td>1%</td></tr>\n",
       "\t<tr><td>disability       </td><td>TRUE                                 </td><td> 39</td><td>71% </td><td>38%</td><td>33%</td><td>15%</td><td>3%</td><td>8%</td></tr>\n",
       "\t<tr><td>education_related</td><td>Extremely related                    </td><td>118</td><td>82% </td><td>52%</td><td>30%</td><td>13%</td><td>2%</td><td>1%</td></tr>\n",
       "\t<tr><td>education_related</td><td>Moderately related                   </td><td>163</td><td>79% </td><td>41%</td><td>38%</td><td>12%</td><td>5%</td><td>2%</td></tr>\n",
       "\t<tr><td>education_related</td><td>Not at all related                   </td><td> 33</td><td>78% </td><td>48%</td><td>30%</td><td>9% </td><td>9%</td><td>3%</td></tr>\n",
       "\t<tr><td>education_related</td><td>Slightly related                     </td><td> 83</td><td>81% </td><td>51%</td><td>30%</td><td>11%</td><td>5%</td><td>4%</td></tr>\n",
       "\t<tr><td>education_related</td><td>Very related                         </td><td>142</td><td>80% </td><td>43%</td><td>37%</td><td>12%</td><td>7%</td><td>1%</td></tr>\n",
       "\t<tr><td>heterosexual     </td><td>FALSE                                </td><td> 62</td><td>77% </td><td>42%</td><td>35%</td><td>15%</td><td>5%</td><td>3%</td></tr>\n",
       "\t<tr><td>heterosexual     </td><td>TRUE                                 </td><td>421</td><td>83% </td><td>48%</td><td>35%</td><td>10%</td><td>5%</td><td>1%</td></tr>\n",
       "\t<tr><td>hispanic         </td><td>FALSE                                </td><td>496</td><td>82% </td><td>48%</td><td>34%</td><td>11%</td><td>5%</td><td>2%</td></tr>\n",
       "\t<tr><td>hispanic         </td><td>TRUE                                 </td><td> 13</td><td>61% </td><td>15%</td><td>46%</td><td>31%</td><td>8%</td><td>0%</td></tr>\n",
       "\t<tr><td>male             </td><td>FALSE                                </td><td>155</td><td>73% </td><td>30%</td><td>43%</td><td>15%</td><td>7%</td><td>2%</td></tr>\n",
       "\t<tr><td>male             </td><td>TRUE                                 </td><td>384</td><td>83% </td><td>52%</td><td>31%</td><td>10%</td><td>4%</td><td>2%</td></tr>\n",
       "\t<tr><td>overall          </td><td>NA                                   </td><td>539</td><td>80% </td><td>46%</td><td>34%</td><td>12%</td><td>5%</td><td>2%</td></tr>\n",
       "\t<tr><td>position_category</td><td>Director                             </td><td> 75</td><td>81% </td><td>53%</td><td>28%</td><td>13%</td><td>3%</td><td>1%</td></tr>\n",
       "\t<tr><td>position_category</td><td>Faculty                              </td><td> 39</td><td>77% </td><td>54%</td><td>23%</td><td>13%</td><td>8%</td><td>3%</td></tr>\n",
       "\t<tr><td>position_category</td><td>Individual contributor               </td><td>133</td><td>82% </td><td>44%</td><td>38%</td><td>13%</td><td>4%</td><td>1%</td></tr>\n",
       "\t<tr><td>position_category</td><td>Lead/principal individual contributor</td><td> 74</td><td>83% </td><td>42%</td><td>41%</td><td>12%</td><td>3%</td><td>1%</td></tr>\n",
       "\t<tr><td>position_category</td><td>Manager                              </td><td> 69</td><td>82% </td><td>54%</td><td>28%</td><td>12%</td><td>6%</td><td>1%</td></tr>\n",
       "\t<tr><td>position_category</td><td>Other/Unknown                        </td><td> 13</td><td>46% </td><td>15%</td><td>31%</td><td>23%</td><td>8%</td><td>0%</td></tr>\n",
       "\t<tr><td>position_category</td><td>Senior individual contributor        </td><td>118</td><td>77% </td><td>41%</td><td>36%</td><td>9% </td><td>8%</td><td>4%</td></tr>\n",
       "\t<tr><td>position_category</td><td>Student position / internship        </td><td>  9</td><td>88% </td><td>44%</td><td>44%</td><td>11%</td><td>0%</td><td>0%</td></tr>\n",
       "\t<tr><td>position_category</td><td>AVP, VP, CIO, or other senior leader </td><td>  9</td><td>100%</td><td>56%</td><td>44%</td><td>0% </td><td>0%</td><td>0%</td></tr>\n",
       "\t<tr><td>us_perm          </td><td>FALSE                                </td><td> 24</td><td>79% </td><td>46%</td><td>33%</td><td>8% </td><td>4%</td><td>4%</td></tr>\n",
       "\t<tr><td>us_perm          </td><td>TRUE                                 </td><td>501</td><td>81% </td><td>47%</td><td>34%</td><td>12%</td><td>5%</td><td>2%</td></tr>\n",
       "\t<tr><td>white            </td><td>FALSE                                </td><td>104</td><td>71% </td><td>35%</td><td>36%</td><td>17%</td><td>7%</td><td>3%</td></tr>\n",
       "\t<tr><td>white            </td><td>TRUE                                 </td><td>433</td><td>83% </td><td>49%</td><td>34%</td><td>10%</td><td>5%</td><td>2%</td></tr>\n",
       "</tbody>\n",
       "</table>\n"
      ],
      "text/latex": [
       "A spec\\_tbl\\_df: 27 × 9\n",
       "\\begin{tabular}{lllllllll}\n",
       " variable & category & group\\_count & Agree (Somewhat OR Strongly) & Strongly agree & Somewhat agree & Neither agree nor disagree & Somewhat disagree & Strongly disagree\\\\\n",
       " <chr> & <chr> & <dbl> & <chr> & <chr> & <chr> & <chr> & <chr> & <chr>\\\\\n",
       "\\hline\n",
       "\t disability        & FALSE                                 & 499 & 80\\%  & 46\\% & 34\\% & 12\\% & 5\\% & 1\\%\\\\\n",
       "\t disability        & TRUE                                  &  39 & 71\\%  & 38\\% & 33\\% & 15\\% & 3\\% & 8\\%\\\\\n",
       "\t education\\_related & Extremely related                     & 118 & 82\\%  & 52\\% & 30\\% & 13\\% & 2\\% & 1\\%\\\\\n",
       "\t education\\_related & Moderately related                    & 163 & 79\\%  & 41\\% & 38\\% & 12\\% & 5\\% & 2\\%\\\\\n",
       "\t education\\_related & Not at all related                    &  33 & 78\\%  & 48\\% & 30\\% & 9\\%  & 9\\% & 3\\%\\\\\n",
       "\t education\\_related & Slightly related                      &  83 & 81\\%  & 51\\% & 30\\% & 11\\% & 5\\% & 4\\%\\\\\n",
       "\t education\\_related & Very related                          & 142 & 80\\%  & 43\\% & 37\\% & 12\\% & 7\\% & 1\\%\\\\\n",
       "\t heterosexual      & FALSE                                 &  62 & 77\\%  & 42\\% & 35\\% & 15\\% & 5\\% & 3\\%\\\\\n",
       "\t heterosexual      & TRUE                                  & 421 & 83\\%  & 48\\% & 35\\% & 10\\% & 5\\% & 1\\%\\\\\n",
       "\t hispanic          & FALSE                                 & 496 & 82\\%  & 48\\% & 34\\% & 11\\% & 5\\% & 2\\%\\\\\n",
       "\t hispanic          & TRUE                                  &  13 & 61\\%  & 15\\% & 46\\% & 31\\% & 8\\% & 0\\%\\\\\n",
       "\t male              & FALSE                                 & 155 & 73\\%  & 30\\% & 43\\% & 15\\% & 7\\% & 2\\%\\\\\n",
       "\t male              & TRUE                                  & 384 & 83\\%  & 52\\% & 31\\% & 10\\% & 4\\% & 2\\%\\\\\n",
       "\t overall           & NA                                    & 539 & 80\\%  & 46\\% & 34\\% & 12\\% & 5\\% & 2\\%\\\\\n",
       "\t position\\_category & Director                              &  75 & 81\\%  & 53\\% & 28\\% & 13\\% & 3\\% & 1\\%\\\\\n",
       "\t position\\_category & Faculty                               &  39 & 77\\%  & 54\\% & 23\\% & 13\\% & 8\\% & 3\\%\\\\\n",
       "\t position\\_category & Individual contributor                & 133 & 82\\%  & 44\\% & 38\\% & 13\\% & 4\\% & 1\\%\\\\\n",
       "\t position\\_category & Lead/principal individual contributor &  74 & 83\\%  & 42\\% & 41\\% & 12\\% & 3\\% & 1\\%\\\\\n",
       "\t position\\_category & Manager                               &  69 & 82\\%  & 54\\% & 28\\% & 12\\% & 6\\% & 1\\%\\\\\n",
       "\t position\\_category & Other/Unknown                         &  13 & 46\\%  & 15\\% & 31\\% & 23\\% & 8\\% & 0\\%\\\\\n",
       "\t position\\_category & Senior individual contributor         & 118 & 77\\%  & 41\\% & 36\\% & 9\\%  & 8\\% & 4\\%\\\\\n",
       "\t position\\_category & Student position / internship         &   9 & 88\\%  & 44\\% & 44\\% & 11\\% & 0\\% & 0\\%\\\\\n",
       "\t position\\_category & AVP, VP, CIO, or other senior leader  &   9 & 100\\% & 56\\% & 44\\% & 0\\%  & 0\\% & 0\\%\\\\\n",
       "\t us\\_perm           & FALSE                                 &  24 & 79\\%  & 46\\% & 33\\% & 8\\%  & 4\\% & 4\\%\\\\\n",
       "\t us\\_perm           & TRUE                                  & 501 & 81\\%  & 47\\% & 34\\% & 12\\% & 5\\% & 2\\%\\\\\n",
       "\t white             & FALSE                                 & 104 & 71\\%  & 35\\% & 36\\% & 17\\% & 7\\% & 3\\%\\\\\n",
       "\t white             & TRUE                                  & 433 & 83\\%  & 49\\% & 34\\% & 10\\% & 5\\% & 2\\%\\\\\n",
       "\\end{tabular}\n"
      ],
      "text/markdown": [
       "\n",
       "A spec_tbl_df: 27 × 9\n",
       "\n",
       "| variable &lt;chr&gt; | category &lt;chr&gt; | group_count &lt;dbl&gt; | Agree (Somewhat OR Strongly) &lt;chr&gt; | Strongly agree &lt;chr&gt; | Somewhat agree &lt;chr&gt; | Neither agree nor disagree &lt;chr&gt; | Somewhat disagree &lt;chr&gt; | Strongly disagree &lt;chr&gt; |\n",
       "|---|---|---|---|---|---|---|---|---|\n",
       "| disability        | FALSE                                 | 499 | 80%  | 46% | 34% | 12% | 5% | 1% |\n",
       "| disability        | TRUE                                  |  39 | 71%  | 38% | 33% | 15% | 3% | 8% |\n",
       "| education_related | Extremely related                     | 118 | 82%  | 52% | 30% | 13% | 2% | 1% |\n",
       "| education_related | Moderately related                    | 163 | 79%  | 41% | 38% | 12% | 5% | 2% |\n",
       "| education_related | Not at all related                    |  33 | 78%  | 48% | 30% | 9%  | 9% | 3% |\n",
       "| education_related | Slightly related                      |  83 | 81%  | 51% | 30% | 11% | 5% | 4% |\n",
       "| education_related | Very related                          | 142 | 80%  | 43% | 37% | 12% | 7% | 1% |\n",
       "| heterosexual      | FALSE                                 |  62 | 77%  | 42% | 35% | 15% | 5% | 3% |\n",
       "| heterosexual      | TRUE                                  | 421 | 83%  | 48% | 35% | 10% | 5% | 1% |\n",
       "| hispanic          | FALSE                                 | 496 | 82%  | 48% | 34% | 11% | 5% | 2% |\n",
       "| hispanic          | TRUE                                  |  13 | 61%  | 15% | 46% | 31% | 8% | 0% |\n",
       "| male              | FALSE                                 | 155 | 73%  | 30% | 43% | 15% | 7% | 2% |\n",
       "| male              | TRUE                                  | 384 | 83%  | 52% | 31% | 10% | 4% | 2% |\n",
       "| overall           | NA                                    | 539 | 80%  | 46% | 34% | 12% | 5% | 2% |\n",
       "| position_category | Director                              |  75 | 81%  | 53% | 28% | 13% | 3% | 1% |\n",
       "| position_category | Faculty                               |  39 | 77%  | 54% | 23% | 13% | 8% | 3% |\n",
       "| position_category | Individual contributor                | 133 | 82%  | 44% | 38% | 13% | 4% | 1% |\n",
       "| position_category | Lead/principal individual contributor |  74 | 83%  | 42% | 41% | 12% | 3% | 1% |\n",
       "| position_category | Manager                               |  69 | 82%  | 54% | 28% | 12% | 6% | 1% |\n",
       "| position_category | Other/Unknown                         |  13 | 46%  | 15% | 31% | 23% | 8% | 0% |\n",
       "| position_category | Senior individual contributor         | 118 | 77%  | 41% | 36% | 9%  | 8% | 4% |\n",
       "| position_category | Student position / internship         |   9 | 88%  | 44% | 44% | 11% | 0% | 0% |\n",
       "| position_category | AVP, VP, CIO, or other senior leader  |   9 | 100% | 56% | 44% | 0%  | 0% | 0% |\n",
       "| us_perm           | FALSE                                 |  24 | 79%  | 46% | 33% | 8%  | 4% | 4% |\n",
       "| us_perm           | TRUE                                  | 501 | 81%  | 47% | 34% | 12% | 5% | 2% |\n",
       "| white             | FALSE                                 | 104 | 71%  | 35% | 36% | 17% | 7% | 3% |\n",
       "| white             | TRUE                                  | 433 | 83%  | 49% | 34% | 10% | 5% | 2% |\n",
       "\n"
      ],
      "text/plain": [
       "   variable          category                              group_count\n",
       "1  disability        FALSE                                 499        \n",
       "2  disability        TRUE                                   39        \n",
       "3  education_related Extremely related                     118        \n",
       "4  education_related Moderately related                    163        \n",
       "5  education_related Not at all related                     33        \n",
       "6  education_related Slightly related                       83        \n",
       "7  education_related Very related                          142        \n",
       "8  heterosexual      FALSE                                  62        \n",
       "9  heterosexual      TRUE                                  421        \n",
       "10 hispanic          FALSE                                 496        \n",
       "11 hispanic          TRUE                                   13        \n",
       "12 male              FALSE                                 155        \n",
       "13 male              TRUE                                  384        \n",
       "14 overall           NA                                    539        \n",
       "15 position_category Director                               75        \n",
       "16 position_category Faculty                                39        \n",
       "17 position_category Individual contributor                133        \n",
       "18 position_category Lead/principal individual contributor  74        \n",
       "19 position_category Manager                                69        \n",
       "20 position_category Other/Unknown                          13        \n",
       "21 position_category Senior individual contributor         118        \n",
       "22 position_category Student position / internship           9        \n",
       "23 position_category AVP, VP, CIO, or other senior leader    9        \n",
       "24 us_perm           FALSE                                  24        \n",
       "25 us_perm           TRUE                                  501        \n",
       "26 white             FALSE                                 104        \n",
       "27 white             TRUE                                  433        \n",
       "   Agree (Somewhat OR Strongly) Strongly agree Somewhat agree\n",
       "1  80%                          46%            34%           \n",
       "2  71%                          38%            33%           \n",
       "3  82%                          52%            30%           \n",
       "4  79%                          41%            38%           \n",
       "5  78%                          48%            30%           \n",
       "6  81%                          51%            30%           \n",
       "7  80%                          43%            37%           \n",
       "8  77%                          42%            35%           \n",
       "9  83%                          48%            35%           \n",
       "10 82%                          48%            34%           \n",
       "11 61%                          15%            46%           \n",
       "12 73%                          30%            43%           \n",
       "13 83%                          52%            31%           \n",
       "14 80%                          46%            34%           \n",
       "15 81%                          53%            28%           \n",
       "16 77%                          54%            23%           \n",
       "17 82%                          44%            38%           \n",
       "18 83%                          42%            41%           \n",
       "19 82%                          54%            28%           \n",
       "20 46%                          15%            31%           \n",
       "21 77%                          41%            36%           \n",
       "22 88%                          44%            44%           \n",
       "23 100%                         56%            44%           \n",
       "24 79%                          46%            33%           \n",
       "25 81%                          47%            34%           \n",
       "26 71%                          35%            36%           \n",
       "27 83%                          49%            34%           \n",
       "   Neither agree nor disagree Somewhat disagree Strongly disagree\n",
       "1  12%                        5%                1%               \n",
       "2  15%                        3%                8%               \n",
       "3  13%                        2%                1%               \n",
       "4  12%                        5%                2%               \n",
       "5  9%                         9%                3%               \n",
       "6  11%                        5%                4%               \n",
       "7  12%                        7%                1%               \n",
       "8  15%                        5%                3%               \n",
       "9  10%                        5%                1%               \n",
       "10 11%                        5%                2%               \n",
       "11 31%                        8%                0%               \n",
       "12 15%                        7%                2%               \n",
       "13 10%                        4%                2%               \n",
       "14 12%                        5%                2%               \n",
       "15 13%                        3%                1%               \n",
       "16 13%                        8%                3%               \n",
       "17 13%                        4%                1%               \n",
       "18 12%                        3%                1%               \n",
       "19 12%                        6%                1%               \n",
       "20 23%                        8%                0%               \n",
       "21 9%                         8%                4%               \n",
       "22 11%                        0%                0%               \n",
       "23 0%                         0%                0%               \n",
       "24 8%                         4%                4%               \n",
       "25 12%                        5%                2%               \n",
       "26 17%                        7%                3%               \n",
       "27 10%                        5%                2%               "
      ]
     },
     "metadata": {},
     "output_type": "display_data"
    }
   ],
   "source": [
    "inclusion"
   ]
  }
 ],
 "metadata": {
  "kernelspec": {
   "display_name": "R",
   "language": "R",
   "name": "ir"
  },
  "language_info": {
   "codemirror_mode": "r",
   "file_extension": ".r",
   "mimetype": "text/x-r-source",
   "name": "R",
   "pygments_lexer": "r",
   "version": "4.2.0"
  }
 },
 "nbformat": 4,
 "nbformat_minor": 5
}
