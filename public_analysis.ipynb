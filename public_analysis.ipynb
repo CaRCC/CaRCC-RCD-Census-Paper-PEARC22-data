{
 "cells": [
  {
   "cell_type": "markdown",
   "id": "ba4ee089-8fe9-40d8-83c1-7645d0904213",
   "metadata": {
    "tags": []
   },
   "source": [
    "# Analysis\n",
    "\n",
    "This file contains the public data analysis for \"Characterizing the US Research Computing and Data (RCD) Workforce.\""
   ]
  },
  {
   "cell_type": "code",
   "execution_count": 1,
   "id": "4c1c6335-c919-485d-950a-2da4fb5b228c",
   "metadata": {},
   "outputs": [
    {
     "name": "stderr",
     "output_type": "stream",
     "text": [
      "── \u001b[1mAttaching packages\u001b[22m ────────────────────────────────────────────────────────────────────────── tidyverse 1.3.1 ──\n",
      "\n",
      "\u001b[32m✔\u001b[39m \u001b[34mggplot2\u001b[39m 3.3.6     \u001b[32m✔\u001b[39m \u001b[34mpurrr  \u001b[39m 0.3.4\n",
      "\u001b[32m✔\u001b[39m \u001b[34mtibble \u001b[39m 3.1.7     \u001b[32m✔\u001b[39m \u001b[34mdplyr  \u001b[39m 1.0.9\n",
      "\u001b[32m✔\u001b[39m \u001b[34mtidyr  \u001b[39m 1.2.0     \u001b[32m✔\u001b[39m \u001b[34mstringr\u001b[39m 1.4.0\n",
      "\u001b[32m✔\u001b[39m \u001b[34mreadr  \u001b[39m 2.1.2     \u001b[32m✔\u001b[39m \u001b[34mforcats\u001b[39m 0.5.1\n",
      "\n",
      "── \u001b[1mConflicts\u001b[22m ───────────────────────────────────────────────────────────────────────────── tidyverse_conflicts() ──\n",
      "\u001b[31m✖\u001b[39m \u001b[34mdplyr\u001b[39m::\u001b[32mfilter()\u001b[39m masks \u001b[34mstats\u001b[39m::filter()\n",
      "\u001b[31m✖\u001b[39m \u001b[34mdplyr\u001b[39m::\u001b[32mlag()\u001b[39m    masks \u001b[34mstats\u001b[39m::lag()\n",
      "\n",
      "\n",
      "Attaching package: ‘janitor’\n",
      "\n",
      "\n",
      "The following objects are masked from ‘package:stats’:\n",
      "\n",
      "    chisq.test, fisher.test\n",
      "\n",
      "\n"
     ]
    }
   ],
   "source": [
    "library(tidyverse)\n",
    "library(janitor)"
   ]
  },
  {
   "cell_type": "markdown",
   "id": "e060548e-ba4c-49d1-9b3b-c273669987fe",
   "metadata": {},
   "source": [
    "## Data"
   ]
  },
  {
   "cell_type": "code",
   "execution_count": 2,
   "id": "3ad79dc4-11d1-4ba8-a0f0-c84495568605",
   "metadata": {},
   "outputs": [
    {
     "name": "stderr",
     "output_type": "stream",
     "text": [
      "\u001b[1mRows: \u001b[22m\u001b[34m150\u001b[39m \u001b[1mColumns: \u001b[22m\u001b[34m4\u001b[39m\n",
      "\u001b[36m──\u001b[39m \u001b[1mColumn specification\u001b[22m \u001b[36m───────────────────────────────────────────────────────────────────────────────────────────\u001b[39m\n",
      "\u001b[1mDelimiter:\u001b[22m \",\"\n",
      "\u001b[31mchr\u001b[39m (2): variable, category\n",
      "\u001b[32mdbl\u001b[39m (2): n, prop\n",
      "\n",
      "\u001b[36mℹ\u001b[39m Use `spec()` to retrieve the full column specification for this data.\n",
      "\u001b[36mℹ\u001b[39m Specify the column types or set `show_col_types = FALSE` to quiet this message.\n",
      "\u001b[1mRows: \u001b[22m\u001b[34m563\u001b[39m \u001b[1mColumns: \u001b[22m\u001b[34m6\u001b[39m\n",
      "\u001b[36m──\u001b[39m \u001b[1mColumn specification\u001b[22m \u001b[36m───────────────────────────────────────────────────────────────────────────────────────────\u001b[39m\n",
      "\u001b[1mDelimiter:\u001b[22m \",\"\n",
      "\u001b[31mchr\u001b[39m (5): employer_type, institution_type, institution_code, institution_comb...\n",
      "\u001b[33mlgl\u001b[39m (1): academic_institution\n",
      "\n",
      "\u001b[36mℹ\u001b[39m Use `spec()` to retrieve the full column specification for this data.\n",
      "\u001b[36mℹ\u001b[39m Specify the column types or set `show_col_types = FALSE` to quiet this message.\n",
      "\u001b[1mRows: \u001b[22m\u001b[34m563\u001b[39m \u001b[1mColumns: \u001b[22m\u001b[34m20\u001b[39m\n",
      "\u001b[36m──\u001b[39m \u001b[1mColumn specification\u001b[22m \u001b[36m───────────────────────────────────────────────────────────────────────────────────────────\u001b[39m\n",
      "\u001b[1mDelimiter:\u001b[22m \",\"\n",
      "\u001b[31mchr\u001b[39m  (2): education, education_related\n",
      "\u001b[32mdbl\u001b[39m  (3): experience_rcd, experience_work, education_field_count\n",
      "\u001b[33mlgl\u001b[39m (15): experience_rcd_only, experience_corporate, academic_institution, e...\n",
      "\n",
      "\u001b[36mℹ\u001b[39m Use `spec()` to retrieve the full column specification for this data.\n",
      "\u001b[36mℹ\u001b[39m Specify the column types or set `show_col_types = FALSE` to quiet this message.\n",
      "\u001b[1mRows: \u001b[22m\u001b[34m539\u001b[39m \u001b[1mColumns: \u001b[22m\u001b[34m22\u001b[39m\n",
      "\u001b[36m──\u001b[39m \u001b[1mColumn specification\u001b[22m \u001b[36m───────────────────────────────────────────────────────────────────────────────────────────\u001b[39m\n",
      "\u001b[1mDelimiter:\u001b[22m \",\"\n",
      "\u001b[31mchr\u001b[39m (9): institution_combo_group, position_type, position_category, position...\n",
      "\u001b[32mdbl\u001b[39m (5): position_group_tenure, position_tenure, position_percent_rcd, exper...\n",
      "\u001b[33mlgl\u001b[39m (8): academic_institution, position_group_rc, promoted, supervise_staff,...\n",
      "\n",
      "\u001b[36mℹ\u001b[39m Use `spec()` to retrieve the full column specification for this data.\n",
      "\u001b[36mℹ\u001b[39m Specify the column types or set `show_col_types = FALSE` to quiet this message.\n",
      "\u001b[1mRows: \u001b[22m\u001b[34m59\u001b[39m \u001b[1mColumns: \u001b[22m\u001b[34m4\u001b[39m\n",
      "\u001b[36m──\u001b[39m \u001b[1mColumn specification\u001b[22m \u001b[36m───────────────────────────────────────────────────────────────────────────────────────────\u001b[39m\n",
      "\u001b[1mDelimiter:\u001b[22m \",\"\n",
      "\u001b[31mchr\u001b[39m (3): gender, variable, category\n",
      "\u001b[32mdbl\u001b[39m (1): n\n",
      "\n",
      "\u001b[36mℹ\u001b[39m Use `spec()` to retrieve the full column specification for this data.\n",
      "\u001b[36mℹ\u001b[39m Specify the column types or set `show_col_types = FALSE` to quiet this message.\n",
      "\u001b[1mRows: \u001b[22m\u001b[34m33\u001b[39m \u001b[1mColumns: \u001b[22m\u001b[34m4\u001b[39m\n",
      "\u001b[36m──\u001b[39m \u001b[1mColumn specification\u001b[22m \u001b[36m───────────────────────────────────────────────────────────────────────────────────────────\u001b[39m\n",
      "\u001b[1mDelimiter:\u001b[22m \",\"\n",
      "\u001b[31mchr\u001b[39m (3): group, variable, category\n",
      "\u001b[32mdbl\u001b[39m (1): n\n",
      "\n",
      "\u001b[36mℹ\u001b[39m Use `spec()` to retrieve the full column specification for this data.\n",
      "\u001b[36mℹ\u001b[39m Specify the column types or set `show_col_types = FALSE` to quiet this message.\n",
      "\u001b[1mRows: \u001b[22m\u001b[34m539\u001b[39m \u001b[1mColumns: \u001b[22m\u001b[34m28\u001b[39m\n",
      "\u001b[36m──\u001b[39m \u001b[1mColumn specification\u001b[22m \u001b[36m───────────────────────────────────────────────────────────────────────────────────────────\u001b[39m\n",
      "\u001b[1mDelimiter:\u001b[22m \",\"\n",
      "\u001b[33mlgl\u001b[39m (28): job_title_official, job_title_alternate, job_sysadmin, job_enginee...\n",
      "\n",
      "\u001b[36mℹ\u001b[39m Use `spec()` to retrieve the full column specification for this data.\n",
      "\u001b[36mℹ\u001b[39m Specify the column types or set `show_col_types = FALSE` to quiet this message.\n",
      "\u001b[1mRows: \u001b[22m\u001b[34m539\u001b[39m \u001b[1mColumns: \u001b[22m\u001b[34m13\u001b[39m\n",
      "\u001b[36m──\u001b[39m \u001b[1mColumn specification\u001b[22m \u001b[36m───────────────────────────────────────────────────────────────────────────────────────────\u001b[39m\n",
      "\u001b[1mDelimiter:\u001b[22m \",\"\n",
      "\u001b[31mchr\u001b[39m (1): facings_familiar\n",
      "\u001b[32mdbl\u001b[39m (7): facings_number, facings_researcher, facings_data, facings_software,...\n",
      "\u001b[33mlgl\u001b[39m (5): facings_researcher_majority, facings_data_majority, facings_softwar...\n",
      "\n",
      "\u001b[36mℹ\u001b[39m Use `spec()` to retrieve the full column specification for this data.\n",
      "\u001b[36mℹ\u001b[39m Specify the column types or set `show_col_types = FALSE` to quiet this message.\n",
      "\u001b[1mRows: \u001b[22m\u001b[34m539\u001b[39m \u001b[1mColumns: \u001b[22m\u001b[34m11\u001b[39m\n",
      "\u001b[36m──\u001b[39m \u001b[1mColumn specification\u001b[22m \u001b[36m───────────────────────────────────────────────────────────────────────────────────────────\u001b[39m\n",
      "\u001b[1mDelimiter:\u001b[22m \",\"\n",
      "\u001b[31mchr\u001b[39m (9): satisfaction_position, rcd_satisfaction, rcd_opportunities, rcd_fut...\n",
      "\u001b[32mdbl\u001b[39m (1): rcd_recommend\n",
      "\u001b[33mlgl\u001b[39m (1): promoted\n",
      "\n",
      "\u001b[36mℹ\u001b[39m Use `spec()` to retrieve the full column specification for this data.\n",
      "\u001b[36mℹ\u001b[39m Specify the column types or set `show_col_types = FALSE` to quiet this message.\n",
      "\u001b[1mRows: \u001b[22m\u001b[34m27\u001b[39m \u001b[1mColumns: \u001b[22m\u001b[34m9\u001b[39m\n",
      "\u001b[36m──\u001b[39m \u001b[1mColumn specification\u001b[22m \u001b[36m───────────────────────────────────────────────────────────────────────────────────────────\u001b[39m\n",
      "\u001b[1mDelimiter:\u001b[22m \",\"\n",
      "\u001b[31mchr\u001b[39m (8): variable, category, Agree (Somewhat OR Strongly), Strongly agree, S...\n",
      "\u001b[32mdbl\u001b[39m (1): group_count\n",
      "\n",
      "\u001b[36mℹ\u001b[39m Use `spec()` to retrieve the full column specification for this data.\n",
      "\u001b[36mℹ\u001b[39m Specify the column types or set `show_col_types = FALSE` to quiet this message.\n"
     ]
    }
   ],
   "source": [
    "all_freq <- read_csv(\"data_to_share/var_frequencies_all_respondents.csv\")\n",
    "institutions <- read_csv(\"data_to_share/institutions_all.csv\")\n",
    "all_edu_work <- read_csv(\"data_to_share/education_work_all_respondents.csv\")\n",
    "rcd_edu_work <- read_csv(\"data_to_share/education_work_rcd_respondents.csv\")\n",
    "gender <- read_csv(\"data_to_share/gender_counts.csv\")\n",
    "ethnicity <- read_csv(\"data_to_share/ethnicity_counts.csv\")\n",
    "jobs <- read_csv(\"data_to_share/job_titles.csv\")\n",
    "facings <- read_csv(\"data_to_share/facings.csv\")\n",
    "satisfaction <- read_csv(\"data_to_share/satisfaction_rcd_respondents.csv\")\n",
    "inclusion <- read_csv(\"data_to_share/inclusion.csv\")"
   ]
  },
  {
   "cell_type": "markdown",
   "id": "1b9176a8-a9ae-4399-b70a-57a95080b492",
   "metadata": {},
   "source": [
    "## 3: SURVEYING THE WORKFORCE\n",
    "\n",
    "Institution Counts"
   ]
  },
  {
   "cell_type": "code",
   "execution_count": 6,
   "id": "d564dcd2-e42b-4a18-bd78-4948588cc48d",
   "metadata": {},
   "outputs": [
    {
     "data": {
      "text/html": [
       "175"
      ],
      "text/latex": [
       "175"
      ],
      "text/markdown": [
       "175"
      ],
      "text/plain": [
       "[1] 175"
      ]
     },
     "metadata": {},
     "output_type": "display_data"
    }
   ],
   "source": [
    "length(unique(institutions$institution_code))"
   ]
  },
  {
   "cell_type": "code",
   "execution_count": 7,
   "id": "2162290f-36d8-4d3c-8aa4-91b75d35222e",
   "metadata": {},
   "outputs": [
    {
     "data": {
      "text/html": [
       "<table class=\"dataframe\">\n",
       "<caption>A tabyl: 9 × 4</caption>\n",
       "<thead>\n",
       "\t<tr><th></th><th scope=col>institution_type</th><th scope=col>n</th><th scope=col>percent</th><th scope=col>valid_percent</th></tr>\n",
       "\t<tr><th></th><th scope=col>&lt;chr&gt;</th><th scope=col>&lt;int&gt;</th><th scope=col>&lt;dbl&gt;</th><th scope=col>&lt;dbl&gt;</th></tr>\n",
       "</thead>\n",
       "<tbody>\n",
       "\t<tr><th scope=row>1</th><td>Academic Computing Center</td><td> 5</td><td>0.028571429</td><td>0.02873563</td></tr>\n",
       "\t<tr><th scope=row>2</th><td>Company                  </td><td> 8</td><td>0.045714286</td><td>0.04597701</td></tr>\n",
       "\t<tr><th scope=row>3</th><td>Government               </td><td> 5</td><td>0.028571429</td><td>0.02873563</td></tr>\n",
       "\t<tr><th scope=row>4</th><td>Medical                  </td><td>10</td><td>0.057142857</td><td>0.05747126</td></tr>\n",
       "\t<tr><th scope=row>5</th><td>Other                    </td><td> 7</td><td>0.040000000</td><td>0.04022989</td></tr>\n",
       "\t<tr><th scope=row>6</th><td>Other Academic           </td><td>18</td><td>0.102857143</td><td>0.10344828</td></tr>\n",
       "\t<tr><th scope=row>7</th><td>R1                       </td><td>91</td><td>0.520000000</td><td>0.52298851</td></tr>\n",
       "\t<tr><th scope=row>8</th><td>R2                       </td><td>30</td><td>0.171428571</td><td>0.17241379</td></tr>\n",
       "\t<tr><th scope=row>9</th><td>NA                       </td><td> 1</td><td>0.005714286</td><td>        NA</td></tr>\n",
       "</tbody>\n",
       "</table>\n"
      ],
      "text/latex": [
       "A tabyl: 9 × 4\n",
       "\\begin{tabular}{r|llll}\n",
       "  & institution\\_type & n & percent & valid\\_percent\\\\\n",
       "  & <chr> & <int> & <dbl> & <dbl>\\\\\n",
       "\\hline\n",
       "\t1 & Academic Computing Center &  5 & 0.028571429 & 0.02873563\\\\\n",
       "\t2 & Company                   &  8 & 0.045714286 & 0.04597701\\\\\n",
       "\t3 & Government                &  5 & 0.028571429 & 0.02873563\\\\\n",
       "\t4 & Medical                   & 10 & 0.057142857 & 0.05747126\\\\\n",
       "\t5 & Other                     &  7 & 0.040000000 & 0.04022989\\\\\n",
       "\t6 & Other Academic            & 18 & 0.102857143 & 0.10344828\\\\\n",
       "\t7 & R1                        & 91 & 0.520000000 & 0.52298851\\\\\n",
       "\t8 & R2                        & 30 & 0.171428571 & 0.17241379\\\\\n",
       "\t9 & NA                        &  1 & 0.005714286 &         NA\\\\\n",
       "\\end{tabular}\n"
      ],
      "text/markdown": [
       "\n",
       "A tabyl: 9 × 4\n",
       "\n",
       "| <!--/--> | institution_type &lt;chr&gt; | n &lt;int&gt; | percent &lt;dbl&gt; | valid_percent &lt;dbl&gt; |\n",
       "|---|---|---|---|---|\n",
       "| 1 | Academic Computing Center |  5 | 0.028571429 | 0.02873563 |\n",
       "| 2 | Company                   |  8 | 0.045714286 | 0.04597701 |\n",
       "| 3 | Government                |  5 | 0.028571429 | 0.02873563 |\n",
       "| 4 | Medical                   | 10 | 0.057142857 | 0.05747126 |\n",
       "| 5 | Other                     |  7 | 0.040000000 | 0.04022989 |\n",
       "| 6 | Other Academic            | 18 | 0.102857143 | 0.10344828 |\n",
       "| 7 | R1                        | 91 | 0.520000000 | 0.52298851 |\n",
       "| 8 | R2                        | 30 | 0.171428571 | 0.17241379 |\n",
       "| 9 | NA                        |  1 | 0.005714286 |         NA |\n",
       "\n"
      ],
      "text/plain": [
       "  institution_type          n  percent     valid_percent\n",
       "1 Academic Computing Center  5 0.028571429 0.02873563   \n",
       "2 Company                    8 0.045714286 0.04597701   \n",
       "3 Government                 5 0.028571429 0.02873563   \n",
       "4 Medical                   10 0.057142857 0.05747126   \n",
       "5 Other                      7 0.040000000 0.04022989   \n",
       "6 Other Academic            18 0.102857143 0.10344828   \n",
       "7 R1                        91 0.520000000 0.52298851   \n",
       "8 R2                        30 0.171428571 0.17241379   \n",
       "9 NA                         1 0.005714286         NA   "
      ]
     },
     "metadata": {},
     "output_type": "display_data"
    }
   ],
   "source": [
    "institutions %>%\n",
    "  distinct(institution_code, .keep_all=TRUE) %>%\n",
    "  tabyl(institution_type)"
   ]
  },
  {
   "cell_type": "code",
   "execution_count": 8,
   "id": "4f2e89fd-12db-47d0-9b61-3f5334aad1c3",
   "metadata": {},
   "outputs": [
    {
     "data": {
      "text/html": [
       "<table class=\"dataframe\">\n",
       "<caption>A tibble: 1 × 2</caption>\n",
       "<thead>\n",
       "\t<tr><th scope=col>median(n)</th><th scope=col>max(n)</th></tr>\n",
       "\t<tr><th scope=col>&lt;dbl&gt;</th><th scope=col>&lt;int&gt;</th></tr>\n",
       "</thead>\n",
       "<tbody>\n",
       "\t<tr><td>2</td><td>26</td></tr>\n",
       "</tbody>\n",
       "</table>\n"
      ],
      "text/latex": [
       "A tibble: 1 × 2\n",
       "\\begin{tabular}{ll}\n",
       " median(n) & max(n)\\\\\n",
       " <dbl> & <int>\\\\\n",
       "\\hline\n",
       "\t 2 & 26\\\\\n",
       "\\end{tabular}\n"
      ],
      "text/markdown": [
       "\n",
       "A tibble: 1 × 2\n",
       "\n",
       "| median(n) &lt;dbl&gt; | max(n) &lt;int&gt; |\n",
       "|---|---|\n",
       "| 2 | 26 |\n",
       "\n"
      ],
      "text/plain": [
       "  median(n) max(n)\n",
       "1 2         26    "
      ]
     },
     "metadata": {},
     "output_type": "display_data"
    }
   ],
   "source": [
    "institutions %>%\n",
    "  filter(!is.na(institution_code)) %>%\n",
    "  count(institution_code) %>%\n",
    "  summarize(median(n),\n",
    "            max(n))"
   ]
  },
  {
   "cell_type": "markdown",
   "id": "362840db-e673-4148-a1cf-9616670b87fc",
   "metadata": {},
   "source": [
    "R1/R2"
   ]
  },
  {
   "cell_type": "code",
   "execution_count": 9,
   "id": "f05851cc-6ccf-422d-8e31-9b0c7bead4a3",
   "metadata": {},
   "outputs": [
    {
     "data": {
      "text/html": [
       "<table class=\"dataframe\">\n",
       "<caption>A tibble: 1 × 2</caption>\n",
       "<thead>\n",
       "\t<tr><th scope=col>R1_respondents</th><th scope=col>R1_inst</th></tr>\n",
       "\t<tr><th scope=col>&lt;dbl&gt;</th><th scope=col>&lt;dbl&gt;</th></tr>\n",
       "</thead>\n",
       "<tbody>\n",
       "\t<tr><td>0.8163717</td><td>0.6319444</td></tr>\n",
       "</tbody>\n",
       "</table>\n"
      ],
      "text/latex": [
       "A tibble: 1 × 2\n",
       "\\begin{tabular}{ll}\n",
       " R1\\_respondents & R1\\_inst\\\\\n",
       " <dbl> & <dbl>\\\\\n",
       "\\hline\n",
       "\t 0.8163717 & 0.6319444\\\\\n",
       "\\end{tabular}\n"
      ],
      "text/markdown": [
       "\n",
       "A tibble: 1 × 2\n",
       "\n",
       "| R1_respondents &lt;dbl&gt; | R1_inst &lt;dbl&gt; |\n",
       "|---|---|\n",
       "| 0.8163717 | 0.6319444 |\n",
       "\n"
      ],
      "text/plain": [
       "  R1_respondents R1_inst  \n",
       "1 0.8163717      0.6319444"
      ]
     },
     "metadata": {},
     "output_type": "display_data"
    }
   ],
   "source": [
    "institutions %>%\n",
    "  filter(academic_institution) %>%\n",
    "  summarize(R1_respondents = sum(institution_type == \"R1\")/n(),\n",
    "            R1_inst = n_distinct(institution_code[institution_type == \"R1\"])/n_distinct(institution_code))"
   ]
  },
  {
   "cell_type": "markdown",
   "id": "1d80d028-473f-4f08-b04e-75c1225cd9dd",
   "metadata": {},
   "source": [
    "Respondents"
   ]
  },
  {
   "cell_type": "code",
   "execution_count": 10,
   "id": "7c524eb0-f7f4-4c44-be79-85290dc38ba8",
   "metadata": {},
   "outputs": [
    {
     "data": {
      "text/html": [
       "<table class=\"dataframe\">\n",
       "<caption>A spec_tbl_df: 2 × 4</caption>\n",
       "<thead>\n",
       "\t<tr><th scope=col>variable</th><th scope=col>category</th><th scope=col>n</th><th scope=col>prop</th></tr>\n",
       "\t<tr><th scope=col>&lt;chr&gt;</th><th scope=col>&lt;chr&gt;</th><th scope=col>&lt;dbl&gt;</th><th scope=col>&lt;dbl&gt;</th></tr>\n",
       "</thead>\n",
       "<tbody>\n",
       "\t<tr><td>rcd_employed</td><td>No/No Answer</td><td> 24</td><td>0.04262877</td></tr>\n",
       "\t<tr><td>rcd_employed</td><td>Yes         </td><td>539</td><td>0.95737123</td></tr>\n",
       "</tbody>\n",
       "</table>\n"
      ],
      "text/latex": [
       "A spec\\_tbl\\_df: 2 × 4\n",
       "\\begin{tabular}{llll}\n",
       " variable & category & n & prop\\\\\n",
       " <chr> & <chr> & <dbl> & <dbl>\\\\\n",
       "\\hline\n",
       "\t rcd\\_employed & No/No Answer &  24 & 0.04262877\\\\\n",
       "\t rcd\\_employed & Yes          & 539 & 0.95737123\\\\\n",
       "\\end{tabular}\n"
      ],
      "text/markdown": [
       "\n",
       "A spec_tbl_df: 2 × 4\n",
       "\n",
       "| variable &lt;chr&gt; | category &lt;chr&gt; | n &lt;dbl&gt; | prop &lt;dbl&gt; |\n",
       "|---|---|---|---|\n",
       "| rcd_employed | No/No Answer |  24 | 0.04262877 |\n",
       "| rcd_employed | Yes          | 539 | 0.95737123 |\n",
       "\n"
      ],
      "text/plain": [
       "  variable     category     n   prop      \n",
       "1 rcd_employed No/No Answer  24 0.04262877\n",
       "2 rcd_employed Yes          539 0.95737123"
      ]
     },
     "metadata": {},
     "output_type": "display_data"
    }
   ],
   "source": [
    "filter(all_freq, variable == \"rcd_employed\")"
   ]
  },
  {
   "cell_type": "code",
   "execution_count": 11,
   "id": "312e0249-b251-46e3-aafa-a0c28757665b",
   "metadata": {},
   "outputs": [
    {
     "data": {
      "text/html": [
       "0.86078431372549"
      ],
      "text/latex": [
       "0.86078431372549"
      ],
      "text/markdown": [
       "0.86078431372549"
      ],
      "text/plain": [
       "[1] 0.8607843"
      ]
     },
     "metadata": {},
     "output_type": "display_data"
    }
   ],
   "source": [
    "sum(rcd_edu_work$academic_institution, na.rm=TRUE)/sum(!is.na(rcd_edu_work$academic_institution))"
   ]
  },
  {
   "cell_type": "markdown",
   "id": "ef160903-0c7e-492b-87a6-a671cbc4938c",
   "metadata": {},
   "source": [
    "## 4.1 Demographics\n",
    "\n",
    "### Age"
   ]
  },
  {
   "cell_type": "code",
   "execution_count": 12,
   "id": "b11f1fe7-5e7d-405d-84cd-372f9e2fd458",
   "metadata": {},
   "outputs": [
    {
     "data": {
      "text/html": [
       "<table class=\"dataframe\">\n",
       "<caption>A spec_tbl_df: 6 × 4</caption>\n",
       "<thead>\n",
       "\t<tr><th scope=col>variable</th><th scope=col>category</th><th scope=col>n</th><th scope=col>prop</th></tr>\n",
       "\t<tr><th scope=col>&lt;chr&gt;</th><th scope=col>&lt;chr&gt;</th><th scope=col>&lt;dbl&gt;</th><th scope=col>&lt;dbl&gt;</th></tr>\n",
       "</thead>\n",
       "<tbody>\n",
       "\t<tr><td>age</td><td>20 - 24</td><td> 11</td><td>0.01953819</td></tr>\n",
       "\t<tr><td>age</td><td>25 - 34</td><td> 96</td><td>0.17051510</td></tr>\n",
       "\t<tr><td>age</td><td>35 - 44</td><td>167</td><td>0.29662522</td></tr>\n",
       "\t<tr><td>age</td><td>45 - 54</td><td>171</td><td>0.30373002</td></tr>\n",
       "\t<tr><td>age</td><td>55 - 64</td><td> 99</td><td>0.17584369</td></tr>\n",
       "\t<tr><td>age</td><td>65 - 74</td><td> 19</td><td>0.03374778</td></tr>\n",
       "</tbody>\n",
       "</table>\n"
      ],
      "text/latex": [
       "A spec\\_tbl\\_df: 6 × 4\n",
       "\\begin{tabular}{llll}\n",
       " variable & category & n & prop\\\\\n",
       " <chr> & <chr> & <dbl> & <dbl>\\\\\n",
       "\\hline\n",
       "\t age & 20 - 24 &  11 & 0.01953819\\\\\n",
       "\t age & 25 - 34 &  96 & 0.17051510\\\\\n",
       "\t age & 35 - 44 & 167 & 0.29662522\\\\\n",
       "\t age & 45 - 54 & 171 & 0.30373002\\\\\n",
       "\t age & 55 - 64 &  99 & 0.17584369\\\\\n",
       "\t age & 65 - 74 &  19 & 0.03374778\\\\\n",
       "\\end{tabular}\n"
      ],
      "text/markdown": [
       "\n",
       "A spec_tbl_df: 6 × 4\n",
       "\n",
       "| variable &lt;chr&gt; | category &lt;chr&gt; | n &lt;dbl&gt; | prop &lt;dbl&gt; |\n",
       "|---|---|---|---|\n",
       "| age | 20 - 24 |  11 | 0.01953819 |\n",
       "| age | 25 - 34 |  96 | 0.17051510 |\n",
       "| age | 35 - 44 | 167 | 0.29662522 |\n",
       "| age | 45 - 54 | 171 | 0.30373002 |\n",
       "| age | 55 - 64 |  99 | 0.17584369 |\n",
       "| age | 65 - 74 |  19 | 0.03374778 |\n",
       "\n"
      ],
      "text/plain": [
       "  variable category n   prop      \n",
       "1 age      20 - 24   11 0.01953819\n",
       "2 age      25 - 34   96 0.17051510\n",
       "3 age      35 - 44  167 0.29662522\n",
       "4 age      45 - 54  171 0.30373002\n",
       "5 age      55 - 64   99 0.17584369\n",
       "6 age      65 - 74   19 0.03374778"
      ]
     },
     "metadata": {},
     "output_type": "display_data"
    }
   ],
   "source": [
    "filter(all_freq, variable==\"age\")"
   ]
  },
  {
   "cell_type": "markdown",
   "id": "54c50d3d-cb78-4121-88ea-1d3cacf3cf1d",
   "metadata": {},
   "source": [
    "### Race/Ethnicity"
   ]
  },
  {
   "cell_type": "code",
   "execution_count": 14,
   "id": "94cbb904-69c7-4416-9ca7-4d97c688c264",
   "metadata": {},
   "outputs": [
    {
     "data": {
      "text/html": [
       "<table class=\"dataframe\">\n",
       "<caption>A spec_tbl_df: 6 × 4</caption>\n",
       "<thead>\n",
       "\t<tr><th scope=col>variable</th><th scope=col>category</th><th scope=col>n</th><th scope=col>prop</th></tr>\n",
       "\t<tr><th scope=col>&lt;chr&gt;</th><th scope=col>&lt;chr&gt;</th><th scope=col>&lt;dbl&gt;</th><th scope=col>&lt;dbl&gt;</th></tr>\n",
       "</thead>\n",
       "<tbody>\n",
       "\t<tr><td>ethnicity1</td><td>Asian                                                                                             </td><td> 59</td><td>0.10479574</td></tr>\n",
       "\t<tr><td>ethnicity1</td><td>Black or African American                                                                         </td><td> 10</td><td>0.01776199</td></tr>\n",
       "\t<tr><td>ethnicity1</td><td>Multiple/Native Hawaiian or Pacific Islander/Jewish/Middle Eastern/Mediterranean/Other Unspecified</td><td> 15</td><td>0.02664298</td></tr>\n",
       "\t<tr><td>ethnicity1</td><td>White (Hispanic)                                                                                  </td><td>  9</td><td>0.01598579</td></tr>\n",
       "\t<tr><td>ethnicity1</td><td>White (Not Hispanic)                                                                              </td><td>435</td><td>0.77264654</td></tr>\n",
       "\t<tr><td>ethnicity1</td><td>NA                                                                                                </td><td> 35</td><td>0.06216696</td></tr>\n",
       "</tbody>\n",
       "</table>\n"
      ],
      "text/latex": [
       "A spec\\_tbl\\_df: 6 × 4\n",
       "\\begin{tabular}{llll}\n",
       " variable & category & n & prop\\\\\n",
       " <chr> & <chr> & <dbl> & <dbl>\\\\\n",
       "\\hline\n",
       "\t ethnicity1 & Asian                                                                                              &  59 & 0.10479574\\\\\n",
       "\t ethnicity1 & Black or African American                                                                          &  10 & 0.01776199\\\\\n",
       "\t ethnicity1 & Multiple/Native Hawaiian or Pacific Islander/Jewish/Middle Eastern/Mediterranean/Other Unspecified &  15 & 0.02664298\\\\\n",
       "\t ethnicity1 & White (Hispanic)                                                                                   &   9 & 0.01598579\\\\\n",
       "\t ethnicity1 & White (Not Hispanic)                                                                               & 435 & 0.77264654\\\\\n",
       "\t ethnicity1 & NA                                                                                                 &  35 & 0.06216696\\\\\n",
       "\\end{tabular}\n"
      ],
      "text/markdown": [
       "\n",
       "A spec_tbl_df: 6 × 4\n",
       "\n",
       "| variable &lt;chr&gt; | category &lt;chr&gt; | n &lt;dbl&gt; | prop &lt;dbl&gt; |\n",
       "|---|---|---|---|\n",
       "| ethnicity1 | Asian                                                                                              |  59 | 0.10479574 |\n",
       "| ethnicity1 | Black or African American                                                                          |  10 | 0.01776199 |\n",
       "| ethnicity1 | Multiple/Native Hawaiian or Pacific Islander/Jewish/Middle Eastern/Mediterranean/Other Unspecified |  15 | 0.02664298 |\n",
       "| ethnicity1 | White (Hispanic)                                                                                   |   9 | 0.01598579 |\n",
       "| ethnicity1 | White (Not Hispanic)                                                                               | 435 | 0.77264654 |\n",
       "| ethnicity1 | NA                                                                                                 |  35 | 0.06216696 |\n",
       "\n"
      ],
      "text/plain": [
       "  variable  \n",
       "1 ethnicity1\n",
       "2 ethnicity1\n",
       "3 ethnicity1\n",
       "4 ethnicity1\n",
       "5 ethnicity1\n",
       "6 ethnicity1\n",
       "  category                                                                                          \n",
       "1 Asian                                                                                             \n",
       "2 Black or African American                                                                         \n",
       "3 Multiple/Native Hawaiian or Pacific Islander/Jewish/Middle Eastern/Mediterranean/Other Unspecified\n",
       "4 White (Hispanic)                                                                                  \n",
       "5 White (Not Hispanic)                                                                              \n",
       "6 NA                                                                                                \n",
       "  n   prop      \n",
       "1  59 0.10479574\n",
       "2  10 0.01776199\n",
       "3  15 0.02664298\n",
       "4   9 0.01598579\n",
       "5 435 0.77264654\n",
       "6  35 0.06216696"
      ]
     },
     "metadata": {},
     "output_type": "display_data"
    }
   ],
   "source": [
    "filter(all_freq, variable==\"ethnicity1\")"
   ]
  },
  {
   "cell_type": "code",
   "execution_count": 15,
   "id": "8f783497-a3ac-4908-9864-30b4486e3aaa",
   "metadata": {},
   "outputs": [
    {
     "data": {
      "text/html": [
       "<table class=\"dataframe\">\n",
       "<caption>A spec_tbl_df: 3 × 4</caption>\n",
       "<thead>\n",
       "\t<tr><th scope=col>variable</th><th scope=col>category</th><th scope=col>n</th><th scope=col>prop</th></tr>\n",
       "\t<tr><th scope=col>&lt;chr&gt;</th><th scope=col>&lt;chr&gt;</th><th scope=col>&lt;dbl&gt;</th><th scope=col>&lt;dbl&gt;</th></tr>\n",
       "</thead>\n",
       "<tbody>\n",
       "\t<tr><td>hispanic</td><td>FALSE</td><td>516</td><td>0.91651865</td></tr>\n",
       "\t<tr><td>hispanic</td><td>TRUE </td><td> 13</td><td>0.02309059</td></tr>\n",
       "\t<tr><td>hispanic</td><td>NA   </td><td> 34</td><td>0.06039076</td></tr>\n",
       "</tbody>\n",
       "</table>\n"
      ],
      "text/latex": [
       "A spec\\_tbl\\_df: 3 × 4\n",
       "\\begin{tabular}{llll}\n",
       " variable & category & n & prop\\\\\n",
       " <chr> & <chr> & <dbl> & <dbl>\\\\\n",
       "\\hline\n",
       "\t hispanic & FALSE & 516 & 0.91651865\\\\\n",
       "\t hispanic & TRUE  &  13 & 0.02309059\\\\\n",
       "\t hispanic & NA    &  34 & 0.06039076\\\\\n",
       "\\end{tabular}\n"
      ],
      "text/markdown": [
       "\n",
       "A spec_tbl_df: 3 × 4\n",
       "\n",
       "| variable &lt;chr&gt; | category &lt;chr&gt; | n &lt;dbl&gt; | prop &lt;dbl&gt; |\n",
       "|---|---|---|---|\n",
       "| hispanic | FALSE | 516 | 0.91651865 |\n",
       "| hispanic | TRUE  |  13 | 0.02309059 |\n",
       "| hispanic | NA    |  34 | 0.06039076 |\n",
       "\n"
      ],
      "text/plain": [
       "  variable category n   prop      \n",
       "1 hispanic FALSE    516 0.91651865\n",
       "2 hispanic TRUE      13 0.02309059\n",
       "3 hispanic NA        34 0.06039076"
      ]
     },
     "metadata": {},
     "output_type": "display_data"
    }
   ],
   "source": [
    "filter(all_freq, variable==\"hispanic\")"
   ]
  },
  {
   "cell_type": "code",
   "execution_count": null,
   "id": "1d6cee59-6ffd-4868-bf52-25214e12993e",
   "metadata": {},
   "outputs": [],
   "source": []
  }
 ],
 "metadata": {
  "kernelspec": {
   "display_name": "R",
   "language": "R",
   "name": "ir"
  },
  "language_info": {
   "codemirror_mode": "r",
   "file_extension": ".r",
   "mimetype": "text/x-r-source",
   "name": "R",
   "pygments_lexer": "r",
   "version": "4.2.0"
  }
 },
 "nbformat": 4,
 "nbformat_minor": 5
}
